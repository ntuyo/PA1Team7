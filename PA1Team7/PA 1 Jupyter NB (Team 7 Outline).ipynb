{
 "cells": [
  {
   "cell_type": "markdown",
   "metadata": {},
   "source": [
    "# PA 1 Jupyter NB (Team 7 Outline)"
   ]
  },
  {
   "cell_type": "code",
   "execution_count": 2,
   "metadata": {},
   "outputs": [],
   "source": [
    "import json"
   ]
  },
  {
   "cell_type": "code",
   "execution_count": 1,
   "metadata": {},
   "outputs": [
    {
     "ename": "NameError",
     "evalue": "name 'json' is not defined",
     "output_type": "error",
     "traceback": [
      "\u001b[1;31m---------------------------------------------------------------------------\u001b[0m",
      "\u001b[1;31mNameError\u001b[0m                                 Traceback (most recent call last)",
      "Input \u001b[1;32mIn [1]\u001b[0m, in \u001b[0;36m<module>\u001b[1;34m\u001b[0m\n\u001b[0;32m      1\u001b[0m \u001b[38;5;28;01mwith\u001b[39;00m \u001b[38;5;28mopen\u001b[39m(\u001b[38;5;124m\"\u001b[39m\u001b[38;5;124mcourses20-21.json\u001b[39m\u001b[38;5;124m\"\u001b[39m,\u001b[38;5;124m\"\u001b[39m\u001b[38;5;124mr\u001b[39m\u001b[38;5;124m\"\u001b[39m,encoding\u001b[38;5;241m=\u001b[39m\u001b[38;5;124m'\u001b[39m\u001b[38;5;124mutf-8\u001b[39m\u001b[38;5;124m'\u001b[39m) \u001b[38;5;28;01mas\u001b[39;00m jsonfile:\n\u001b[1;32m----> 2\u001b[0m     courses \u001b[38;5;241m=\u001b[39m \u001b[43mjson\u001b[49m\u001b[38;5;241m.\u001b[39mload(jsonfile)\n",
      "\u001b[1;31mNameError\u001b[0m: name 'json' is not defined"
     ]
    }
   ],
   "source": [
    "with open(\"courses20-21.json\",\"r\",encoding='utf-8') as jsonfile:\n",
    "    courses = json.load(jsonfile)"
   ]
  },
  {
   "cell_type": "markdown",
   "metadata": {},
   "source": [
    "## Structure of a course\n",
    "Next we look at the fields of each course dictionary and their values"
   ]
  },
  {
   "cell_type": "code",
   "execution_count": 4,
   "metadata": {},
   "outputs": [
    {
     "name": "stdout",
     "output_type": "stream",
     "text": [
      "there are 7813 courses in the dataset\n",
      "here is the data for course 1246\n"
     ]
    },
    {
     "data": {
      "text/plain": [
       "{'limit': 28,\n",
       " 'times': [{'start': 1080, 'end': 1170, 'days': ['w', 'm']}],\n",
       " 'enrolled': 4,\n",
       " 'details': 'Instruction for this course will be offered remotely. Meeting times for this course are listed in the schedule of classes (in ET).',\n",
       " 'type': 'section',\n",
       " 'status_text': 'Open',\n",
       " 'section': '1',\n",
       " 'waiting': 0,\n",
       " 'instructor': ['An', 'Huang', 'anhuang@brandeis.edu'],\n",
       " 'coinstructors': [],\n",
       " 'code': ['MATH', '223A'],\n",
       " 'subject': 'MATH',\n",
       " 'coursenum': '223A',\n",
       " 'name': 'Lie Algebras: Representation Theory',\n",
       " 'independent_study': False,\n",
       " 'term': '1203',\n",
       " 'description': \"Theorems of Engel and Lie. Semisimple Lie algebras, Cartan's criterion. Universal enveloping algebras, PBW theorem, Serre's construction. Representation theory. Other topics as time permits. Usually offered every second year.\\nAn Huang\"}"
      ]
     },
     "execution_count": 4,
     "metadata": {},
     "output_type": "execute_result"
    }
   ],
   "source": [
    "print('there are',len(courses),'courses in the dataset')\n",
    "print('here is the data for course 1246')\n",
    "courses[1246]"
   ]
  },
  {
   "cell_type": "markdown",
   "metadata": {},
   "source": [
    "## Cleaning the data\n",
    "If we want to sort courses by instructor or by code, we need to replace the lists with tuples (which are immutable lists)"
   ]
  },
  {
   "cell_type": "code",
   "execution_count": 5,
   "metadata": {},
   "outputs": [],
   "source": [
    "for course in courses:\n",
    "        course['instructor'] = tuple(course['instructor'])\n",
    "        course['coinstructors'] = tuple([tuple(f) for f in course['coinstructors']])\n",
    "        course['code']= tuple(course['code'])"
   ]
  },
  {
   "cell_type": "code",
   "execution_count": 6,
   "metadata": {},
   "outputs": [
    {
     "name": "stdout",
     "output_type": "stream",
     "text": [
      "notice that the instructor and code are tuples now\n"
     ]
    },
    {
     "data": {
      "text/plain": [
       "{'limit': 28,\n",
       " 'times': [{'start': 1080, 'end': 1170, 'days': ['w', 'm']}],\n",
       " 'enrolled': 4,\n",
       " 'details': 'Instruction for this course will be offered remotely. Meeting times for this course are listed in the schedule of classes (in ET).',\n",
       " 'type': 'section',\n",
       " 'status_text': 'Open',\n",
       " 'section': '1',\n",
       " 'waiting': 0,\n",
       " 'instructor': ('An', 'Huang', 'anhuang@brandeis.edu'),\n",
       " 'coinstructors': (),\n",
       " 'code': ('MATH', '223A'),\n",
       " 'subject': 'MATH',\n",
       " 'coursenum': '223A',\n",
       " 'name': 'Lie Algebras: Representation Theory',\n",
       " 'independent_study': False,\n",
       " 'term': '1203',\n",
       " 'description': \"Theorems of Engel and Lie. Semisimple Lie algebras, Cartan's criterion. Universal enveloping algebras, PBW theorem, Serre's construction. Representation theory. Other topics as time permits. Usually offered every second year.\\nAn Huang\"}"
      ]
     },
     "execution_count": 6,
     "metadata": {},
     "output_type": "execute_result"
    }
   ],
   "source": [
    "print('notice that the instructor and code are tuples now')\n",
    "courses[1246]"
   ]
  },
  {
   "cell_type": "markdown",
   "metadata": {},
   "source": [
    "# Exploring the data set\n",
    "Now we will show how to use straight python to explore the data set and answer some interesting questions. Next week we will start learning Pandas/Numpy which are packages that make it easier to explore large dataset efficiently.\n",
    "\n",
    "Here are some questions we can try to asnwer:\n",
    "* what are all of the subjects of courses (e.g. COSI, MATH, JAPN, PHIL, ...)\n",
    "* which terms are represented?\n",
    "* how many instructors taught at Brandeis last year?\n",
    "* what were the five largest course sections?\n",
    "* what were the five largest courses (where we combine sections)?\n",
    "* which are the five largest subjects measured by number of courses offered?\n",
    "* which are the five largest courses measured by number of students taught?\n",
    "* which course had the most sections taught in 20-21?\n",
    "* who are the top five faculty in terms of number of students taught?\n",
    "* etc."
   ]
  },
  {
   "cell_type": "code",
   "execution_count": 7,
   "metadata": {},
   "outputs": [
    {
     "data": {
      "text/plain": [
       "120"
      ]
     },
     "execution_count": 7,
     "metadata": {},
     "output_type": "execute_result"
    }
   ],
   "source": [
    "# number of subjects\n",
    "len({c['subject'] for c in courses})"
   ]
  },
  {
   "cell_type": "code",
   "execution_count": 8,
   "metadata": {},
   "outputs": [
    {
     "data": {
      "text/plain": [
       "904"
      ]
     },
     "execution_count": 8,
     "metadata": {},
     "output_type": "execute_result"
    }
   ],
   "source": [
    "# instructors\n",
    "len({c['instructor'] for c in courses})"
   ]
  },
  {
   "cell_type": "markdown",
   "metadata": {},
   "source": [
    "A. How many faculty taught COSI courses last year?"
   ]
  },
  {
   "cell_type": "code",
   "execution_count": 9,
   "metadata": {},
   "outputs": [],
   "source": [
    "#Completed by Tiffany Huang"
   ]
  },
  {
   "cell_type": "code",
   "execution_count": 10,
   "metadata": {},
   "outputs": [
    {
     "data": {
      "text/plain": [
       "27"
      ]
     },
     "execution_count": 10,
     "metadata": {},
     "output_type": "execute_result"
    }
   ],
   "source": [
    "len({course['instructor'] for course in courses if course['subject'] == 'COSI' })"
   ]
  },
  {
   "cell_type": "markdown",
   "metadata": {},
   "source": [
    "B. What is the total number of students taking COSI courses last year?"
   ]
  },
  {
   "cell_type": "code",
   "execution_count": 11,
   "metadata": {},
   "outputs": [],
   "source": [
    "#Completed by Tiffany Huang"
   ]
  },
  {
   "cell_type": "code",
   "execution_count": 12,
   "metadata": {},
   "outputs": [
    {
     "data": {
      "text/plain": [
       "1950"
      ]
     },
     "execution_count": 12,
     "metadata": {},
     "output_type": "execute_result"
    }
   ],
   "source": [
    "sum({course['enrolled'] for course in courses if course['subject'] == 'COSI'})"
   ]
  },
  {
   "cell_type": "markdown",
   "metadata": {},
   "source": [
    "C. What was the median size of a COSI course last year (counting only those courses with at least 10 students)"
   ]
  },
  {
   "cell_type": "code",
   "execution_count": 13,
   "metadata": {},
   "outputs": [],
   "source": [
    "#Completed by Nazari Tuyo"
   ]
  },
  {
   "cell_type": "code",
   "execution_count": 14,
   "metadata": {},
   "outputs": [
    {
     "data": {
      "text/plain": [
       "47"
      ]
     },
     "execution_count": 14,
     "metadata": {},
     "output_type": "execute_result"
    }
   ],
   "source": [
    "import statistics\n",
    "statistics.median({course['enrolled'] for course in courses if course['subject'] == 'COSI' and course['enrolled'] > 10})"
   ]
  },
  {
   "cell_type": "markdown",
   "metadata": {},
   "source": [
    "D. Create a list of tuples (E,S) where S is a subject and E is the number of students enrolled in courses in that subject, sort it and print the top 10. This shows the top 10 subjects in terms of number of students taught."
   ]
  },
  {
   "cell_type": "code",
   "execution_count": 15,
   "metadata": {},
   "outputs": [],
   "source": [
    "#Completed by Nazari Tuyo"
   ]
  },
  {
   "cell_type": "code",
   "execution_count": 16,
   "metadata": {},
   "outputs": [
    {
     "name": "stdout",
     "output_type": "stream",
     "text": [
      "BIOL\n",
      "BUS\n",
      "HWL\n",
      "CHEM\n",
      "ECON\n",
      "COSI\n",
      "MATH\n",
      "PSYC\n",
      "ANTH\n"
     ]
    }
   ],
   "source": [
    "def return_num(class_tuple):\n",
    "    return class_tuple[1]\n",
    "\n",
    "courses_and_enrollment = {}\n",
    "for course in courses:\n",
    "    if(course['subject'] in courses_and_enrollment):\n",
    "        courses_and_enrollment[course['subject']] += course['enrolled']\n",
    "    else: \n",
    "        courses_and_enrollment[course['subject']] = (course['enrolled']) \n",
    "tuples = [(k, v) for k, v in courses_and_enrollment.items()]\n",
    "tuples.sort(key = return_num, reverse = True)\n",
    "for i in range(1, 10):\n",
    "    print(tuples[i][0])"
   ]
  },
  {
   "cell_type": "markdown",
   "metadata": {},
   "source": [
    "E. Do the same as in (d) but print the top 10 subjects in terms of number of courses offered"
   ]
  },
  {
   "cell_type": "code",
   "execution_count": 17,
   "metadata": {},
   "outputs": [],
   "source": [
    "#Completed by Nazari Tuyo"
   ]
  },
  {
   "cell_type": "code",
   "execution_count": 18,
   "metadata": {},
   "outputs": [
    {
     "name": "stdout",
     "output_type": "stream",
     "text": [
      "HIST\n",
      "PSYC\n",
      "NEUR\n",
      "BCHM\n",
      "PHYS\n",
      "HS\n",
      "COSI\n",
      "MUS\n",
      "ENG\n"
     ]
    }
   ],
   "source": [
    "num_courses_offered = {}\n",
    "for course in courses:\n",
    "    if(course['subject'] in num_courses_offered):\n",
    "        num_courses_offered[course['subject']] += 1\n",
    "    else:\n",
    "        num_courses_offered[course['subject']] = 1\n",
    "\n",
    "num_tuples = [(k, v) for k, v in num_courses_offered.items()]\n",
    "num_tuples.sort(key = return_num, reverse = True)\n",
    "for i in range(1, 10):\n",
    "    print(num_tuples[i][0])"
   ]
  },
  {
   "cell_type": "markdown",
   "metadata": {},
   "source": [
    "F. Do the same as (d) but print the top 10 subjects in terms of number of faculty teaching courses in that subject"
   ]
  },
  {
   "cell_type": "code",
   "execution_count": 19,
   "metadata": {},
   "outputs": [],
   "source": [
    "#Completed by Nazari Tuyo"
   ]
  },
  {
   "cell_type": "code",
   "execution_count": 20,
   "metadata": {},
   "outputs": [
    {
     "name": "stdout",
     "output_type": "stream",
     "text": [
      "('HIST', 498)\n",
      "('PSYC', 417)\n",
      "('NEUR', 403)\n",
      "('BCHM', 296)\n",
      "('PHYS', 288)\n",
      "('HS', 274)\n",
      "('COSI', 272)\n",
      "('MUS', 266)\n",
      "('ENG', 265)\n"
     ]
    }
   ],
   "source": [
    "faculty_subject_offered = {}\n",
    "for course in courses:\n",
    "    if(course['subject'] in faculty_subject_offered):\n",
    "        faculty_subject_offered[course['subject']] += len([course['instructor']])\n",
    "    else:\n",
    "        faculty_subject_offered[course['subject']] = 1\n",
    "\n",
    "num_tuples = [(k, v) for k, v in faculty_subject_offered.items()]\n",
    "num_tuples.sort(key = return_num, reverse = True)\n",
    "for i in range(1, 10):\n",
    "    print(num_tuples[i])"
   ]
  },
  {
   "cell_type": "markdown",
   "metadata": {},
   "source": [
    "G. List the top 20 faculty in terms of number of students they taught"
   ]
  },
  {
   "cell_type": "code",
   "execution_count": 21,
   "metadata": {},
   "outputs": [],
   "source": [
    "#Completed by Tiffany Huang"
   ]
  },
  {
   "cell_type": "code",
   "execution_count": 22,
   "metadata": {},
   "outputs": [
    {
     "name": "stdout",
     "output_type": "stream",
     "text": [
      "('Leah', 'Berkenwald')\n",
      "('Madeleine', 'Witwer-Dukes')\n",
      "('Sarah', 'Berg')\n",
      "('Kene Nathan', 'Piasta')\n",
      "('Stephanie', 'Murray')\n",
      "('Bryan', 'Ingoglia')\n",
      "('Milos', 'Dolnik')\n",
      "('Maria', 'de Boef Miara')\n",
      "('Rachel V.E.', 'Woodruff')\n",
      "('Timothy J', 'Hickey')\n",
      "('Daniel', 'Breen')\n",
      "('Melissa', 'Kosinski-Collins')\n",
      "('Claudia', 'Novack')\n",
      "('Antonella', 'DiLillo')\n",
      "('Jon', 'Chilingerian')\n",
      "('Ahmad', 'Namini')\n",
      "('Iraklis', 'Tsekourakis')\n",
      "('Geoffrey', 'Clarke')\n",
      "('Carole', 'Carlson')\n",
      "('Peter', 'Mistark')\n"
     ]
    }
   ],
   "source": [
    "faculty = [(c['instructor'],c['enrolled']) for c in courses]\n",
    "faculty += [(co,c['enrolled']) for c in courses for co in c['coinstructors']]\n",
    "fcount = {} #dict of teacher and #students\n",
    "\n",
    "for t in faculty:\n",
    "    if t[0] in fcount: #in keyword checks if in dict already\n",
    "        fcount[t[0]] = fcount[t[0]] + t[1] #t[0] = teachers, t[1] = # students, \n",
    "        #if teacher already counted, add t[1] to teacher\n",
    "    else:\n",
    "        fcount[t[0]] = t[1] #if haven't taught students yet, make new value pair for that pairs\n",
    "unsorted = [(k,fcount[k]) for k in fcount.keys()]\n",
    "s = sorted(unsorted,reverse = True, key = lambda x: x[1]) #x[1] = all the students they taught\n",
    "s = [t[0][0:2] for t in s][:20] #[0:2] represents the first name and last name of the professor phew\n",
    "for f in s:\n",
    "    print(f)"
   ]
  },
  {
   "cell_type": "markdown",
   "metadata": {},
   "source": [
    "H. List the top 20 courses in terms of number of students taking that course (where you combine different sections and semesters, i.e. just use the subject and course number)"
   ]
  },
  {
   "cell_type": "code",
   "execution_count": 23,
   "metadata": {},
   "outputs": [],
   "source": [
    "#Completed by Tiffany Huang"
   ]
  },
  {
   "cell_type": "code",
   "execution_count": 24,
   "metadata": {},
   "outputs": [
    {
     "data": {
      "text/plain": [
       "[{'limit': None,\n",
       "  'times': [],\n",
       "  'enrolled': 784,\n",
       "  'details': 'Satisfactory completion required prior to taking the core Navigating Health and Safety module.\\nNoncredit.',\n",
       "  'type': 'section',\n",
       "  'status_text': 'Open Consent Req.',\n",
       "  'section': '1',\n",
       "  'waiting': 0,\n",
       "  'instructor': ('Leah', 'Berkenwald', 'leahb@brandeis.edu'),\n",
       "  'coinstructors': (('Madeleine', 'Witwer-Dukes', 'mwitwerdukes@brandeis.edu'),\n",
       "   ('Sarah', 'Berg', 'sjberg@brandeis.edu')),\n",
       "  'code': ('HWL', '1-PRE'),\n",
       "  'subject': 'HWL',\n",
       "  'coursenum': '1-PRE',\n",
       "  'name': 'Introduction to Navigating Health and Safety',\n",
       "  'independent_study': False,\n",
       "  'term': '1203',\n",
       "  'description': 'Satisfactory completion required prior to taking the core Navigating Health and Safety module.\\n\\nUsually offered every year.\\nStaff'},\n",
       " {'limit': None,\n",
       "  'times': [{'days': ['w', 'm'], 'type': 'Lecture', 'end': 690, 'start': 600},\n",
       "   {'start': 1200, 'end': 1290, 'days': ['th', 'tu'], 'type': 'Recitation'}],\n",
       "  'enrolled': 186,\n",
       "  'details': 'See Course Catalog for prerequisites.\\nAn additional recitation time of Fridays 8:00am-9:30am will be available for those who have a time conflict with the scheduled recitation time.\\nInstruction for this course will be offered remotely. Meeting times for this course are listed in the schedule of classes (in ET).',\n",
       "  'type': 'section',\n",
       "  'status_text': 'Open',\n",
       "  'section': '1',\n",
       "  'waiting': 0,\n",
       "  'instructor': ('Stephanie', 'Murray', 'murray@brandeis.edu'),\n",
       "  'coinstructors': (),\n",
       "  'code': ('CHEM', '25A'),\n",
       "  'subject': 'CHEM',\n",
       "  'coursenum': '25A',\n",
       "  'name': 'Organic Chemistry I',\n",
       "  'independent_study': False,\n",
       "  'term': '1203',\n",
       "  'description': 'Prerequisite: A satisfactory grade (C- or better) in CHEM 11b or 15b or the equivalent. CHEM 25a honors option involves a separate recitation and permission of the instructor to enroll. Students in the honors section will receive a note on their transcript designating the class \"Honors Organic Chemistry.\" Three class hours and one ninety-minute recitation per week. \\n\\nStructure, reactions, preparations, and uses of the compounds of carbon. Usually offered every year.\\nStephanie Murray'},\n",
       " {'limit': 210,\n",
       "  'times': [{'end': 810, 'days': ['w', 'm'], 'start': 720}],\n",
       "  'enrolled': 186,\n",
       "  'details': \"Instructor's Signature Required.\\nSee Course Catalog for prerequisites.\\nInstruction for this course will be offered remotely. Meeting times for this course are listed in the schedule of classes (in ET).\",\n",
       "  'type': 'section',\n",
       "  'status_text': 'Open',\n",
       "  'section': '1',\n",
       "  'waiting': 0,\n",
       "  'instructor': ('Maria', 'de Boef Miara', 'mmiara@brandeis.edu'),\n",
       "  'coinstructors': (),\n",
       "  'code': ('BIOL', '42A'),\n",
       "  'subject': 'BIOL',\n",
       "  'coursenum': '42A',\n",
       "  'name': 'Physiology',\n",
       "  'independent_study': False,\n",
       "  'term': '1203',\n",
       "  'description': 'Prerequisites: BIOL 14a and BIOL 15b.\\n\\nIntroduces basic physiological principles. Topics include the physiology of human nervous and endocrine systems, cardiovascular and respiratory systems, water and  electrolyte regulation, digestion and absorption, the musculoskeletal system, reproduction, and immunology. Usually offered every year.\\nStaff'},\n",
       " {'limit': 410,\n",
       "  'times': [{'start': 1200,\n",
       "    'type': 'Lecture',\n",
       "    'days': ['m', 'w'],\n",
       "    'end': 1290}],\n",
       "  'enrolled': 181,\n",
       "  'details': 'Instruction for this course will be offered remotely. Meeting times for this course are listed in the schedule of classes (in ET).',\n",
       "  'type': 'section',\n",
       "  'status_text': 'Open',\n",
       "  'section': '1',\n",
       "  'waiting': 0,\n",
       "  'instructor': ('Maria', 'de Boef Miara', 'mmiara@brandeis.edu'),\n",
       "  'coinstructors': (),\n",
       "  'code': ('BIOL', '15B'),\n",
       "  'subject': 'BIOL',\n",
       "  'coursenum': '15B',\n",
       "  'name': 'Cells and Organisms',\n",
       "  'independent_study': False,\n",
       "  'term': '1211',\n",
       "  'description': 'Introduces contemporary biology with an emphasis on cells, organs, and organ systems. Topics include the forms and functions of macromolecules, organelles, and cells, the integration of cells into tissues, and the physiology of fundamental life processes. The course is intended to prepare students to understand the biology of everyday life, and to provide a strong foundation for those who continue to study the life sciences. Usually offered every semester.\\nNeil Simister and Maria Miara'},\n",
       " {'limit': 200,\n",
       "  'times': [{'start': 600, 'end': 690, 'days': ['m', 'w'], 'type': 'Lecture'},\n",
       "   {'end': 1290, 'type': 'Recitation', 'days': ['th'], 'start': 1200}],\n",
       "  'enrolled': 180,\n",
       "  'details': 'See Course Catalog for prerequisites.\\nInstruction for this course will be offered remotely. Meeting times for this course are listed in the schedule of classes (in ET).',\n",
       "  'type': 'section',\n",
       "  'status_text': 'Open',\n",
       "  'section': '1',\n",
       "  'waiting': 0,\n",
       "  'instructor': ('Stephanie', 'Murray', 'murray@brandeis.edu'),\n",
       "  'coinstructors': (),\n",
       "  'code': ('CHEM', '25B'),\n",
       "  'subject': 'CHEM',\n",
       "  'coursenum': '25B',\n",
       "  'name': 'Organic Chemistry II',\n",
       "  'independent_study': False,\n",
       "  'term': '1211',\n",
       "  'description': 'Prerequisite: A satisfactory grade (C- or better) in CHEM 25a or its equivalent. CHEM 25b honors option involves a separate recitation and permission of the instructor to enroll. Students in the honors section will receive a note on their transcript designating the class \"Honors Organic Chemistry.\" Three class hours and one ninety-minute recitation per week. \\n\\nA continuation of CHEM 25a. Usually offered every year.\\nStephanie Murray'},\n",
       " {'limit': 200,\n",
       "  'times': [{'days': ['f'], 'type': 'Lecture', 'end': 950, 'start': 840}],\n",
       "  'enrolled': 175,\n",
       "  'details': 'Instruction for this course will be offered remotely. Meeting times for this course are listed in the schedule of classes (in ET).',\n",
       "  'type': 'section',\n",
       "  'status_text': 'Open',\n",
       "  'section': '1',\n",
       "  'waiting': 0,\n",
       "  'instructor': ('Stuart', 'Altman', 'altman@brandeis.edu'),\n",
       "  'coinstructors': (),\n",
       "  'code': ('HS', '104B'),\n",
       "  'subject': 'HS',\n",
       "  'coursenum': '104B',\n",
       "  'name': 'American Health Care',\n",
       "  'independent_study': False,\n",
       "  'term': '1203',\n",
       "  'description': 'Examines and critically analyzes the United States healthcare system, emphasizing the major trends and issues that have led to the current sense of \"crisis.\" In addition to providing a historical perspective, this course will establish a context for analyzing the current, varied approaches to health care reform. Usually offered every year.\\nStuart Altman'},\n",
       " {'limit': 175,\n",
       "  'times': [{'days': ['th', 'tu'], 'end': 570, 'start': 480}],\n",
       "  'enrolled': 170,\n",
       "  'details': 'See Course Catalog for Special Notes.\\nInstruction for this course will be offered remotely. Meeting times for this course are listed in the schedule of classes (in ET).',\n",
       "  'type': 'section',\n",
       "  'status_text': 'Open',\n",
       "  'section': '1',\n",
       "  'waiting': 0,\n",
       "  'instructor': ('Anne S', 'Berry', 'anneberry@brandeis.edu'),\n",
       "  'coinstructors': (),\n",
       "  'code': ('PSYC', '10A'),\n",
       "  'subject': 'PSYC',\n",
       "  'coursenum': '10A',\n",
       "  'name': 'Introduction to Psychology',\n",
       "  'independent_study': False,\n",
       "  'term': '1211',\n",
       "  'description': 'PSYC 10a is the introductory course for Psychology majors and is a prerequisite for most other courses in the major. \\n\\nA survey of contemporary psychology. Topics include brain and behavior, perception, memory, learning, cognitive processes, plasticity, intelligence, child and adult development, personality, social behavior, and the relationship between normal and abnormal behavior. Usually offered every semester.\\nAnne Berry and James Howard'},\n",
       " {'limit': 175,\n",
       "  'times': [{'days': ['tu', 'th'], 'end': 570, 'start': 480}],\n",
       "  'enrolled': 166,\n",
       "  'details': 'See Course Catalog for Special Notes.\\nFormerly offered as PSYC 1a. PSYC 10a is the introductory course for Psychology majors and is a prerequisite for most other courses in the major.\\nInstruction for this course will be offered remotely. Meeting times for this course are listed in the schedule of classes (in ET).',\n",
       "  'type': 'section',\n",
       "  'status_text': 'Open',\n",
       "  'section': '1',\n",
       "  'waiting': 0,\n",
       "  'instructor': ('Ellen J', 'Wright', 'ejwright@brandeis.edu'),\n",
       "  'coinstructors': (),\n",
       "  'code': ('PSYC', '10A'),\n",
       "  'subject': 'PSYC',\n",
       "  'coursenum': '10A',\n",
       "  'name': 'Introduction to Psychology',\n",
       "  'independent_study': False,\n",
       "  'term': '1203',\n",
       "  'description': 'PSYC 10a is the introductory course for Psychology majors and is a prerequisite for most other courses in the major. \\n\\nA survey of contemporary psychology. Topics include brain and behavior, perception, memory, learning, cognitive processes, plasticity, intelligence, child and adult development, personality, social behavior, and the relationship between normal and abnormal behavior. Usually offered every semester.\\nAnne Berry and James Howard'},\n",
       " {'limit': None,\n",
       "  'times': [{'start': 480, 'end': 570, 'days': ['w', 'm']}],\n",
       "  'enrolled': 166,\n",
       "  'details': 'See Course Catalog for prerequisites.\\nInstruction for this course will be offered remotely. Meeting times for this course are listed in the schedule of classes (in ET).',\n",
       "  'type': 'section',\n",
       "  'status_text': 'Open',\n",
       "  'section': '1',\n",
       "  'waiting': 0,\n",
       "  'instructor': ('Timothy J', 'Hickey', 'tjhickey@brandeis.edu'),\n",
       "  'coinstructors': (),\n",
       "  'code': ('COSI', '164A'),\n",
       "  'subject': 'COSI',\n",
       "  'coursenum': '164A',\n",
       "  'name': 'Introduction to 3-D Animation',\n",
       "  'independent_study': False,\n",
       "  'term': '1203',\n",
       "  'description': 'May not be taken for credit by students who took COSI 65a in prior years.\\n\\nCovers the fundamental concepts of 3-D animation and teaches both the theory underlying 3-D animation as well as the skills needed to create 3-D movies. Students demonstrate their understanding of the concepts by creating several short animated movies. Usually offered every third year.\\nTimothy Hickey'},\n",
       " {'limit': 200,\n",
       "  'times': [{'start': 480, 'days': ['w', 'm'], 'end': 570},\n",
       "   {'end': 720, 'type': 'Recitation', 'days': ['f'], 'start': 480}],\n",
       "  'enrolled': 150,\n",
       "  'details': 'Instruction for this course will be offered remotely. Meeting times for this course are listed in the schedule of classes (in ET).',\n",
       "  'type': 'section',\n",
       "  'status_text': 'Open',\n",
       "  'section': '1',\n",
       "  'waiting': 0,\n",
       "  'instructor': ('Timothy J', 'Hickey', 'tjhickey@brandeis.edu'),\n",
       "  'coinstructors': (),\n",
       "  'code': ('COSI', '10A'),\n",
       "  'subject': 'COSI',\n",
       "  'coursenum': '10A',\n",
       "  'name': 'Introduction to Problem Solving in Python',\n",
       "  'independent_study': False,\n",
       "  'term': '1211',\n",
       "  'description': 'Open only to students with no previous programing background. Students may not take COSI 10a if they have received a satisfactory grade in COSI 12b or COSI 21a. May not be taken for credit by students who took COSI 11a in prior years. Does not meet the requirements for the major or minor in Computer Science.\\n\\nIntroduces computer programming and related computer science principles. Through programming, students will develop fundamental skills such as abstract reasoning and problem solving. Students will master programming techniques using the Python programming language and will develop good program design methodology resulting in correct, robust, and maintainable programs. Usually offered every semester.\\nStaff'},\n",
       " {'limit': None,\n",
       "  'times': [{'start': 1080, 'end': 1170, 'days': ['th', 'tu']}],\n",
       "  'enrolled': 145,\n",
       "  'details': 'Required sections Wed. 7-8pm or Thurs. 9-10am. Students with academic conflicts on Wednesday evenings will be assigned to the Thursday sections.\\nInstruction for this course will be offered remotely. Meeting times for this course are listed in the schedule of classes (in ET).',\n",
       "  'type': 'section',\n",
       "  'status_text': 'Open',\n",
       "  'section': '1',\n",
       "  'waiting': 0,\n",
       "  'instructor': ('Daniel', 'Breen', 'dbreen91@brandeis.edu'),\n",
       "  'coinstructors': (),\n",
       "  'code': ('LGLS', '10A'),\n",
       "  'subject': 'LGLS',\n",
       "  'coursenum': '10A',\n",
       "  'name': 'Introduction to Law',\n",
       "  'independent_study': False,\n",
       "  'term': '1203',\n",
       "  'description': 'Surveys the nature, process, and institutions of law: the reasoning of lawyers and judges, the interplay of cases and policies, the impact of history and culture, and the ideals of justice and responsibility in a global context. Usually offered every fall.\\nDaniel Breen'},\n",
       " {'limit': None,\n",
       "  'times': [{'start': 750, 'days': ['f'], 'end': 920},\n",
       "   {'days': ['tu', 'th'], 'end': 690, 'start': 600}],\n",
       "  'enrolled': 141,\n",
       "  'details': 'Instruction for this course will be offered remotely. Meeting times for this course are listed in the schedule of classes (in ET).',\n",
       "  'type': 'section',\n",
       "  'status_text': 'Open',\n",
       "  'section': '1',\n",
       "  'waiting': 0,\n",
       "  'instructor': ('Dan L', 'Perlman', 'perlman@brandeis.edu'),\n",
       "  'coinstructors': (),\n",
       "  'code': ('ENVS', '2A'),\n",
       "  'subject': 'ENVS',\n",
       "  'coursenum': '2A',\n",
       "  'name': 'Fundamentals of Environmental Challenges',\n",
       "  'independent_study': False,\n",
       "  'term': '1203',\n",
       "  'description': 'Provides a broad interdisciplinary introduction to environmental studies. Examines several key environmental challenges including climate change, biodiversity loss, sustainable agriculture, and pollutants through an array of lenses from the natural and social sciences. Usually offered every year.\\nDan Perlman'},\n",
       " {'limit': 210,\n",
       "  'times': [{'start': 480, 'end': 570, 'days': ['m', 'w']}],\n",
       "  'enrolled': 136,\n",
       "  'details': 'Instruction for this course will be offered remotely. Meeting times for this course are listed in the schedule of classes (in ET).',\n",
       "  'type': 'section',\n",
       "  'status_text': 'Open',\n",
       "  'section': '2',\n",
       "  'waiting': 0,\n",
       "  'instructor': ('Colleen', 'Hitchcock', 'hitchcock@brandeis.edu'),\n",
       "  'coinstructors': (),\n",
       "  'code': ('BIOL', '16A'),\n",
       "  'subject': 'BIOL',\n",
       "  'coursenum': '16A',\n",
       "  'name': 'Evolution and Biodiversity',\n",
       "  'independent_study': False,\n",
       "  'term': '1203',\n",
       "  'description': '\"Nothing in biology makes sense except in the light of evolution,\" the geneticist Theodosius Dobzhansky said famously. Evolution is the unifying theory of biology because it explains both the unity and diversity of life. This course examines processes and patterns of evolution, including the sources and fate of variation, natural selection and genetic drift, species and speciation, biogeography, and the history and diversity of life on Earth. We end with a discussion of human evolution and the impact we are having on the planet. Usually offered every fall.\\nJames Morris'},\n",
       " {'limit': None,\n",
       "  'times': [{'end': 690, 'days': ['m', 'w'], 'start': 600}],\n",
       "  'enrolled': 135,\n",
       "  'details': 'See Course Catalog for prerequisites.\\nInstruction for this course will be offered remotely. Meeting times for this course are listed in the schedule of classes (in ET).',\n",
       "  'type': 'section',\n",
       "  'status_text': 'Open',\n",
       "  'section': '1',\n",
       "  'waiting': 0,\n",
       "  'instructor': ('Teresa Vann', 'Mitchell', 'tmitch@brandeis.edu'),\n",
       "  'coinstructors': (),\n",
       "  'code': ('NPSY', '199A'),\n",
       "  'subject': 'NPSY',\n",
       "  'coursenum': '199A',\n",
       "  'name': 'Human Neuropsychology',\n",
       "  'independent_study': False,\n",
       "  'term': '1203',\n",
       "  'description': 'Prerequisite: Psych 10a or Math 10a and at least sophomore standing.\\n\\nDesigned as an introduction to human neuropsychology. Topics include cerebral dominance, neuroanatomical mapping, and localization of function, with special reference to language, memory, and related cognitive function. Usually offered every year.\\nStaff'},\n",
       " {'limit': 120,\n",
       "  'times': [{'start': 600, 'end': 690, 'days': ['w', 'm']}],\n",
       "  'enrolled': 119,\n",
       "  'details': 'See Course Catalog for prerequisites.\\nInstruction for this course will be offered remotely. Meeting times for this course are listed in the schedule of classes (in ET).',\n",
       "  'type': 'section',\n",
       "  'status_text': 'Closed',\n",
       "  'section': '1',\n",
       "  'waiting': 1,\n",
       "  'instructor': ('Jennifer', 'Gutsell', 'jgutsell@brandeis.edu'),\n",
       "  'coinstructors': (),\n",
       "  'code': ('PSYC', '34B'),\n",
       "  'subject': 'PSYC',\n",
       "  'coursenum': '34B',\n",
       "  'name': 'Social Psychology',\n",
       "  'independent_study': False,\n",
       "  'term': '1211',\n",
       "  'description': 'Prerequisite: PSYC 10a.\\n\\nAn introduction to theory and research on the psychological processes that relate the individual to the larger social world in terms of behaviors, thoughts, and feelings. Topics include attitudes, social perception, prejudice and discrimination, attraction, behavior in groups, and the role of culture. Usually offered every year.\\nJennifer Gutsell'},\n",
       " {'limit': 110,\n",
       "  'times': [{'days': ['w'],\n",
       "    'type': 'Recitations/Exams',\n",
       "    'end': 1280,\n",
       "    'start': 1110},\n",
       "   {'start': 600, 'days': ['w', 'm'], 'type': 'Lecture', 'end': 690}],\n",
       "  'enrolled': 109,\n",
       "  'details': 'See Course Catalog for Special Notes.\\nSee Course Catalog for corequisites.\\nRequired recitation sections to be arranged at the start of classes.\\nInstruction for this course will be offered remotely. Meeting times for this course are listed in the schedule of classes (in ET).',\n",
       "  'type': 'section',\n",
       "  'status_text': 'Closed',\n",
       "  'section': '1',\n",
       "  'waiting': 0,\n",
       "  'instructor': ('Peter', 'Mistark', 'pmistark@brandeis.edu'),\n",
       "  'coinstructors': (),\n",
       "  'code': ('PHYS', '10A'),\n",
       "  'subject': 'PHYS',\n",
       "  'coursenum': '10A',\n",
       "  'name': 'Introduction to Physical Laws and Phenomena I',\n",
       "  'independent_study': False,\n",
       "  'term': '1203',\n",
       "  'description': 'Corequisite: MATH 10a or equivalent. Usually taken with PHYS 18a.\\n\\nAn introduction to Newtonian mechanics, kinetic theory, and thermodynamics. Usually offered every year.\\nPeter Mistark'},\n",
       " {'limit': 110,\n",
       "  'times': [{'start': 600,\n",
       "    'days': ['tu', 'th'],\n",
       "    'type': 'Lecture',\n",
       "    'end': 690},\n",
       "   {'end': 1260, 'type': 'Recitations/Exams', 'days': ['w'], 'start': 1080}],\n",
       "  'enrolled': 107,\n",
       "  'details': 'See Course Catalog for Special Notes.\\nSee Course Catalog for prerequisites.\\nRequired recitation sections to be arranged at the start of classes.\\nInstruction for this course will be offered remotely. Meeting times for this course are listed in the schedule of classes (in ET).',\n",
       "  'type': 'section',\n",
       "  'status_text': 'Open',\n",
       "  'section': '1',\n",
       "  'waiting': 0,\n",
       "  'instructor': ('Peter', 'Mistark', 'pmistark@brandeis.edu'),\n",
       "  'coinstructors': (),\n",
       "  'code': ('PHYS', '10B'),\n",
       "  'subject': 'PHYS',\n",
       "  'coursenum': '10B',\n",
       "  'name': 'Introduction to Physical Laws and Phenomena II',\n",
       "  'independent_study': False,\n",
       "  'term': '1211',\n",
       "  'description': 'Prerequisite: PHYS 10a. Usually taken with PHYS 18b.\\n\\nAn introduction to electricity and magnetism, optics, special theory of relativity, and the structure of the atom. Usually offered every year.\\nPeter Mistark'},\n",
       " {'limit': None,\n",
       "  'times': [{'start': 750, 'days': ['f'], 'end': 800}],\n",
       "  'enrolled': 105,\n",
       "  'details': 'Instruction for this course will be offered remotely. Meeting times for this course are listed in the schedule of classes (in ET).',\n",
       "  'type': 'section',\n",
       "  'status_text': 'Open',\n",
       "  'section': '1',\n",
       "  'waiting': 0,\n",
       "  'instructor': ('Michael Thomas', 'Marr', 'mmarr@brandeis.edu'),\n",
       "  'coinstructors': (),\n",
       "  'code': ('BIOL', '350A'),\n",
       "  'subject': 'BIOL',\n",
       "  'coursenum': '350A',\n",
       "  'name': 'Graduate Student Research Seminar',\n",
       "  'independent_study': False,\n",
       "  'term': '1203',\n",
       "  'description': 'Usually offered every year.\\nStaff'},\n",
       " {'limit': 100,\n",
       "  'times': [{'end': 690, 'days': ['tu', 'th'], 'start': 600}],\n",
       "  'enrolled': 105,\n",
       "  'details': 'See Course Catalog for Special Notes.\\nSee Course Catalog for prerequisites.\\nInstruction for this course will be offered remotely. Meeting times for this course are listed in the schedule of classes (in ET).',\n",
       "  'type': 'section',\n",
       "  'status_text': 'Closed',\n",
       "  'section': '1',\n",
       "  'waiting': 4,\n",
       "  'instructor': ('Paul', 'DiZio', 'dizio@brandeis.edu'),\n",
       "  'coinstructors': (),\n",
       "  'code': ('PSYC', '51A'),\n",
       "  'subject': 'PSYC',\n",
       "  'coursenum': '51A',\n",
       "  'name': 'Statistics',\n",
       "  'independent_study': False,\n",
       "  'term': '1211',\n",
       "  'description': 'Prerequisite: PSYC 10a or the permission of the instructor. This course normally should be completed by the end of the sophomore year. \\n\\nCovers the fundamentals of descriptive and inferential statistics. Techniques useful in the behavioral sciences will be emphasized. Students learn the theory of statistical decisions, practical application of statistical software, and how to analyze journal articles. Usually offered every semester.\\nStaff'},\n",
       " {'limit': 85,\n",
       "  'times': [{'start': 1110, 'days': ['th'], 'type': 'Recitation', 'end': 1220},\n",
       "   {'start': 1080, 'end': 1170, 'days': ['w', 'm'], 'type': 'Lecture'}],\n",
       "  'enrolled': 104,\n",
       "  'details': 'Intended for Economics majors and minors or students who intend to take more than one Economics course.\\nInstruction for this course will be offered remotely. Meeting times for this course are listed in the schedule of classes (in ET).',\n",
       "  'type': 'section',\n",
       "  'status_text': 'Closed',\n",
       "  'section': '1',\n",
       "  'waiting': 0,\n",
       "  'instructor': ('Geoffrey', 'Clarke', 'geoffclarke@brandeis.edu'),\n",
       "  'coinstructors': (),\n",
       "  'code': ('ECON', '10A'),\n",
       "  'subject': 'ECON',\n",
       "  'coursenum': '10A',\n",
       "  'name': 'Introduction to Microeconomics',\n",
       "  'independent_study': False,\n",
       "  'term': '1203',\n",
       "  'description': 'Intended for Economics majors and minors or students who intend to take more than one Economics course. Students who have taken ECON 2a and received a B+ or better cannot receive credit for this course. May not be taken for credit by students concurrently with or after they have taken ECON 80a.\\n\\nIntroduces the field of microeconomics, which is the study of how individuals and firms make decisions and how these decisions interact. Usually offered every semester.\\nGeoff Clarke and Nelson Sa'}]"
      ]
     },
     "execution_count": 24,
     "metadata": {},
     "output_type": "execute_result"
    }
   ],
   "source": [
    "ctotals = [c['enrolled'] for c in courses]\n",
    "ctotals.sort(reverse=True) \n",
    "cs = [c for c in courses if c['enrolled'] in ctotals[:20]]\n",
    "cs = sorted(cs, key = lambda x: x['enrolled'], reverse = True)\n",
    "cs\n",
    "#grabs the first 20 subjects based on the first 20 courses with the most enrolled"
   ]
  },
  {
   "cell_type": "markdown",
   "metadata": {},
   "source": [
    "I. Create your own interesting question (each team member creates their own) and use Python to answer that question."
   ]
  },
  {
   "cell_type": "code",
   "execution_count": 25,
   "metadata": {},
   "outputs": [],
   "source": [
    "# Written by Nazari Tuyo\n",
    "# The sum of all students that were enrolled in chinese and COSI classes, my two majors :)"
   ]
  },
  {
   "cell_type": "code",
   "execution_count": 26,
   "metadata": {},
   "outputs": [
    {
     "data": {
      "text/plain": [
       "2276"
      ]
     },
     "execution_count": 26,
     "metadata": {},
     "output_type": "execute_result"
    }
   ],
   "source": [
    "sum({course['enrolled'] for course in courses if course['subject'] == 'COSI'}) + sum({course['enrolled'] for course in courses if course['subject'] == 'CHIN'})"
   ]
  },
  {
   "cell_type": "code",
   "execution_count": 27,
   "metadata": {},
   "outputs": [],
   "source": [
    "# Written by Jimkelly Percine\n",
    "# searched for all courses that have health in their name"
   ]
  },
  {
   "cell_type": "code",
   "execution_count": 28,
   "metadata": {},
   "outputs": [
    {
     "data": {
      "text/plain": [
       "{'Advanced International Health Economics',\n",
       " 'Advanced Topics in Health Care Data Analytics and Data Mining',\n",
       " 'African Americans and Health',\n",
       " 'American Health Care',\n",
       " 'American Health Care: Law and Policy',\n",
       " 'Behavioral Health Doctoral Seminar',\n",
       " 'Clinical Business Issues in Health Informatics',\n",
       " 'Critical Perspectives in Global Health',\n",
       " 'Current Issues in Healthcare Management',\n",
       " 'Data Analytics and Decision Support for Health Informatics',\n",
       " 'Disability, Health and Disparities Research Doctoral Seminar',\n",
       " 'Economics of Behavioral Health',\n",
       " 'Exploring Careers in Health Care',\n",
       " 'Feminist Bioethics: Social Justice and Equity in Health Care',\n",
       " 'Food, Justice and Health',\n",
       " 'Health Care Entrepreneurship',\n",
       " 'Health Care Technology: Evaluating Emerging Medical Services, Drugs and Devices',\n",
       " 'Health Data and Electronic Health Records (EHRs)',\n",
       " 'Health Law and Ethics I',\n",
       " 'Health Law and Ethics II',\n",
       " 'Health Policy Doctoral Seminar',\n",
       " 'Health Psychology',\n",
       " 'Health, Community, and Society',\n",
       " 'Health, Hunger, and the Household in Developing Countries',\n",
       " 'Health/Medical Information Systems Security',\n",
       " 'Healthcare Data Analytics and Data Mining',\n",
       " 'Healthcare Delivery in the U.S.',\n",
       " 'Healthcare Law and Ethics',\n",
       " 'Healthcare Marketing',\n",
       " 'Healthcare Technology and Information Systems',\n",
       " 'Independent Research in Health: Science, Society, and Policy',\n",
       " 'Integrative Seminar on Health',\n",
       " 'International Health Economics',\n",
       " 'International Health Financing',\n",
       " 'International Health Systems and Development',\n",
       " 'Introduction to Epidemiology, Biostatistics, and Population Health',\n",
       " 'Introduction to Global Health',\n",
       " 'Introduction to Microeconomics in Global Health',\n",
       " 'Introduction to Navigating Health and Safety',\n",
       " 'Issues in National Health Policy',\n",
       " 'Legal Issues in Health and Medical Informatics',\n",
       " 'Looking with Uncertainty: The Healthcare Calling and Its Core Human Intelligences',\n",
       " 'Management of Health Care Organizations',\n",
       " 'Management of Healthcare Organizations',\n",
       " 'Measurement of Inequality to Health and Development',\n",
       " 'National Health Policy',\n",
       " 'Navigating Health and Safety',\n",
       " 'Pathways and Mechanisms Linking Emotions to Mental and Physical Health',\n",
       " 'Perspectives on Health/Medical Information Systems',\n",
       " 'Population Health Informatics',\n",
       " 'Quality and Performance Measurement in Health Care',\n",
       " 'Quality and Performance Measurement in Healthcare',\n",
       " 'Race, Health and Medicine in the African Diaspora',\n",
       " 'Racial/Ethnic and Gender Inequalities in Health and Health Care',\n",
       " 'Research in Adolescent Health Psychology',\n",
       " 'Research in Stress, Aging, and Health',\n",
       " 'Sociology of Body and Health',\n",
       " 'Sociology of Health and Illness',\n",
       " 'Sociology of Mental Health and Illness',\n",
       " 'Special Topics in Public Health: U.S. History and Policy',\n",
       " 'State Health Policy',\n",
       " 'Strategic Application of IT in Healthcare',\n",
       " 'Stress, Physiology, and Health',\n",
       " \"The Biology of Women's Health\",\n",
       " 'Transgender Health and Wellness',\n",
       " 'Viewing Medicine and Health Policy Through the Lens of Literature'}"
      ]
     },
     "execution_count": 28,
     "metadata": {},
     "output_type": "execute_result"
    }
   ],
   "source": [
    "({c['name'] for c in courses if 'Health' in c['name']})"
   ]
  },
  {
   "cell_type": "code",
   "execution_count": 29,
   "metadata": {},
   "outputs": [],
   "source": [
    "# Written by Tiffany Huang\n",
    "# how many students were waiting for classes last year?\n",
    "# how many students were waiting when the class was open?"
   ]
  },
  {
   "cell_type": "code",
   "execution_count": 30,
   "metadata": {},
   "outputs": [
    {
     "data": {
      "text/plain": [
       "1"
      ]
     },
     "execution_count": 30,
     "metadata": {},
     "output_type": "execute_result"
    }
   ],
   "source": [
    "len({c['waiting'] for c in courses})\n",
    "\n",
    "len({c['waiting'] for c in courses if c['status_text'] == 'Open'})"
   ]
  },
  {
   "cell_type": "code",
   "execution_count": 31,
   "metadata": {},
   "outputs": [],
   "source": [
    "# Written by Gabby Pile\n",
    "# linguistic courses without a limit that had students enrolled at the same"
   ]
  },
  {
   "cell_type": "code",
   "execution_count": 32,
   "metadata": {},
   "outputs": [
    {
     "data": {
      "text/plain": [
       "7"
      ]
     },
     "execution_count": 32,
     "metadata": {},
     "output_type": "execute_result"
    }
   ],
   "source": [
    "len({course['enrolled'] for course in courses if course['subject'] == 'LING' if course['limit']})"
   ]
  },
  {
   "cell_type": "markdown",
   "metadata": {},
   "source": [
    "Hello!"
   ]
  }
 ],
 "metadata": {
  "kernelspec": {
   "display_name": "Python 3 (ipykernel)",
   "language": "python",
   "name": "python3"
  },
  "language_info": {
   "codemirror_mode": {
    "name": "ipython",
    "version": 3
   },
   "file_extension": ".py",
   "mimetype": "text/x-python",
   "name": "python",
   "nbconvert_exporter": "python",
   "pygments_lexer": "ipython3",
   "version": "3.9.5"
  }
 },
 "nbformat": 4,
 "nbformat_minor": 4
}
