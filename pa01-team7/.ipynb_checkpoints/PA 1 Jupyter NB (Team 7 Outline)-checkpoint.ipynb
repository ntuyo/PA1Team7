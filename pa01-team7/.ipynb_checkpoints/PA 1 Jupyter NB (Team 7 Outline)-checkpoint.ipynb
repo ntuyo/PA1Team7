{
 "cells": [
  {
   "cell_type": "markdown",
   "metadata": {},
   "source": [
    "# PA 1 Jupyter NB (Team 7 Outline)"
   ]
  },
  {
   "cell_type": "code",
   "execution_count": 2,
   "metadata": {},
   "outputs": [],
   "source": [
    "import json"
   ]
  },
  {
   "cell_type": "code",
   "execution_count": 3,
   "metadata": {},
   "outputs": [],
   "source": [
    "with open(\"courses20-21.json\",\"r\",encoding='utf-8') as jsonfile:\n",
    "    courses = json.load(jsonfile)"
   ]
  },
  {
   "cell_type": "markdown",
   "metadata": {},
   "source": [
    "## Structure of a course\n",
    "Next we look at the fields of each course dictionary and their values"
   ]
  },
  {
   "cell_type": "code",
   "execution_count": 4,
   "metadata": {},
   "outputs": [
    {
     "name": "stdout",
     "output_type": "stream",
     "text": [
      "there are 7813 courses in the dataset\n",
      "here is the data for course 1246\n"
     ]
    },
    {
     "data": {
      "text/plain": [
       "{'limit': 28,\n",
       " 'times': [{'start': 1080, 'end': 1170, 'days': ['w', 'm']}],\n",
       " 'enrolled': 4,\n",
       " 'details': 'Instruction for this course will be offered remotely. Meeting times for this course are listed in the schedule of classes (in ET).',\n",
       " 'type': 'section',\n",
       " 'status_text': 'Open',\n",
       " 'section': '1',\n",
       " 'waiting': 0,\n",
       " 'instructor': ['An', 'Huang', 'anhuang@brandeis.edu'],\n",
       " 'coinstructors': [],\n",
       " 'code': ['MATH', '223A'],\n",
       " 'subject': 'MATH',\n",
       " 'coursenum': '223A',\n",
       " 'name': 'Lie Algebras: Representation Theory',\n",
       " 'independent_study': False,\n",
       " 'term': '1203',\n",
       " 'description': \"Theorems of Engel and Lie. Semisimple Lie algebras, Cartan's criterion. Universal enveloping algebras, PBW theorem, Serre's construction. Representation theory. Other topics as time permits. Usually offered every second year.\\nAn Huang\"}"
      ]
     },
     "execution_count": 4,
     "metadata": {},
     "output_type": "execute_result"
    }
   ],
   "source": [
    "print('there are',len(courses),'courses in the dataset')\n",
    "print('here is the data for course 1246')\n",
    "courses[1246]"
   ]
  },
  {
   "cell_type": "markdown",
   "metadata": {},
   "source": [
    "## Cleaning the data\n",
    "If we want to sort courses by instructor or by code, we need to replace the lists with tuples (which are immutable lists)"
   ]
  },
  {
   "cell_type": "code",
   "execution_count": 5,
   "metadata": {},
   "outputs": [],
   "source": [
    "for course in courses:\n",
    "        course['instructor'] = tuple(course['instructor'])\n",
    "        course['coinstructors'] = tuple([tuple(f) for f in course['coinstructors']])\n",
    "        course['code']= tuple(course['code'])"
   ]
  },
  {
   "cell_type": "code",
   "execution_count": 6,
   "metadata": {},
   "outputs": [
    {
     "name": "stdout",
     "output_type": "stream",
     "text": [
      "notice that the instructor and code are tuples now\n"
     ]
    },
    {
     "data": {
      "text/plain": [
       "{'limit': 28,\n",
       " 'times': [{'start': 1080, 'end': 1170, 'days': ['w', 'm']}],\n",
       " 'enrolled': 4,\n",
       " 'details': 'Instruction for this course will be offered remotely. Meeting times for this course are listed in the schedule of classes (in ET).',\n",
       " 'type': 'section',\n",
       " 'status_text': 'Open',\n",
       " 'section': '1',\n",
       " 'waiting': 0,\n",
       " 'instructor': ('An', 'Huang', 'anhuang@brandeis.edu'),\n",
       " 'coinstructors': (),\n",
       " 'code': ('MATH', '223A'),\n",
       " 'subject': 'MATH',\n",
       " 'coursenum': '223A',\n",
       " 'name': 'Lie Algebras: Representation Theory',\n",
       " 'independent_study': False,\n",
       " 'term': '1203',\n",
       " 'description': \"Theorems of Engel and Lie. Semisimple Lie algebras, Cartan's criterion. Universal enveloping algebras, PBW theorem, Serre's construction. Representation theory. Other topics as time permits. Usually offered every second year.\\nAn Huang\"}"
      ]
     },
     "execution_count": 6,
     "metadata": {},
     "output_type": "execute_result"
    }
   ],
   "source": [
    "print('notice that the instructor and code are tuples now')\n",
    "courses[1246]"
   ]
  },
  {
   "cell_type": "markdown",
   "metadata": {},
   "source": [
    "# Exploring the data set\n",
    "Now we will show how to use straight python to explore the data set and answer some interesting questions. Next week we will start learning Pandas/Numpy which are packages that make it easier to explore large dataset efficiently.\n",
    "\n",
    "Here are some questions we can try to asnwer:\n",
    "* what are all of the subjects of courses (e.g. COSI, MATH, JAPN, PHIL, ...)\n",
    "* which terms are represented?\n",
    "* how many instructors taught at Brandeis last year?\n",
    "* what were the five largest course sections?\n",
    "* what were the five largest courses (where we combine sections)?\n",
    "* which are the five largest subjects measured by number of courses offered?\n",
    "* which are the five largest courses measured by number of students taught?\n",
    "* which course had the most sections taught in 20-21?\n",
    "* who are the top five faculty in terms of number of students taught?\n",
    "* etc."
   ]
  },
  {
   "cell_type": "code",
   "execution_count": 7,
   "metadata": {},
   "outputs": [
    {
     "data": {
      "text/plain": [
       "120"
      ]
     },
     "execution_count": 7,
     "metadata": {},
     "output_type": "execute_result"
    }
   ],
   "source": [
    "# number of subjects\n",
    "len({c['subject'] for c in courses})"
   ]
  },
  {
   "cell_type": "code",
   "execution_count": 8,
   "metadata": {},
   "outputs": [
    {
     "data": {
      "text/plain": [
       "904"
      ]
     },
     "execution_count": 8,
     "metadata": {},
     "output_type": "execute_result"
    }
   ],
   "source": [
    "# instructors\n",
    "len({c['instructor'] for c in courses})"
   ]
  },
  {
   "cell_type": "markdown",
   "metadata": {},
   "source": [
    "A. How many faculty taught COSI courses last year?"
   ]
  },
  {
   "cell_type": "code",
   "execution_count": 9,
   "metadata": {},
   "outputs": [
    {
     "data": {
      "text/plain": [
       "27"
      ]
     },
     "execution_count": 9,
     "metadata": {},
     "output_type": "execute_result"
    }
   ],
   "source": [
    "len({course['instructor'] for course in courses if course['subject'] == 'COSI' })"
   ]
  },
  {
   "cell_type": "markdown",
   "metadata": {},
   "source": [
    "B. What is the total number of students taking COSI courses last year?"
   ]
  },
  {
   "cell_type": "code",
   "execution_count": 10,
   "metadata": {},
   "outputs": [],
   "source": [
    "#Completed by Tiffany Huang"
   ]
  },
  {
   "cell_type": "code",
   "execution_count": 11,
   "metadata": {},
   "outputs": [
    {
     "data": {
      "text/plain": [
       "1950"
      ]
     },
     "execution_count": 11,
     "metadata": {},
     "output_type": "execute_result"
    }
   ],
   "source": [
    "sum({course['enrolled'] for course in courses if course['subject'] == 'COSI'})"
   ]
  },
  {
   "cell_type": "markdown",
   "metadata": {},
   "source": [
    "C. What was the median size of a COSI course last year (counting only those courses with at least 10 students)"
   ]
  },
  {
   "cell_type": "code",
   "execution_count": 12,
   "metadata": {},
   "outputs": [],
   "source": [
    "#Completed by Nazari Tuyo"
   ]
  },
  {
   "cell_type": "code",
   "execution_count": 13,
   "metadata": {},
   "outputs": [
    {
     "data": {
      "text/plain": [
       "47"
      ]
     },
     "execution_count": 13,
     "metadata": {},
     "output_type": "execute_result"
    }
   ],
   "source": [
    "import statistics\n",
    "statistics.median({course['enrolled'] for course in courses if course['subject'] == 'COSI' and course['enrolled'] > 10})"
   ]
  },
  {
   "cell_type": "markdown",
   "metadata": {},
   "source": [
    "D. Create a list of tuples (E,S) where S is a subject and E is the number of students enrolled in courses in that subject, sort it and print the top 10. This shows the top 10 subjects in terms of number of students taught."
   ]
  },
  {
   "cell_type": "code",
   "execution_count": 14,
   "metadata": {},
   "outputs": [],
   "source": [
    "#Completed by Nazari Tuyo"
   ]
  },
  {
   "cell_type": "code",
   "execution_count": 224,
   "metadata": {},
   "outputs": [
    {
     "name": "stdout",
     "output_type": "stream",
     "text": [
      "BIOL\n",
      "BUS\n",
      "HWL\n",
      "CHEM\n",
      "ECON\n",
      "COSI\n",
      "MATH\n",
      "PSYC\n",
      "ANTH\n"
     ]
    }
   ],
   "source": [
    "def return_num(class_tuple):\n",
    "    return class_tuple[1]\n",
    "\n",
    "courses_and_enrollment = {}\n",
    "for course in courses:\n",
    "    if(course['subject'] in courses_and_enrollment):\n",
    "        courses_and_enrollment[course['subject']] += course['enrolled']\n",
    "    else: \n",
    "        courses_and_enrollment[course['subject']] = (course['enrolled']) \n",
    "tuples = [(k, v) for k, v in courses_and_enrollment.items()]\n",
    "tuples.sort(key = return_num, reverse = True)\n",
    "for i in range(1, 10):\n",
    "    print(tuples[i][0])"
   ]
  },
  {
   "cell_type": "markdown",
   "metadata": {},
   "source": [
    "E. Do the same as in (d) but print the top 10 subjects in terms of number of courses offered"
   ]
  },
  {
   "cell_type": "code",
   "execution_count": 253,
   "metadata": {},
   "outputs": [
    {
     "name": "stdout",
     "output_type": "stream",
     "text": [
      "('HIST', 498)\n",
      "('PSYC', 417)\n",
      "('NEUR', 403)\n",
      "('BCHM', 296)\n",
      "('PHYS', 288)\n",
      "('HS', 274)\n",
      "('COSI', 272)\n",
      "('MUS', 266)\n",
      "('ENG', 265)\n"
     ]
    }
   ],
   "source": [
    "num_courses_offered = {}\n",
    "for course in courses:\n",
    "    if(course['subject'] in num_courses_offered):\n",
    "        num_courses_offered[course['subject']] += 1\n",
    "    else:\n",
    "        num_courses_offered[course['subject']] = 1\n",
    "\n",
    "num_tuples = [(k, v) for k, v in num_courses_offered.items()]\n",
    "num_tuples.sort(key = return_num, reverse = True)\n",
    "for i in range(1, 10):\n",
    "    print(num_tuples[i][0])"
   ]
  },
  {
   "cell_type": "markdown",
   "metadata": {},
   "source": [
    "F. Do the same as (d) but print the top 10 subjects in terms of number of faculty teaching courses in that subject"
   ]
  },
  {
   "cell_type": "code",
   "execution_count": 252,
   "metadata": {},
   "outputs": [
    {
     "name": "stdout",
     "output_type": "stream",
     "text": [
      "('HIST', 498)\n",
      "('PSYC', 417)\n",
      "('NEUR', 403)\n",
      "('BCHM', 296)\n",
      "('PHYS', 288)\n",
      "('HS', 274)\n",
      "('COSI', 272)\n",
      "('MUS', 266)\n",
      "('ENG', 265)\n"
     ]
    }
   ],
   "source": [
    "faculty_subject_offered = {}\n",
    "for course in courses:\n",
    "    if(course['subject'] in faculty_subject_offered):\n",
    "        faculty_subject_offered[course['subject']] += len([course['instructor']])\n",
    "    else:\n",
    "        faculty_subject_offered[course['subject']] = 1\n",
    "\n",
    "num_tuples = [(k, v) for k, v in faculty_subject_offered.items()]\n",
    "num_tuples.sort(key = return_num, reverse = True)\n",
    "for i in range(1, 10):\n",
    "    print(num_tuples[i])"
   ]
  },
  {
   "cell_type": "markdown",
   "metadata": {},
   "source": [
    "G. List the top 20 faculty in terms of number of students they taught"
   ]
  },
  {
   "cell_type": "code",
   "execution_count": 262,
   "metadata": {},
   "outputs": [
    {
     "name": "stdout",
     "output_type": "stream",
     "text": [
      "('Leah', 'Berkenwald')\n",
      "('Madeleine', 'Witwer-Dukes')\n",
      "('Sarah', 'Berg')\n",
      "('Kene Nathan', 'Piasta')\n",
      "('Stephanie', 'Murray')\n",
      "('Bryan', 'Ingoglia')\n",
      "('Milos', 'Dolnik')\n",
      "('Maria', 'de Boef Miara')\n",
      "('Rachel V.E.', 'Woodruff')\n",
      "('Timothy J', 'Hickey')\n",
      "('Daniel', 'Breen')\n",
      "('Melissa', 'Kosinski-Collins')\n",
      "('Claudia', 'Novack')\n",
      "('Antonella', 'DiLillo')\n",
      "('Jon', 'Chilingerian')\n",
      "('Ahmad', 'Namini')\n",
      "('Iraklis', 'Tsekourakis')\n",
      "('Geoffrey', 'Clarke')\n",
      "('Carole', 'Carlson')\n",
      "('Peter', 'Mistark')\n"
     ]
    }
   ],
   "source": [
    "faculty = [(c['instructor'],c['enrolled']) for c in courses]\n",
    "faculty += [(co,c['enrolled']) for c in courses for co in c['coinstructors']]\n",
    "fcount = {} #dict of teacher and #students\n",
    "\n",
    "for t in faculty:\n",
    "    if t[0] in fcount: #in keyword checks if in dict already\n",
    "        fcount[t[0]] = fcount[t[0]] + t[1] #t[0] = teachers, t[1] = # students, \n",
    "        #if teacher already counted, add t[1] to teacher\n",
    "    else:\n",
    "        fcount[t[0]] = t[1] #if haven't taught students yet, make new value pair for that pairs\n",
    "unsorted = [(k,fcount[k]) for k in fcount.keys()]\n",
    "s = sorted(unsorted,reverse = True, key = lambda x: x[1]) #x[1] = all the students they taught\n",
    "s = [t[0][0:2] for t in s][:20] #[0:2] represents the first name and last name of the professor phew\n",
    "for f in s:\n",
    "    print(f)"
   ]
  },
  {
   "cell_type": "markdown",
   "metadata": {},
   "source": [
    "H. List the top 20 courses in terms of number of students taking that course (where you combine different sections and semesters, i.e. just use the subject and course number)"
   ]
  },
  {
   "cell_type": "code",
   "execution_count": null,
   "metadata": {},
   "outputs": [],
   "source": [
    "ctotals = [c['enrolled'] for c in courses]\n",
    "ctotals.sort(reverse=True) \n",
    "cs = [c for c in courses if c['enrolled'] in ctotals[:20]]\n",
    "cs = sorted(cs, key = lambda x: x['enrolled'], reverse = True)\n",
    "cs\n",
    "#grabs the first 20 subjects based on the first 20 courses with the most enrolled"
   ]
  },
  {
   "cell_type": "markdown",
   "metadata": {},
   "source": [
    "I. Create your own interesting question (each team member creates their own) and use Python to answer that question."
   ]
  },
  {
   "cell_type": "code",
   "execution_count": null,
   "metadata": {},
   "outputs": [],
   "source": [
    "# Written by Nazari Tuyo\n",
    "# The sum of all students that were enrolled in chinese and COSI classes, my two majors :)"
   ]
  },
  {
   "cell_type": "code",
   "execution_count": 244,
   "metadata": {},
   "outputs": [
    {
     "data": {
      "text/plain": [
       "2276"
      ]
     },
     "execution_count": 244,
     "metadata": {},
     "output_type": "execute_result"
    }
   ],
   "source": [
    "sum({course['enrolled'] for course in courses if course['subject'] == 'COSI'}) + sum({course['enrolled'] for course in courses if course['subject'] == 'CHIN'})"
   ]
  },
  {
   "cell_type": "code",
   "execution_count": null,
   "metadata": {},
   "outputs": [],
   "source": [
    "# Written by Jimkelly Percine\n",
    "# searched for all courses that have health in their name"
   ]
  },
  {
   "cell_type": "code",
   "execution_count": 247,
   "metadata": {},
   "outputs": [
    {
     "data": {
      "text/plain": [
       "{'Advanced International Health Economics',\n",
       " 'Advanced Topics in Health Care Data Analytics and Data Mining',\n",
       " 'African Americans and Health',\n",
       " 'American Health Care',\n",
       " 'American Health Care: Law and Policy',\n",
       " 'Behavioral Health Doctoral Seminar',\n",
       " 'Clinical Business Issues in Health Informatics',\n",
       " 'Critical Perspectives in Global Health',\n",
       " 'Current Issues in Healthcare Management',\n",
       " 'Data Analytics and Decision Support for Health Informatics',\n",
       " 'Disability, Health and Disparities Research Doctoral Seminar',\n",
       " 'Economics of Behavioral Health',\n",
       " 'Exploring Careers in Health Care',\n",
       " 'Feminist Bioethics: Social Justice and Equity in Health Care',\n",
       " 'Food, Justice and Health',\n",
       " 'Health Care Entrepreneurship',\n",
       " 'Health Care Technology: Evaluating Emerging Medical Services, Drugs and Devices',\n",
       " 'Health Data and Electronic Health Records (EHRs)',\n",
       " 'Health Law and Ethics I',\n",
       " 'Health Law and Ethics II',\n",
       " 'Health Policy Doctoral Seminar',\n",
       " 'Health Psychology',\n",
       " 'Health, Community, and Society',\n",
       " 'Health, Hunger, and the Household in Developing Countries',\n",
       " 'Health/Medical Information Systems Security',\n",
       " 'Healthcare Data Analytics and Data Mining',\n",
       " 'Healthcare Delivery in the U.S.',\n",
       " 'Healthcare Law and Ethics',\n",
       " 'Healthcare Marketing',\n",
       " 'Healthcare Technology and Information Systems',\n",
       " 'Independent Research in Health: Science, Society, and Policy',\n",
       " 'Integrative Seminar on Health',\n",
       " 'International Health Economics',\n",
       " 'International Health Financing',\n",
       " 'International Health Systems and Development',\n",
       " 'Introduction to Epidemiology, Biostatistics, and Population Health',\n",
       " 'Introduction to Global Health',\n",
       " 'Introduction to Microeconomics in Global Health',\n",
       " 'Introduction to Navigating Health and Safety',\n",
       " 'Issues in National Health Policy',\n",
       " 'Legal Issues in Health and Medical Informatics',\n",
       " 'Looking with Uncertainty: The Healthcare Calling and Its Core Human Intelligences',\n",
       " 'Management of Health Care Organizations',\n",
       " 'Management of Healthcare Organizations',\n",
       " 'Measurement of Inequality to Health and Development',\n",
       " 'National Health Policy',\n",
       " 'Navigating Health and Safety',\n",
       " 'Pathways and Mechanisms Linking Emotions to Mental and Physical Health',\n",
       " 'Perspectives on Health/Medical Information Systems',\n",
       " 'Population Health Informatics',\n",
       " 'Quality and Performance Measurement in Health Care',\n",
       " 'Quality and Performance Measurement in Healthcare',\n",
       " 'Race, Health and Medicine in the African Diaspora',\n",
       " 'Racial/Ethnic and Gender Inequalities in Health and Health Care',\n",
       " 'Research in Adolescent Health Psychology',\n",
       " 'Research in Stress, Aging, and Health',\n",
       " 'Sociology of Body and Health',\n",
       " 'Sociology of Health and Illness',\n",
       " 'Sociology of Mental Health and Illness',\n",
       " 'Special Topics in Public Health: U.S. History and Policy',\n",
       " 'State Health Policy',\n",
       " 'Strategic Application of IT in Healthcare',\n",
       " 'Stress, Physiology, and Health',\n",
       " \"The Biology of Women's Health\",\n",
       " 'Transgender Health and Wellness',\n",
       " 'Viewing Medicine and Health Policy Through the Lens of Literature'}"
      ]
     },
     "execution_count": 247,
     "metadata": {},
     "output_type": "execute_result"
    }
   ],
   "source": [
    "({c['name'] for c in courses if 'Health' in c['name']})"
   ]
  },
  {
   "cell_type": "code",
   "execution_count": null,
   "metadata": {},
   "outputs": [],
   "source": [
    "# Written by Tiffany Huang\n",
    "# how many students were waiting for classes last year?\n",
    "# how many students were waiting when the class was open?"
   ]
  },
  {
   "cell_type": "code",
   "execution_count": 251,
   "metadata": {},
   "outputs": [
    {
     "data": {
      "text/plain": [
       "1"
      ]
     },
     "execution_count": 251,
     "metadata": {},
     "output_type": "execute_result"
    }
   ],
   "source": [
    "len({c['waiting'] for c in courses})\n",
    "\n",
    "len({c['waiting'] for c in courses if c['status_text'] == 'Open'})"
   ]
  },
  {
   "cell_type": "code",
   "execution_count": null,
   "metadata": {},
   "outputs": [],
   "source": [
    "# Written by Gabby Pile\n",
    "# linguistic courses without a limit that had students enrolled at the same"
   ]
  },
  {
   "cell_type": "code",
   "execution_count": 261,
   "metadata": {},
   "outputs": [
    {
     "data": {
      "text/plain": [
       "7"
      ]
     },
     "execution_count": 261,
     "metadata": {},
     "output_type": "execute_result"
    }
   ],
   "source": [
    "len({course['enrolled'] for course in courses if course['subject'] == 'LING' if course['limit']})"
   ]
  }
 ],
 "metadata": {
  "kernelspec": {
   "display_name": "Python 3",
   "language": "python",
   "name": "python3"
  },
  "language_info": {
   "codemirror_mode": {
    "name": "ipython",
    "version": 3
   },
   "file_extension": ".py",
   "mimetype": "text/x-python",
   "name": "python",
   "nbconvert_exporter": "python",
   "pygments_lexer": "ipython3",
   "version": "3.8.8"
  }
 },
 "nbformat": 4,
 "nbformat_minor": 4
}
