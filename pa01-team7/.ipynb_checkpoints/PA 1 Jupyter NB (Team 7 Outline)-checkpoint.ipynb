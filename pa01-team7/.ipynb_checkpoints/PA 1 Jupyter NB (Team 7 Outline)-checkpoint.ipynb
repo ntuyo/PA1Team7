{
 "cells": [
  {
   "cell_type": "markdown",
   "metadata": {},
   "source": [
    "# PA 1 Jupyter NB (Team 7 Outline)"
   ]
  },
  {
   "cell_type": "code",
   "execution_count": 2,
   "metadata": {},
   "outputs": [],
   "source": [
    "import json"
   ]
  },
  {
   "cell_type": "code",
   "execution_count": 3,
   "metadata": {},
   "outputs": [],
   "source": [
    "with open(\"courses20-21.json\",\"r\",encoding='utf-8') as jsonfile:\n",
    "    courses = json.load(jsonfile)"
   ]
  },
  {
   "cell_type": "markdown",
   "metadata": {},
   "source": [
    "## Structure of a course\n",
    "Next we look at the fields of each course dictionary and their values"
   ]
  },
  {
   "cell_type": "code",
   "execution_count": 4,
   "metadata": {},
   "outputs": [
    {
     "name": "stdout",
     "output_type": "stream",
     "text": [
      "there are 7813 courses in the dataset\n",
      "here is the data for course 1246\n"
     ]
    },
    {
     "data": {
      "text/plain": [
       "{'limit': 28,\n",
       " 'times': [{'start': 1080, 'end': 1170, 'days': ['w', 'm']}],\n",
       " 'enrolled': 4,\n",
       " 'details': 'Instruction for this course will be offered remotely. Meeting times for this course are listed in the schedule of classes (in ET).',\n",
       " 'type': 'section',\n",
       " 'status_text': 'Open',\n",
       " 'section': '1',\n",
       " 'waiting': 0,\n",
       " 'instructor': ['An', 'Huang', 'anhuang@brandeis.edu'],\n",
       " 'coinstructors': [],\n",
       " 'code': ['MATH', '223A'],\n",
       " 'subject': 'MATH',\n",
       " 'coursenum': '223A',\n",
       " 'name': 'Lie Algebras: Representation Theory',\n",
       " 'independent_study': False,\n",
       " 'term': '1203',\n",
       " 'description': \"Theorems of Engel and Lie. Semisimple Lie algebras, Cartan's criterion. Universal enveloping algebras, PBW theorem, Serre's construction. Representation theory. Other topics as time permits. Usually offered every second year.\\nAn Huang\"}"
      ]
     },
     "execution_count": 4,
     "metadata": {},
     "output_type": "execute_result"
    }
   ],
   "source": [
    "print('there are',len(courses),'courses in the dataset')\n",
    "print('here is the data for course 1246')\n",
    "courses[1246]"
   ]
  },
  {
   "cell_type": "markdown",
   "metadata": {},
   "source": [
    "## Cleaning the data\n",
    "If we want to sort courses by instructor or by code, we need to replace the lists with tuples (which are immutable lists)"
   ]
  },
  {
   "cell_type": "code",
   "execution_count": 5,
   "metadata": {},
   "outputs": [],
   "source": [
    "for course in courses:\n",
    "        course['instructor'] = tuple(course['instructor'])\n",
    "        course['coinstructors'] = tuple([tuple(f) for f in course['coinstructors']])\n",
    "        course['code']= tuple(course['code'])"
   ]
  },
  {
   "cell_type": "code",
   "execution_count": 6,
   "metadata": {},
   "outputs": [
    {
     "name": "stdout",
     "output_type": "stream",
     "text": [
      "notice that the instructor and code are tuples now\n"
     ]
    },
    {
     "data": {
      "text/plain": [
       "{'limit': 28,\n",
       " 'times': [{'start': 1080, 'end': 1170, 'days': ['w', 'm']}],\n",
       " 'enrolled': 4,\n",
       " 'details': 'Instruction for this course will be offered remotely. Meeting times for this course are listed in the schedule of classes (in ET).',\n",
       " 'type': 'section',\n",
       " 'status_text': 'Open',\n",
       " 'section': '1',\n",
       " 'waiting': 0,\n",
       " 'instructor': ('An', 'Huang', 'anhuang@brandeis.edu'),\n",
       " 'coinstructors': (),\n",
       " 'code': ('MATH', '223A'),\n",
       " 'subject': 'MATH',\n",
       " 'coursenum': '223A',\n",
       " 'name': 'Lie Algebras: Representation Theory',\n",
       " 'independent_study': False,\n",
       " 'term': '1203',\n",
       " 'description': \"Theorems of Engel and Lie. Semisimple Lie algebras, Cartan's criterion. Universal enveloping algebras, PBW theorem, Serre's construction. Representation theory. Other topics as time permits. Usually offered every second year.\\nAn Huang\"}"
      ]
     },
     "execution_count": 6,
     "metadata": {},
     "output_type": "execute_result"
    }
   ],
   "source": [
    "print('notice that the instructor and code are tuples now')\n",
    "courses[1246]"
   ]
  },
  {
   "cell_type": "markdown",
   "metadata": {},
   "source": [
    "# Exploring the data set\n",
    "Now we will show how to use straight python to explore the data set and answer some interesting questions. Next week we will start learning Pandas/Numpy which are packages that make it easier to explore large dataset efficiently.\n",
    "\n",
    "Here are some questions we can try to asnwer:\n",
    "* what are all of the subjects of courses (e.g. COSI, MATH, JAPN, PHIL, ...)\n",
    "* which terms are represented?\n",
    "* how many instructors taught at Brandeis last year?\n",
    "* what were the five largest course sections?\n",
    "* what were the five largest courses (where we combine sections)?\n",
    "* which are the five largest subjects measured by number of courses offered?\n",
    "* which are the five largest courses measured by number of students taught?\n",
    "* which course had the most sections taught in 20-21?\n",
    "* who are the top five faculty in terms of number of students taught?\n",
    "* etc."
   ]
  },
  {
   "cell_type": "code",
   "execution_count": 7,
   "metadata": {},
   "outputs": [
    {
     "data": {
      "text/plain": [
       "120"
      ]
     },
     "execution_count": 7,
     "metadata": {},
     "output_type": "execute_result"
    }
   ],
   "source": [
    "# number of subjects\n",
    "len({c['subject'] for c in courses})"
   ]
  },
  {
   "cell_type": "code",
   "execution_count": 8,
   "metadata": {},
   "outputs": [
    {
     "data": {
      "text/plain": [
       "904"
      ]
     },
     "execution_count": 8,
     "metadata": {},
     "output_type": "execute_result"
    }
   ],
   "source": [
    "# instructors\n",
    "len({c['instructor'] for c in courses})"
   ]
  },
  {
   "cell_type": "markdown",
   "metadata": {},
   "source": [
    "A. How many faculty taught COSI courses last year?"
   ]
  },
  {
   "cell_type": "code",
   "execution_count": 9,
   "metadata": {},
   "outputs": [
    {
     "data": {
      "text/plain": [
       "27"
      ]
     },
     "execution_count": 9,
     "metadata": {},
     "output_type": "execute_result"
    }
   ],
   "source": [
    "len({course['instructor'] for course in courses if course['subject'] == 'COSI' })"
   ]
  },
  {
   "cell_type": "markdown",
   "metadata": {},
   "source": [
    "B. What is the total number of students taking COSI courses last year?"
   ]
  },
  {
   "cell_type": "code",
   "execution_count": 10,
   "metadata": {},
   "outputs": [],
   "source": [
    "#Completed by Tiffany Huang"
   ]
  },
  {
   "cell_type": "code",
   "execution_count": 11,
   "metadata": {},
   "outputs": [
    {
     "data": {
      "text/plain": [
       "1950"
      ]
     },
     "execution_count": 11,
     "metadata": {},
     "output_type": "execute_result"
    }
   ],
   "source": [
    "sum({course['enrolled'] for course in courses if course['subject'] == 'COSI'})"
   ]
  },
  {
   "cell_type": "markdown",
   "metadata": {},
   "source": [
    "C. What was the median size of a COSI course last year (counting only those courses with at least 10 students)"
   ]
  },
  {
   "cell_type": "code",
   "execution_count": 12,
   "metadata": {},
   "outputs": [],
   "source": [
    "#Completed by Nazari Tuyo"
   ]
  },
  {
   "cell_type": "code",
   "execution_count": 13,
   "metadata": {},
   "outputs": [
    {
     "data": {
      "text/plain": [
       "47"
      ]
     },
     "execution_count": 13,
     "metadata": {},
     "output_type": "execute_result"
    }
   ],
   "source": [
    "import statistics\n",
    "statistics.median({course['enrolled'] for course in courses if course['subject'] == 'COSI' and course['enrolled'] > 10})"
   ]
  },
  {
   "cell_type": "markdown",
   "metadata": {},
   "source": [
    "D. Create a list of tuples (E,S) where S is a subject and E is the number of students enrolled in courses in that subject, sort it and print the top 10. This shows the top 10 subjects in terms of number of students taught."
   ]
  },
  {
   "cell_type": "code",
   "execution_count": 14,
   "metadata": {},
   "outputs": [],
   "source": [
    "#Completed by Nazari Tuyo"
   ]
  },
  {
   "cell_type": "code",
   "execution_count": 181,
   "metadata": {},
   "outputs": [
    {
     "name": "stdout",
     "output_type": "stream",
     "text": [
      "('HRNS', 0, 'HRNS', 0, 'HRNS', 0, 'HRNS', 0, 'HRNS', 1, 'HRNS', 0, 'HRNS', 0, 'HRNS', 0, 'HRNS', 0, 'BUS', 19, 'BUS', 18, 'BUS', 20, 'ECON', 0, 'FIN', 15, 'FIN', 20, 'BUS', 10, 'BUS', 38, 'BUS', 32, 'BUS', 0, 'BUS', 53, 'HRNS', 0, 'HRNS', 8, 'FIN', 22, 'FIN', 18, 'HS', 20, 'HS', 30, 'HS', 47, 'HS', 20, 'HS', 23, 'HS', 42, 'HS', 12, 'HS', 34, 'HS', 10, 'HS', 28, 'HS', 15, 'HS', 15, 'HRNS', 0, 'HS', 0, 'HS', 3, 'HRNS', 0, 'HRNS', 0, 'HRNS', 0, 'HRNS', 0, 'HRNS', 0, 'HRNS', 0, 'HRNS', 0, 'HRNS', 0, 'HRNS', 0, 'HRNS', 0, 'BUS', 19, 'BUS', 11, 'BUS', 23, 'BUS', 35, 'ECON', 0, 'FIN', 25, 'FIN', 13, 'BUS', 28, 'BUS', 34, 'BUS', 29, 'BUS', 28, 'FIN', 29, 'BUS', 9, 'BUS', 20, 'HRNS', 0, 'HRNS', 10, 'FIN', 7, 'HS', 17, 'HS', 17, 'HS', 30, 'HS', 17, 'HS', 10, 'HS', 38, 'HS', 17, 'HS', 24, 'HS', 26, 'HS', 24, 'HS', 24, 'HS', 38, 'HS', 15, 'HS', 30, 'HS', 1, 'HRNS', 0, 'HS', 1, 'ANTH', 0, 'ANTH', 0, 'ANTH', 0, 'ANTH', 0, 'ANTH', 0, 'ANTH', 0, 'ANTH', 0, 'ANTH', 0, 'ANTH', 0, 'ANTH', 22, 'ANTH', 0, 'ANTH', 0, 'ANTH', 0, 'ANTH', 0, 'ANTH', 0, 'ANTH', 0, 'ANTH', 13, 'ANTH', 0, 'ANTH', 0, 'ANTH', 0, 'ANTH', 0, 'ANTH', 0, 'CHEM', 33, 'PHIL', 5, 'HIST', 7, 'PSYC', 11, 'PSYC', 9, 'PSYC', 23, 'WGS', 12, 'ENG', 4, 'ENG', 4, 'POL', 11, 'BIOL', 10, 'BIOL', 10, 'BIOL', 10, 'BIOL', 10, 'BIOL', 10, 'BIOL', 10, 'BIOL', 10, 'BIOL', 20, 'BIOL', 10, 'BIOL', 44, 'BIOL', 105, 'NBIO', 61, 'NBIO', 11, 'CHIN', 3, 'CHIN', 1, 'MATH', 10, 'MUS', 6, 'MUS', 5, 'ANTH', 0, 'ANTH', 0, 'ANTH', 1, 'ANTH', 1, 'ANTH', 0, 'SOC', 8, 'ANTH', 0, 'BCBP', 0, 'BCBP', 0, 'BCBP', 0, 'BCBP', 0, 'BCBP', 0, 'BCBP', 0, 'BCBP', 0, 'BCBP', 0, 'BCBP', 0, 'BCBP', 0, 'BCBP', 0, 'BCBP', 0, 'BCBP', 0, 'BCBP', 0, 'BCBP', 0, 'BCBP', 0, 'BCBP', 0, 'BCBP', 0, 'BCBP', 0, 'BCBP', 0, 'BCBP', 0, 'BCBP', 0, 'BCBP', 0, 'BCBP', 0, 'BCBP', 0, 'BCBP', 0, 'BCBP', 0, 'BCBP', 0, 'BCBP', 0, 'BCBP', 0, 'BCBP', 0, 'BCBP', 0, 'BCBP', 0, 'BCBP', 0, 'BCBP', 0, 'BCBP', 0, 'BCBP', 0, 'BCBP', 0, 'BCBP', 0, 'BCBP', 0, 'BCBP', 0, 'BCBP', 0, 'BCBP', 0, 'BCBP', 0, 'BCBP', 0, 'BCBP', 0, 'BCBP', 0, 'BCBP', 0, 'BCBP', 0, 'BCBP', 0, 'BCBP', 0, 'BCBP', 0, 'BCBP', 0, 'BCBP', 0, 'BCBP', 0, 'BCBP', 0, 'BCBP', 0, 'BCBP', 0, 'BCBP', 0, 'BCBP', 0, 'BCBP', 0, 'BCBP', 0, 'BCBP', 0, 'BCBP', 0, 'BCBP', 2, 'BCBP', 5, 'BCBP', 0, 'BCBP', 0, 'BCBP', 0, 'BCBP', 0, 'BCBP', 4, 'BCBP', 0, 'BCBP', 0, 'BCBP', 0, 'BCBP', 3, 'BCBP', 0, 'BCBP', 0, 'BCBP', 0, 'BCBP', 0, 'BCBP', 1, 'BCBP', 0, 'BCBP', 5, 'BCBP', 0, 'BCBP', 0, 'BCBP', 0, 'BCBP', 1, 'BCBP', 1, 'BCBP', 0, 'BCBP', 0, 'BCBP', 0, 'BCBP', 0, 'BCBP', 0, 'BCBP', 0, 'BCBP', 0, 'BCBP', 0, 'BCBP', 0, 'BCBP', 0, 'BCBP', 1, 'BCBP', 3, 'BIOL', 0, 'BIOL', 0, 'BIOL', 0, 'BIOL', 0, 'BIOL', 0, 'BIOL', 0, 'BIOL', 0, 'BIOL', 0, 'BIOL', 0, 'BIOL', 0, 'BIOL', 0, 'BIOL', 0, 'BIOL', 0, 'BIOL', 0, 'BIOL', 0, 'BIOL', 0, 'BIOL', 0, 'BIOL', 0, 'BIOL', 0, 'BIOL', 0, 'BIOL', 0, 'BIOL', 0, 'BIOL', 0, 'BIOL', 0, 'BIOL', 0, 'BIOL', 0, 'BIOL', 0, 'BIOL', 0, 'BIOL', 0, 'BIOL', 0, 'BIOL', 0, 'BIOL', 0, 'BIOL', 0, 'BIOL', 0, 'BIOL', 0, 'BIOL', 0, 'BIOL', 0, 'BIOL', 0, 'BIOL', 0, 'BIOL', 0, 'BIOL', 0, 'BIOL', 0, 'BIOL', 0, 'BIOL', 0, 'BIOL', 1, 'BIOL', 0, 'BIOL', 0, 'BIOL', 0, 'BIOL', 0, 'BIOL', 0, 'BIOL', 0, 'BIOL', 0, 'BIOL', 0, 'BIOL', 5, 'BIOL', 1, 'BIOL', 4, 'BIOL', 1, 'BIOL', 3, 'BIOL', 0, 'BIOL', 0, 'BIOL', 2, 'BIOL', 0, 'BIOL', 1, 'BIOL', 0, 'BIOL', 0, 'BIOL', 2, 'BIOL', 2, 'BIOL', 0, 'BIOL', 0, 'BIOL', 0, 'BIOL', 2, 'BIOL', 0, 'BIOL', 5, 'BIOL', 0, 'BIOL', 0, 'BIOL', 1, 'BIOL', 0, 'BIOT', 2, 'BIOT', 2, 'BCBP', 0, 'BCBP', 0, 'BCBP', 0, 'BCBP', 0, 'BCBP', 0, 'BCBP', 0, 'BCBP', 0, 'BCBP', 0, 'BCBP', 0, 'BCBP', 0, 'BCBP', 0, 'BCBP', 0, 'ED', 6, 'ED', 12, 'CHEM', 2, 'CHEM', 2, 'CHEM', 0, 'CHEM', 0, 'CHEM', 0, 'CHEM', 0, 'CHEM', 0, 'CHEM', 2, 'CHEM', 4, 'CHEM', 0, 'CHEM', 7, 'CHEM', 3, 'CHEM', 0, 'CHEM', 0, 'CHEM', 0, 'CHEM', 0, 'CHEM', 0, 'CHEM', 0, 'CHEM', 0, 'CHEM', 0, 'CHEM', 0, 'CHEM', 0, 'CHEM', 0, 'CHEM', 0, 'CHEM', 0, 'CHEM', 0, 'CLAS', 0, 'CLAS', 0, 'CLAS', 0, 'CLAS', 0, 'CLAS', 0, 'CLAS', 1, 'COMH', 0, 'COMH', 0, 'COMH', 0, 'COMH', 0, 'COMH', 0, 'COSI', 0, 'COSI', 0, 'COSI', 0, 'COSI', 0, 'COSI', 0, 'COSI', 0, 'COSI', 0, 'COSI', 0, 'COSI', 0, 'COSI', 0, 'COSI', 0, 'COSI', 0, 'COSI', 0, 'COSI', 2, 'COSI', 0, 'COSI', 0, 'COSI', 0, 'COSI', 0, 'COSI', 0, 'COSI', 0, 'COSI', 2, 'COSI', 0, 'COSI', 0, 'COSI', 0, 'COSI', 0, 'COSI', 0, 'COSI', 0, 'COSI', 0, 'COSI', 0, 'COSI', 0, 'COSI', 2, 'COSI', 0, 'COSI', 0, 'COSI', 2, 'COSI', 0, 'COSI', 1, 'COSI', 1, 'COSI', 5, 'COSI', 1, 'COSI', 1, 'COSI', 0, 'COSI', 2, 'COSI', 0, 'COSI', 0, 'COSI', 0, 'COSI', 0, 'COSI', 0, 'COSI', 0, 'COSI', 3, 'COSI', 1, 'COSI', 0, 'COSI', 1, 'COSI', 0, 'COSI', 0, 'COSI', 0, 'COSI', 0, 'COSI', 1, 'COSI', 0, 'COSI', 1, 'COSI', 1, 'COSI', 0, 'ED', 0, 'ED', 0, 'ENG', 0, 'ENG', 0, 'ENG', 0, 'ENG', 0, 'ENG', 0, 'ENG', 0, 'ENG', 0, 'ENG', 0, 'ENG', 1, 'ENG', 0, 'ENG', 0, 'ENG', 0, 'ENG', 0, 'ENG', 0, 'ENG', 0, 'ENG', 0, 'ENG', 0, 'ENG', 1, 'ENG', 0, 'ENG', 0, 'ENG', 0, 'ENG', 1, 'ENG', 0, 'ENG', 1, 'ENG', 0, 'ENG', 0, 'ENG', 0, 'ENG', 0, 'ENG', 0, 'ENG', 0, 'ENG', 0, 'ENG', 0, 'ENG', 0, 'ENG', 0, 'ENG', 0, 'ENG', 0, 'ENG', 0, 'ENG', 0, 'ENG', 0, 'ENG', 0, 'GRK', 0, 'GRK', 0, 'GRK', 0, 'HIST', 0, 'HIST', 0, 'HIST', 1, 'HIST', 1, 'HIST', 0, 'HIST', 0, 'HIST', 0, 'HIST', 0, 'HIST', 0, 'HIST', 0, 'HIST', 0, 'HIST', 0, 'HIST', 1, 'HIST', 0, 'HIST', 0, 'HIST', 2, 'HIST', 0, 'HIST', 0, 'HIST', 0, 'HIST', 0, 'HIST', 0, 'HIST', 0, 'HIST', 0, 'HIST', 0, 'HIST', 0, 'HIST', 0, 'HIST', 0, 'HIST', 0, 'HIST', 0, 'HIST', 0, 'HIST', 0, 'HIST', 1, 'HIST', 0, 'HIST', 0, 'HIST', 0, 'HIST', 1, 'HIST', 1, 'HIST', 0, 'HIST', 0, 'HIST', 0, 'HIST', 0, 'HIST', 0, 'HIST', 0, 'HIST', 0, 'HIST', 0, 'HIST', 0, 'HIST', 0, 'HIST', 0, 'HIST', 0, 'HIST', 0, 'HIST', 0, 'HIST', 0, 'HIST', 0, 'HIST', 0, 'HIST', 0, 'HIST', 0, 'HIST', 0, 'HIST', 0, 'HIST', 0, 'HIST', 0, 'HIST', 0, 'HIST', 0, 'HIST', 0, 'HIST', 0, 'HIST', 0, 'HIST', 0, 'HIST', 0, 'HIST', 0, 'HIST', 0, 'HIST', 0, 'HIST', 3, 'HIST', 0, 'HIST', 0, 'HIST', 0, 'HIST', 0, 'HIST', 0, 'HIST', 0, 'HIST', 0, 'HIST', 0, 'HIST', 0, 'HIST', 0, 'HIST', 0, 'HIST', 0, 'HIST', 0, 'HIST', 0, 'HIST', 0, 'HIST', 6, 'HIST', 0, 'HIST', 0, 'HIST', 0, 'HIST', 0, 'HIST', 0, 'HIST', 0, 'HIST', 0, 'HIST', 0, 'HIST', 1, 'HIST', 1, 'HIST', 0, 'HIST', 0, 'HIST', 0, 'HIST', 0, 'HIST', 0, 'HIST', 0, 'HIST', 0, 'HIST', 0, 'HIST', 0, 'HIST', 0, 'HIST', 0, 'HIST', 0, 'HIST', 0, 'HIST', 0, 'HIST', 0, 'HIST', 0, 'HIST', 0, 'HIST', 0, 'HIST', 0, 'HIST', 0, 'HIST', 0, 'HIST', 1, 'HIST', 0, 'HIST', 0, 'HIST', 0, 'HIST', 0, 'HIST', 0, 'HIST', 0, 'HIST', 1, 'HIST', 0, 'HIST', 0, 'HIST', 0, 'HIST', 0, 'HIST', 0, 'HIST', 0, 'HIST', 0, 'HIST', 1, 'HIST', 0, 'HIST', 0, 'HIST', 0, 'HIST', 1, 'HIST', 0, 'HIST', 0, 'HRNS', 18, 'HRNS', 22, 'HRNS', 4, 'HRNS', 1, 'CHEM', 0, 'LAT', 0, 'LAT', 0, 'WGS', 0, 'WGS', 0, 'WGS', 0, 'WGS', 0, 'WGS', 0, 'WGS', 0, 'WGS', 0, 'WGS', 0, 'WGS', 0, 'WGS', 0, 'WGS', 0, 'WGS', 0, 'WGS', 0, 'WGS', 0, 'WGS', 0, 'WGS', 0, 'WGS', 0, 'WGS', 0, 'WGS', 0, 'WGS', 0, 'WGS', 0, 'WGS', 0, 'WGS', 0, 'WGS', 0, 'WGS', 0, 'WGS', 0, 'WGS', 0, 'WGS', 0, 'WGS', 0, 'WGS', 0, 'WGS', 0, 'WGS', 0, 'WGS', 0, 'WGS', 0, 'WGS', 0, 'WGS', 0, 'WGS', 0, 'WGS', 0, 'WGS', 0, 'THA', 0, 'THA', 0, 'THA', 0, 'THA', 0, 'THA', 0, 'THA', 0, 'THA', 0, 'THA', 0, 'THA', 0, 'THA', 0, 'PSYC', 1, 'PSYC', 0, 'PSYC', 0, 'PSYC', 0, 'PSYC', 1, 'PSYC', 0, 'PSYC', 0, 'PSYC', 0, 'PSYC', 0, 'PSYC', 0, 'PSYC', 0, 'PSYC', 0, 'PSYC', 0, 'PSYC', 0, 'PSYC', 0, 'PSYC', 0, 'PSYC', 0, 'PSYC', 0, 'PSYC', 0, 'PSYC', 0, 'PSYC', 0, 'PSYC', 0, 'PSYC', 0, 'PSYC', 0, 'PSYC', 0, 'PSYC', 0, 'PSYC', 0, 'PSYC', 0, 'PSYC', 1, 'PSYC', 0, 'PSYC', 2, 'PSYC', 1, 'PSYC', 1, 'PSYC', 0, 'PSYC', 0, 'PSYC', 0, 'PSYC', 0, 'PSYC', 0, 'PSYC', 0, 'PSYC', 0, 'PSYC', 0, 'PSYC', 0, 'PSYC', 0, 'PSYC', 3, 'PSYC', 0, 'PSYC', 0, 'PSYC', 0, 'PSYC', 0, 'PSYC', 0, 'PSYC', 0, 'PSYC', 0, 'PSYC', 0, 'PSYC', 0, 'PSYC', 0, 'PSYC', 0, 'PSYC', 0, 'PSYC', 0, 'PSYC', 1, 'PSYC', 0, 'PSYC', 0, 'PSYC', 0, 'PSYC', 0, 'PSYC', 2, 'PSYC', 0, 'PSYC', 0, 'PSYC', 0, 'PSYC', 0, 'PSYC', 0, 'PSYC', 1, 'PSYC', 0, 'PSYC', 0, 'PSYC', 0, 'PSYC', 0, 'PSYC', 1, 'PSYC', 0, 'PSYC', 0, 'PSYC', 0, 'PSYC', 0, 'PSYC', 1, 'PSYC', 0, 'PSYC', 0, 'PSYC', 0, 'PSYC', 0, 'PSYC', 1, 'POL', 0, 'POL', 0, 'POL', 0, 'POL', 0, 'POL', 0, 'POL', 0, 'POL', 0, 'POL', 0, 'POL', 0, 'POL', 0, 'POL', 1, 'POL', 2, 'POL', 0, 'POL', 0, 'POL', 0, 'POL', 0, 'POL', 2, 'POL', 0, 'POL', 3, 'POL', 0, 'POL', 0, 'POL', 1, 'POL', 0, 'POL', 0, 'POL', 0, 'POL', 0, 'POL', 0, 'POL', 0, 'POL', 0, 'POL', 0, 'POL', 0, 'PHYS', 0, 'PHYS', 0, 'PHYS', 1, 'PHYS', 0, 'PHYS', 1, 'PHYS', 1, 'PHYS', 0, 'PHYS', 1, 'PHYS', 0, 'PHYS', 0, 'PHYS', 0, 'PHYS', 0, 'PHYS', 0, 'PHYS', 0, 'PHYS', 1, 'PHYS', 0, 'PHYS', 2, 'PHYS', 3, 'PHYS', 3, 'PHYS', 4, 'PHYS', 1, 'PHYS', 3, 'PHYS', 2, 'PHYS', 0, 'PHYS', 0, 'PHYS', 1, 'PHYS', 1, 'PHYS', 0, 'PHYS', 3, 'PHYS', 0, 'PHYS', 1, 'PHYS', 2, 'PHYS', 0, 'PHYS', 0, 'PHYS', 0, 'PHYS', 3, 'PHYS', 1, 'PHYS', 3, 'MATH', 0, 'MATH', 1, 'MATH', 1, 'MATH', 2, 'MATH', 0, 'MATH', 0, 'MATH', 1, 'MATH', 1, 'MATH', 0, 'MATH', 0, 'MATH', 0, 'MATH', 0, 'MATH', 0, 'MATH', 0, 'MATH', 0, 'MATH', 0, 'MATH', 0, 'MATH', 0, 'MATH', 0, 'MATH', 0, 'MATH', 0, 'MATH', 0, 'MATH', 0, 'MATH', 0, 'MATH', 0, 'MATH', 0, 'MATH', 2, 'MATH', 0, 'MATH', 0, 'MATH', 2, 'MATH', 0, 'MATH', 0, 'MATH', 0, 'MATH', 1, 'MATH', 0, 'MUS', 1, 'MUS', 0, 'MUS', 1, 'MUS', 0, 'MUS', 0, 'MUS', 0, 'MUS', 0, 'MUS', 0, 'MUS', 0, 'MUS', 0, 'MUS', 0, 'MUS', 0, 'MUS', 1, 'MUS', 0, 'MUS', 0, 'MUS', 0, 'MUS', 0, 'MUS', 0, 'MUS', 1, 'MUS', 1, 'MUS', 1, 'MUS', 5, 'MUS', 0, 'MUS', 0, 'MUS', 0, 'MUS', 1, 'MUS', 0, 'NEJS', 0, 'NEJS', 0, 'NEJS', 0, 'NEJS', 0, 'NEJS', 0, 'NEJS', 0, 'NEJS', 0, 'NEJS', 0, 'NEJS', 0, 'NEJS', 0, 'NEJS', 1, 'NEJS', 0, 'NEJS', 0, 'NEJS', 0, 'NEJS', 0, 'NEJS', 0, 'NEJS', 0, 'NEJS', 0, 'NEJS', 0, 'NEJS', 0, 'NEJS', 0, 'NEJS', 0, 'NEJS', 0, 'NEJS', 0, 'NEJS', 0, 'NEJS', 0, 'NEJS', 0, 'NEJS', 0, 'NEJS', 0, 'NEJS', 0, 'NEJS', 0, 'NEJS', 0, 'NEJS', 0, 'NEJS', 0, 'NEJS', 0, 'NEJS', 0, 'NEJS', 0, 'NEUR', 0, 'NEUR', 0, 'NEUR', 0, 'NEUR', 0, 'NEUR', 0, 'NEUR', 0, 'NEUR', 0, 'NEUR', 0, 'NEUR', 0, 'NEUR', 0, 'NEUR', 0, 'NEUR', 0, 'NEUR', 0, 'NEUR', 0, 'NEUR', 0, 'NEUR', 0, 'NEUR', 0, 'NEUR', 1, 'NEUR', 0, 'NEUR', 0, 'NEUR', 2, 'NEUR', 6, 'NEUR', 0, 'NEUR', 2, 'NEUR', 0, 'NEUR', 4, 'NEUR', 0, 'NEUR', 1, 'NEUR', 0, 'NEUR', 3, 'NEUR', 5, 'NEUR', 0, 'NEUR', 0, 'NEUR', 3, 'NEUR', 0, 'NEUR', 2, 'NEUR', 9, 'NEUR', 5, 'NEUR', 0, 'NEUR', 1, 'NEUR', 0, 'NEUR', 5, 'NEUR', 0, 'NEUR', 0, 'NEUR', 1, 'NEUR', 0, 'NEUR', 0, 'NEUR', 1, 'NEUR', 1, 'NEUR', 0, 'NEUR', 0, 'NEUR', 0, 'NEUR', 0, 'NEUR', 0, 'NEUR', 0, 'NEUR', 0, 'NEUR', 0, 'NEUR', 0, 'NEUR', 1, 'NEUR', 0, 'NEUR', 0, 'NEUR', 0, 'NEUR', 0, 'NEUR', 0, 'NEUR', 0, 'NEUR', 0, 'NEUR', 0, 'NEUR', 0, 'NEUR', 0, 'NEUR', 0, 'NEUR', 0, 'NEUR', 0, 'NEUR', 0, 'NEUR', 0, 'NEUR', 0, 'NEUR', 0, 'NEUR', 0, 'NEUR', 0, 'NEUR', 0, 'NEUR', 0, 'NEUR', 0, 'NEUR', 0, 'NEUR', 0, 'NEUR', 0, 'NEUR', 0, 'NEUR', 0, 'NEUR', 0, 'NEUR', 0, 'NEUR', 0, 'NEUR', 0, 'NEUR', 0, 'NEUR', 0, 'NEUR', 0, 'NEUR', 0, 'NEUR', 0, 'NEUR', 0, 'PHIL', 0, 'PHIL', 2, 'PHIL', 1, 'PHIL', 0, 'PHIL', 0, 'PHIL', 0, 'PHIL', 0, 'PHIL', 0, 'PHIL', 0, 'PHIL', 0, 'PHIL', 2, 'PHIL', 0, 'SOC', 0, 'SOC', 2, 'SOC', 0, 'SOC', 0, 'SOC', 1, 'SOC', 0, 'SOC', 0, 'SOC', 0, 'SOC', 0, 'SOC', 0, 'SOC', 0, 'SOC', 0, 'SOC', 0, 'SOC', 0, 'SOC', 0, 'SOC', 0, 'SOC', 0, 'SOC', 0, 'SOC', 0, 'SOC', 0, 'SOC', 0, 'SOC', 0, 'SOC', 0, 'SOC', 0, 'SOC', 0, 'SOC', 0, 'SOC', 0, 'SOC', 0, 'SOC', 0, 'SOC', 0, 'SOC', 0, 'SOC', 0, 'SOC', 0, 'SOC', 0, 'SOC', 0, 'SOC', 0, 'SOC', 0, 'SOC', 0, 'SOC', 0, 'MUS', 1, 'ED', 20, 'BIOL', 0, 'BCBP', 6, 'ED', 24, 'ED', 12, 'ED', 36, 'BCBP', 0, 'BCBP', 0, 'BCBP', 0, 'BCBP', 0, 'BCBP', 0, 'BCBP', 0, 'BCBP', 0, 'BCBP', 0, 'NEUR', 1, 'NEUR', 1, 'NEUR', 0, 'NEUR', 0, 'BIOL', 4, 'BIOL', 2, 'BIOL', 0, 'BIOL', 0, 'BIOL', 0, 'BIOL', 0, 'PMED', 0, 'ESL', 8, 'ESL', 9, 'ESL', 5, 'ESL', 7, 'HIST', 0, 'ED', 0, 'NEUR', 0, 'NEUR', 0, 'BIOL', 1, 'BIOL', 0, 'NEUR', 0, 'NEUR', 0, 'PHYS', 0, 'PHYS', 0, 'PHYS', 0, 'PHYS', 0, 'ANTH', 0, 'BIOL', 0, 'BIOL', 0, 'HIST', 0, 'HIST', 0, 'NEJS', 0, 'BIOL', 0, 'NEJS', 0, 'ANTH', 0, 'PHIL', 0, 'PHYS', 0, 'PHYS', 1, 'MATH', 8, 'BIOL', 0, 'PHYS', 0, 'HIST', 0, 'LAT', 0, 'LAT', 0, 'CLAS', 6, 'MUS', 1, 'ENG', 0, 'NEUR', 0, 'BIOL', 0, 'ENG', 0, 'CHEM', 0, 'CHEM', 5, 'CHEM', 0, 'CHEM', 3, 'HIST', 0, 'NEUR', 1, 'NEUR', 0, 'HRNS', 0, 'HRNS', 0, 'HRNS', 1, 'HRNS', 0, 'HRNS', 0, 'HRNS', 0, 'HRNS', 0, 'HRNS', 0, 'HRNS', 0, 'HRNS', 0, 'PSYC', 0, 'PSYC', 0, 'PSYC', 0, 'PSYC', 0, 'PSYC', 0, 'PSYC', 0, 'PSYC', 0, 'PSYC', 0, 'PSYC', 0, 'PSYC', 0, 'PSYC', 0, 'PSYC', 0, 'PSYC', 0, 'PSYC', 0, 'PSYC', 0, 'PSYC', 0, 'PSYC', 0, 'MATH', 2, 'HIST', 0, 'MATH', 0, 'MATH', 0, 'NEJS', 0, 'COMH', 0, 'BCBP', 0, 'BCBP', 0, 'BCBP', 1, 'BCBP', 2, 'BCBP', 0, 'BCBP', 0, 'BCBP', 0, 'BCBP', 0, 'CLAS', 0, 'CLAS', 0, 'COMH', 0, 'CLAS', 1, 'CLAS', 0, 'HIST', 2, 'COSI', 0, 'COSI', 0, 'MATH', 0, 'MATH', 0, 'MATH', 0, 'MATH', 0, 'MATH', 0, 'MATH', 0, 'MATH', 0, 'HRNS', 0, 'BIOL', 0, 'HIST', 0, 'MATH', 0, 'MATH', 0, 'MATH', 0, 'MATH', 0, 'HIST', 0, 'PHIL', 6, 'ENG', 5, 'BIOT', 0, 'PSYC', 1, 'BIOL', 2, 'BIOL', 1, 'ANTH', 0, 'NBIO', 6, 'ENG', 0, 'NEJS', 1, 'COSI', 3, 'COSI', 0, 'COSI', 0, 'COSI', 1, 'COSI', 0, 'COSI', 3, 'NEJS', 0, 'NEJS', 1, 'SOC', 0, 'SOC', 0, 'COSI', 0, 'PHYS', 2, 'BIOL', 0, 'PHYS', 1, 'WGS', 0, 'COSI', 3, 'COSI', 0, 'ANTH', 3, 'ANTH', 0, 'HIST', 1, 'BCBP', 0, 'COMH', 0, 'ED', 0, 'PHYS', 0, 'ENG', 6, 'MATH', 2, 'MATH', 8, 'MATH', 8, 'MATH', 4, 'SOC', 7, 'SOC', 6, 'POL', 7, 'BUS', 17, 'BUS', 8, 'BUS/FIN', 34, 'BUS', 28, 'BUS/ECON', 27, 'BUS', 25, 'BUS', 12, 'BUS', 21, 'ECON', 33, 'ECON', 0, 'ECON', 0, 'ECON', 0, 'ECON', 0, 'ECON', 0, 'ECON', 0, 'ECON', 0, 'ECON', 41, 'ECON', 17, 'ECON/FIN', 35, 'FIN', 33, 'FIN', 30, 'FIN', 15, 'FIN', 7, 'FIN', 8, 'FIN', 29, 'FIN', 36, 'FIN', 22, 'FIN', 35, 'FIN', 10, 'BUS', 32, 'BUS', 34, 'BUS', 37, 'FIN', 25, 'FIN', 21, 'FIN', 43, 'FIN', 39, 'ECON', 0, 'BUS', 0, 'ECON', 8, 'ECON', 7, 'FIN', 13, 'FIN', 24, 'FIN', 20, 'ECON', 20, 'MUS', 7, 'MATH', 0, 'BUS', 17, 'HIST', 6, 'ECON', 13, 'ENG', 7, 'ANTH', 10, 'MUS', 7, 'MUS', 8, 'COSI', 15, 'COSI', 9, 'SOC', 2, 'ED', 7, 'WGS', 1, 'COSI', 0, 'HRNS', 0, 'HRNS', 18, 'COSI', 0, 'ED', 7, 'ED', 6, 'NEJS', 4, 'ANTH', 4, 'BCBP', 6, 'HS', 16, 'HS', 30, 'HS', 2, 'HS', 37, 'HS', 20, 'HS', 31, 'HS', 16, 'HS', 45, 'HS', 36, 'HS', 41, 'HS', 43, 'HS', 39, 'HS', 35, 'HS', 41, 'HS', 11, 'HS', 23, 'HS', 6, 'HS', 25, 'HS', 20, 'HS', 23, 'HS', 42, 'HS', 14, 'HS', 13, 'HS', 27, 'HS', 8, 'HS', 8, 'HS', 7, 'HS', 35, 'HS', 36, 'HS', 7, 'HS', 8, 'HS', 16, 'HS', 31, 'HS', 11, 'HS', 29, 'HS', 20, 'HS', 4, 'HS', 37, 'HS', 25, 'HS', 6, 'HS', 15, 'HS', 14, 'HS', 10, 'HS', 7, 'HS', 15, 'HS', 20, 'PHIL', 2, 'PHIL', 0, 'COSI', 0, 'COSI', 0, 'COSI', 1, 'COSI', 1, 'HS', 24, 'HIST', 0, 'HIST', 0, 'HIST', 0, 'HIST', 0, 'HIST', 0, 'HIST', 1, 'HIST', 0, 'HIST', 0, 'HIST', 0, 'HIST', 1, 'BUS/ECON', 16, 'BUS', 62, 'BUS', 3, 'FIN', 2, 'PSYC', 1, 'COSI', 2, 'ANTH', 1, 'HIST', 0, 'HIST', 1, 'HIST', 0, 'HIST', 0, 'HIST', 0, 'HIST', 0, 'HIST', 0, 'HIST', 0, 'HIST', 0, 'HIST', 0, 'HIST', 0, 'COSI', 2, 'MATH', 2, 'BCBP', 1, 'COSI', 1, 'HS/POL', 6, 'HS', 31, 'HS', 29, 'HS', 17, 'HS', 1, 'HS', 0, 'ED', 1, 'ECON', 1, 'POL', 1, 'PHYS', 1, 'HRNS', 1, 'PHYS', 1, 'HS', 1, 'PHYS', 1, 'BIOL', 1, 'HS', 3, 'HS', 3, 'HS', 2, 'HS', 4, 'BUS', 1, 'BUS', 1, 'BIOL', 1, 'MUS', 1, 'HS', 1, 'HS', 1, 'HS', 1, 'HIST', 0, 'HIST', 1, 'HIST', 0, 'FIN', 4, 'BUS', 8, 'BUS', 3, 'BUS', 4, 'BUS', 3, 'NEUR', 3, 'COSI', 1, 'COSI', 1, 'HS', 30, 'HS', 30, 'HS', 30, 'HS', 30, 'HS', 30, 'HS', 30, 'HS', 30, 'HS', 30, 'HWL', 17, 'HWL', 8, 'HWL', 18, 'HWL', 13, 'HWL', 42, 'HWL', 16, 'HWL', 5, 'HWL', 27, 'HWL', 0, 'HWL', 28, 'HWL', 12, 'HWL', 5, 'HWL', 25, 'HWL', 25, 'HWL', 47, 'HWL', 14, 'HWL', 19, 'HWL', 11, 'HWL', 7, 'HWL', 10, 'HWL', 11, 'HWL', 38, 'HWL', 12, 'HWL', 26, 'HWL', 7, 'HWL', 24, 'HWL', 27, 'HWL', 24, 'HWL', 17, 'HWL', 21, 'HWL', 24, 'HWL', 12, 'HWL', 21, 'HWL', 23, 'HWL', 8, 'HWL', 9, 'CHIN', 16, 'CHIN', 9, 'CHIN', 0, 'CHIN', 12, 'CHIN', 13, 'CHIN', 21, 'CHIN', 0, 'CHIN', 12, 'CHIN', 0, 'CHIN', 38, 'GER', 1, 'GER', 0, 'GER', 0, 'JAPN', 9, 'JAPN', 7, 'JAPN', 16, 'JAPN', 14, 'JAPN', 17, 'JAPN', 4, 'JAPN', 16, 'KOR', 11, 'KOR', 10, 'KOR', 20, 'RUS', 3, 'RUS', 4, 'ITAL', 6, 'ITAL', 8, 'ITAL', 15, 'HISP', 17, 'HISP', 15, 'HISP', 20, 'HISP', 12, 'HISP', 12, 'HISP', 18, 'HISP', 8, 'HISP', 20, 'HISP', 17, 'HISP', 11, 'HISP', 12, 'HISP', 10, 'HISP', 7, 'HISP', 15, 'HISP', 8, 'HISP', 22, 'FREN', 11, 'FREN', 8, 'FREN', 12, 'FREN', 10, 'FREN', 18, 'FREN', 13, 'FREN', 15, 'BIOL', 52, 'BIOL', 26, 'BIOL', 21, 'BIOL', 31, 'BIOL', 31, 'BIOL', 30, 'BIOL', 181, 'BIOL', 42, 'BIOL', 43, 'BIOL', 32, 'BIOL', 17, 'BIOL', 25, 'BIOL', 16, 'NBIO', 19, 'ANTH', 100, 'IGS', 28, 'AMST', 0, 'AMST', 0, 'AMST', 0, 'AMST', 0, 'AMST', 0, 'AMST', 0, 'AMST', 0, 'AMST', 0, 'ANTH', 0, 'ANTH', 0, 'ANTH', 0, 'ANTH', 0, 'ANTH', 0, 'ANTH', 0, 'AAAS', 0, 'AAAS', 0, 'AAAS', 0, 'AAAS', 0, 'AAAS', 1, 'AMST', 0, 'AMST', 0, 'AMST', 0, 'AMST', 0, 'AMST', 0, 'AMST', 0, 'AMST', 0, 'AMST', 1, 'AMST', 0, 'ANTH', 1, 'ANTH', 0, 'ANTH', 1, 'ANTH', 0, 'ANTH', 0, 'ANTH', 0, 'ANTH', 0, 'ANTH', 1, 'ANTH', 0, 'ANTH', 0, 'ANTH', 0, 'ANTH', 0, 'ANTH', 2, 'ANTH', 0, 'ANTH', 0, 'BCHM', 0, 'BCHM', 0, 'BCHM', 0, 'BCHM', 0, 'BCHM', 0, 'BCHM', 0, 'BCHM', 0, 'BCHM', 0, 'BCHM', 0, 'BCHM', 1, 'BCHM', 0, 'BCHM', 0, 'BCHM', 1, 'BCHM', 0, 'BCHM', 0, 'BCHM', 0, 'BCHM', 0, 'BCHM', 0, 'BCHM', 0, 'BCHM', 2, 'BCHM', 0, 'BCHM', 0, 'BCHM', 0, 'BCHM', 0, 'BCHM', 0, 'BCHM', 0, 'BCHM', 3, 'BCHM', 1, 'BCHM', 0, 'BCHM', 0, 'BCHM', 0, 'BCHM', 0, 'BCHM', 0, 'BCHM', 0, 'BCHM', 0, 'BCHM', 0, 'BCHM', 1, 'BCHM', 0, 'BCHM', 0, 'BCHM', 0, 'BCHM', 0, 'BCHM', 0, 'BCHM', 0, 'BCHM', 0, 'BCHM', 0, 'BCHM', 0, 'BCHM', 0, 'BCHM', 0, 'BCHM', 0, 'BCHM', 0, 'BIPH', 0, 'BIPH', 0, 'BIPH', 0, 'BIPH', 0, 'BIPH', 0, 'BIPH', 0, 'BIPH', 0, 'BIPH', 0, 'BIPH', 0, 'BIPH', 0, 'BIPH', 0, 'BIPH', 0, 'BIPH', 0, 'BIPH', 0, 'BIPH', 0, 'BIPH', 0, 'BIPH', 0, 'BIPH', 0, 'BIPH', 1, 'BIPH', 0, 'BIPH', 0, 'BIPH', 0, 'BIPH', 0, 'BIPH', 0, 'BIPH', 0, 'BIOL', 0, 'BIOL', 0, 'BIOL', 0, 'BIOL', 0, 'BIOL', 0, 'BIOL', 0, 'BIOL', 0, 'BIOL', 0, 'BIOL', 1, 'BIOL', 0, 'BIOL', 0, 'BIOL', 0, 'BIOL', 0, 'BIOL', 1, 'BIOL', 0, 'BIOL', 0, 'BIOL', 0, 'BIOL', 0, 'BIOL', 0, 'BIOL', 0, 'BIOL', 0, 'BIOL', 0, 'BIOL', 0, 'BIOL', 0, 'BIOL', 0, 'BIOL', 0, 'BIOL', 0, 'BIOL', 0, 'BIOL', 0, 'BIOL', 0, 'BIOL', 0, 'BIOL', 0, 'BIOL', 0, 'BIOL', 0, 'BIOL', 0, 'BIOL', 0, 'BIOL', 0, 'BIOL', 1, 'BIOL', 1, 'BIOL', 0, 'BIOL', 0, 'BIOL', 0, 'BIOL', 1, 'BIOL', 0, 'BIOL', 1, 'BIOL', 0, 'BIOL', 0, 'BIOL', 0, 'BIOL', 3, 'BIOL', 0, 'BIOL', 2, 'BIOL', 0, 'BIOL', 0, 'BIOL', 0, 'BIOL', 0, 'BIOL', 0, 'BIOL', 1, 'BIOL', 0, 'BIOL', 0, 'BIOL', 0, 'BIOL', 0, 'BIOL', 0, 'BIOL', 0, 'BIOL', 0, 'BIOL', 0, 'BIOL', 0, 'BIOL', 2, 'BIOL', 1, 'BIOL', 0, 'BIOL', 0, 'BIOL', 0, 'BIOL', 0, 'BIOL', 0, 'BIOL', 0, 'BIOL', 0, 'BIOL', 0, 'BIOL', 0, 'BIOL', 0, 'BIOL', 0, 'BIOL', 0, 'BIOL', 0, 'BIOL', 0, 'BIOL', 0, 'BIOL', 0, 'BIOL', 0, 'BIOL', 0, 'BIOL', 0, 'BIOL', 0, 'BIOL', 0, 'BIOL', 0, 'EAS', 0, 'EAS', 0, 'EAS', 0, 'EAS', 0, 'EAS', 1, 'EAS', 1, 'EAS', 0, 'EAS', 0, 'EAS', 0, 'EAS', 0, 'EAS', 0, 'EAS', 0, 'EAS', 0, 'EAS', 0, 'EAS', 0, 'BUS', 0, 'BUS', 0, 'BUS', 0, 'BUS', 0, 'BUS', 1, 'BUS', 0, 'BUS', 0, 'BUS', 3, 'BCHM', 0, 'BCHM', 0, 'BCHM', 1, 'BCHM', 1, 'BCHM', 0, 'BCHM', 0, 'BCHM', 0, 'BCHM', 0, 'BCHM', 0, 'BCHM', 0, 'BCHM', 0, 'BCHM', 0, 'BCHM', 1, 'BCHM', 0, 'BCHM', 0, 'BCHM', 0, 'BCHM', 0, 'BCHM', 1, 'BCHM', 0, 'BCHM', 0, 'BCHM', 0, 'BCHM', 0, 'BCHM', 0, 'BCHM', 0, 'BCHM', 0, 'BCHM', 0, 'BCHM', 0, 'BCHM', 0, 'BCHM', 0, 'BCHM', 0, 'BCHM', 0, 'BCHM', 0, 'BCHM', 1, 'BCHM', 0, 'BCHM', 0, 'AMST', 16, 'HIST', 29, 'WGS', 31, 'BCHM', 0, 'BCHM', 0, 'BCHM', 0, 'CHEM', 0, 'CHEM', 0, 'CHEM', 0, 'CHEM', 0, 'CHEM', 0, 'CHEM', 0, 'BCHM', 0, 'BCHM', 0, 'CHEM', 0, 'CHEM', 0, 'CHEM', 0, 'CHEM', 0, 'BCHM', 0, 'BCHM', 0, 'BCHM', 0, 'BCHM', 0, 'BCHM', 0, 'BCHM', 0, 'BCHM', 0, 'CHEM', 1, 'CHEM', 0, 'CHEM', 0, 'CHEM', 0, 'CHEM', 0, 'CHEM', 0, 'CHEM', 1, 'CHEM', 2, 'CHEM', 0, 'CHEM', 0, 'BCHM', 0, 'BCHM', 0, 'BCHM', 0, 'BCHM', 0, 'BCHM', 0, 'BCHM', 0, 'BCHM', 0, 'BCHM', 0, 'BCHM', 0, 'BCHM', 0, 'BCHM', 0, 'BCHM', 0, 'BCHM', 0, 'BCHM', 0, 'BCHM', 0, 'BCHM', 0, 'BCHM', 0, 'BCHM', 0, 'BCHM', 0, 'BCHM', 0, 'BCHM', 0, 'COSI', 43, 'CHIN', 0, 'CHIN', 0, 'COSI', 99, 'COSI', 87, 'CLAS', 4, 'COSI', 33, 'CLAS', 0, 'CLAS', 0, 'CLAS', 1, 'CLAS', 0, 'CLAS', 4, 'CLAS', 0, 'CLAS', 0, 'CLAS', 0, 'CLAS', 0, 'COML', 0, 'COML', 0, 'COML', 0, 'COML', 0, 'COML', 0, 'COML', 0, 'COML', 0, 'COML', 0, 'COML', 0, 'COML', 0, 'COML', 0, 'COML', 0, 'COML', 0, 'COML', 0, 'COML', 0, 'COML', 0, 'COML', 0, 'COML', 0, 'COML', 0, 'COML', 0, 'COML', 0, 'COML', 0, 'COML', 0, 'COML', 0, 'COML', 0, 'COML', 0, 'COML', 0, 'COML', 0, 'COML', 0, 'COML', 0, 'COML', 0, 'COML', 0, 'COML', 0, 'COML', 0, 'COML', 0, 'COML', 0, 'COML', 0, 'COSI', 0, 'COSI', 2, 'COSI', 0, 'COSI', 0, 'COSI', 0, 'COSI', 0, 'COSI', 0, 'COSI', 0, 'COSI', 0, 'COSI', 0, 'COSI', 1, 'COSI', 0, 'COSI', 0, 'COSI', 0, 'COSI', 0, 'COSI', 2, 'COSI', 0, 'COSI', 0, 'COSI', 0, 'COSI', 0, 'COSI', 2, 'COSI', 0, 'COSI', 0, 'COSI', 1, 'COSI', 0, 'COSI', 0, 'COSI', 0, 'COSI', 0, 'ED', 1, 'ED', 0, 'ED', 0, 'ED', 0, 'ED', 0, 'ED', 0, 'SAS', 0, 'YDSH', 0, 'SJSP', 0, 'RUS', 0, 'REL', 0, 'REL', 0, 'REL', 0, 'REL', 0, 'REL', 0, 'REL', 0, 'PAX', 1, 'PAX', 0, 'PAX', 1, 'LGLS', 0, 'LGLS', 0, 'CLAS', 16, 'LAT', 10, 'BCHM', 47, 'BCHM', 24, 'BCHM', 28, 'QBIO', 6, 'BIBC', 26, 'HSSP', 0, 'HSSP', 34, 'HSSP', 30, 'HSSP', 0, 'HSSP', 0, 'HSSP', 0, 'HSSP', 0, 'HSSP', 0, 'HSSP', 1, 'HSSP', 0, 'HSSP', 0, 'HSSP', 1, 'HSSP', 1, 'HSSP', 26, 'HSSP', 0, 'HSSP', 33, 'HSSP', 24, 'HSSP', 33, 'HSSP', 0, 'HSSP', 22, 'ECON', 0, 'ECON', 0, 'ECON', 0, 'ECON', 1, 'ECON', 0, 'ECON', 0, 'ECON', 0, 'ECON', 0, 'ECON', 0, 'ECON', 0, 'ECON', 10, 'ECON', 0, 'ENG', 1, 'ENG', 1, 'ENG', 0, 'ENG', 1, 'ENG', 1, 'ENG', 0, 'ENG', 1, 'ENG', 0, 'ENG', 1, 'ENG', 0, 'ENG', 0, 'ENG', 0, 'ENG', 0, 'ENG', 0, 'ENG', 0, 'ENG', 0, 'ENG', 0, 'ENG', 0, 'ENG', 0, 'ENG', 0, 'ENG', 1, 'ENG', 1, 'ENG', 0, 'ENG', 1, 'ENG', 1, 'ENG', 0, 'ENG', 0, 'ENG', 0, 'ENG', 0, 'ENG', 0, 'ENG', 0, 'ENG', 0, 'ENG', 0, 'ENG', 0, 'ENG', 1, 'ENG', 0, 'ENG', 0, 'ENG', 0, 'ENG', 0, 'ENG', 0, 'ENG', 0, 'ENG', 1, 'ENVS', 0, 'ENVS', 0, 'ENVS', 0, 'ENVS', 0, 'ENVS', 0, 'ENVS', 0, 'ENVS', 0, 'ENVS', 0, 'ENVS', 0, 'ENVS', 0, 'ENVS', 0, 'ENVS', 1, 'ENVS', 0, 'ECS', 0, 'ECS', 0, 'ECS', 1, 'ECS', 0, 'ECS', 0, 'ECS', 0, 'ECS', 0, 'ECS', 0, 'ECS', 0, 'FILM', 1, 'FILM', 1, 'FILM', 2, 'FILM', 2, 'FA', 0, 'FA', 0, 'FA', 1, 'FA', 0, 'FA', 0, 'FA', 0, 'FA', 0, 'FA', 0, 'FA', 0, 'FA', 0, 'FA', 1, 'FA', 0, 'FA', 0, 'FA', 0, 'FA', 0, 'FA', 0, 'FA', 1, 'FA', 0, 'FA', 0, 'FA', 0, 'FA', 0, 'FA', 0, 'FA', 0, 'FA', 0, 'FA', 0, 'FA', 0, 'FA', 0, 'FA', 0, 'FA', 0, 'FA', 0, 'FA', 0, 'FA', 0, 'FA', 0, 'FA', 0, 'FREN', 0, 'FREN', 0, 'FREN', 0, 'FREN', 0, 'FREN', 0, 'FREN', 0, 'GER', 0, 'GER', 0, 'GRK', 0, 'GRK', 0, 'GRK', 0, 'GRK', 0, 'GRK', 0, 'GRK', 0, 'GRK', 0, 'GRK', 0, 'GRK', 0, 'GRK', 0, 'GRK', 0, 'GRK', 0, 'HSSP', 0, 'HISP', 0, 'HISP', 0, 'HISP', 0, 'HIST', 0, 'HIST', 0, 'HIST', 0, 'HIST', 0, 'HIST', 0, 'HIST', 0, 'HIST', 0, 'HIST', 0, 'HIST', 0, 'HIST', 0, 'HIST', 0, 'HIST', 0, 'HIST', 0, 'HIST', 0, 'HIST', 0, 'HIST', 0, 'HIST', 0, 'HIST', 0, 'HIST', 0, 'HIST', 0, 'HIST', 0, 'HIST', 0, 'HIST', 0, 'HIST', 0, 'HIST', 0, 'HIST', 0, 'HIST', 0, 'HIST', 0, 'HIST', 0, 'HIST', 0, 'HIST', 0, 'HIST', 0, 'HIST', 0, 'HIST', 0, 'HIST', 0, 'HIST', 0, 'HIST', 0, 'HIST', 0, 'HIST', 0, 'HIST', 0, 'HIST', 2, 'HIST', 0, 'HIST', 0, 'HIST', 1, 'CHEM', 47, 'CHEM', 53, 'CHEM', 49, 'CHEM', 23, 'CHEM', 65, 'CHEM', 7, 'CHEM', 21, 'CHEM', 68, 'CHEM', 55, 'CHEM', 21, 'CHEM', 46, 'CHEM', 43, 'CHEM', 180, 'CHEM', 28, 'CHEM', 51, 'CHEM', 23, 'CHEM', 33, 'CHEM', 28, 'HOID', 0, 'HOID', 0, 'IIM', 0, 'IIM', 0, 'IIM', 0, 'MUS', 3, 'MUS', 0, 'MUS', 10, 'MUS', 8, 'MUS', 11, 'MUS', 1, 'MUS', 1, 'MUS', 3, 'MUS', 15, 'MUS', 5, 'MUS', 5, 'MUS', 0, 'MUS', 0, 'MUS', 0, 'MUS', 0, 'MUS', 0, 'MUS', 0, 'MUS', 12, 'MUS', 7, 'MUS', 9, 'MUS', 9, 'MUS', 6, 'MUS', 3, 'MUS', 1, 'MUS', 7, 'MUS', 0, 'MUS', 0, 'MUS', 0, 'MUS', 0, 'MUS', 0, 'MUS', 0, 'MUS', 0, 'MUS', 0, 'MUS', 0, 'MUS', 0, 'MUS', 0, 'MUS', 0, 'MUS', 0, 'MUS', 0, 'MUS', 0, 'MUS', 0, 'MUS', 0, 'MUS', 0, 'MUS', 0, 'MUS', 0, 'MUS', 0, 'MUS', 0, 'MUS', 0, 'MUS', 0, 'MUS', 0, 'MUS', 0, 'MUS', 0, 'MUS', 0, 'MUS', 0, 'MUS', 10, 'MUS', 0, 'MUS', 5, 'MUS', 4, 'MUS', 6, 'MUS', 1, 'MUS', 13, 'MUS', 2, 'MUS', 28, 'MUS', 4, 'MUS', 0, 'MUS', 0, 'MUS', 36, 'ENG', 10, 'ENG', 12, 'IGS', 5, 'IGS', 0, 'IGS', 0, 'IGS', 0, 'IGS', 0, 'IGS', 0, 'IGS', 0, 'IGS', 0, 'IGS', 0, 'IGS', 1, 'IGS', 0, 'IGS', 0, 'IGS', 0, 'IGS', 0, 'IGS', 0, 'IGS', 1, 'IGS', 0, 'IGS', 0, 'IGS', 1, 'IGS', 0, 'IGS', 0, 'IGS', 0, 'IGS', 0, 'PHIL', 39, 'POL', 38, 'POL', 44, 'PAX', 22, 'SOC', 103, 'SOC', 22, 'SOC', 90, 'PHYS', 24, 'PHYS', 8, 'PHYS', 0, 'PHYS', 0, 'PHYS', 0, 'PHYS', 0, 'PHYS', 0, 'PHYS', 0, 'PHYS', 0, 'PHYS', 0, 'PHYS', 0, 'PHYS', 0, 'PHYS', 0, 'PHYS', 0, 'PHYS', 0, 'PHYS', 0, 'PHYS', 0, 'PHYS', 0, 'PHYS', 0, 'PHYS', 1, 'PHYS', 37, 'PHYS', 0, 'PHYS', 0, 'PHYS', 0, 'PHYS', 0, 'PHYS', 0, 'PHYS', 0, 'PHYS', 0, 'PHYS', 0, 'PHYS', 0, 'PHYS', 0, 'PHYS', 0, 'PHYS', 9, 'PHYS', 52, 'PHYS', 13, 'PHYS', 0, 'PHYS', 0, 'PHYS', 0, 'PHYS', 0, 'PHYS', 0, 'PHYS', 0, 'PHYS', 0, 'PHYS', 0, 'PHYS', 0, 'PHYS', 0, 'PHYS', 0, 'PHYS', 0, 'PHYS', 0, 'PHYS', 0, 'PHYS', 0, 'PHYS', 0, 'PHYS', 0, 'PHYS', 63, 'PHYS', 0, 'PHYS', 0, 'PHYS', 24, 'PHYS', 23, 'PHYS', 24, 'PHYS', 20, 'PHYS', 107, 'PHYS', 0, 'MATH', 17, 'MATH', 25, 'MATH', 16, 'MATH', 32, 'MATH', 27, 'MATH', 23, 'MATH', 20, 'MATH', 43, 'MATH', 59, 'MATH', 0, 'MATH', 0, 'MATH', 0, 'MATH', 0, 'MATH', 0, 'MATH', 0, 'MATH', 0, 'MATH', 19, 'MATH', 0, 'MATH', 42, 'MATH', 12, 'MATH', 8, 'AAAS', 0, 'AAAS', 0, 'AAAS', 0, 'AAAS', 0, 'AMST', 0, 'AMST', 0, 'AMST', 0, 'AMST', 0, 'AMST', 0, 'AMST', 0, 'AMST', 0, 'AMST', 1, 'AMST', 0, 'AMST', 0, 'AMST', 0, 'AMST', 0, 'AMST', 0, 'AMST', 0, 'AMST', 0, 'AMST', 0, 'CAST', 0, 'IMES', 0, 'IMES', 0, 'IMES', 0, 'ITAL', 0, 'ITAL', 0, 'ITAL', 0, 'LAT', 0, 'LAT', 0, 'LAT', 0, 'LAT', 0, 'LAT', 0, 'LAT', 0, 'LAT', 0, 'LAT', 0, 'LAT', 0, 'LAT', 0, 'LAT', 0, 'LAT', 0, 'LALS', 0, 'LALS', 0, 'LALS', 0, 'LALS', 0, 'LALS', 0, 'LALS', 0, 'LALS', 0, 'LALS', 0, 'JAPN', 0, 'LING', 0, 'LING', 0, 'LING', 0, 'LING', 0, 'LING', 0, 'LING', 0, 'LING', 0, 'LING', 0, 'JOUR', 0, 'JOUR', 0, 'WGS', 0, 'WGS', 0, 'WGS', 0, 'WGS', 0, 'WGS', 0, 'WGS', 0, 'WGS', 0, 'WGS', 0, 'WGS', 1, 'WGS', 0, 'WGS', 0, 'WGS', 0, 'WGS', 0, 'WGS', 0, 'WGS', 0, 'WGS', 0, 'WGS', 0, 'WGS', 1, 'WGS', 0, 'WGS', 2, 'WGS', 0, 'WGS', 0, 'WGS', 0, 'WGS', 0, 'WGS', 0, 'WGS', 0, 'WGS', 0, 'WGS', 0, 'WGS', 0, 'WGS', 0, 'WGS', 0, 'WGS', 0, 'WGS', 0, 'WGS', 0, 'WGS', 0, 'WGS', 0, 'WGS', 0, 'WGS', 0, 'WGS', 0, 'WGS', 0, 'WGS', 0, 'WGS', 0, 'WGS', 0, 'WGS', 0, 'WGS', 0, 'WGS', 0, 'WGS', 0, 'WGS', 0, 'WGS', 0, 'WGS', 0, 'WGS', 0, 'WGS', 0, 'WGS', 0, 'WGS', 0, 'WGS', 1, 'THA', 0, 'THA', 0, 'THA', 0, 'THA', 0, 'THA', 1, 'THA', 0, 'THA', 0, 'THA', 0, 'THA', 0, 'THA', 0, 'THA', 0, 'THA', 0, 'THA', 0, 'THA', 0, 'THA', 0, 'THA', 0, 'THA', 0, 'THA', 0, 'THA', 0, 'THA', 1, 'THA', 1, 'THA', 0, 'THA', 1, 'THA', 0, 'THA', 0, 'THA', 0, 'THA', 1, 'THA', 1, 'THA', 2, 'THA', 0, 'RUS', 0, 'RUS', 0, 'RUS', 0, 'RUS', 0, 'PSYC', 1, 'PSYC', 0, 'PSYC', 0, 'PSYC', 0, 'PSYC', 0, 'PSYC', 1, 'PSYC', 0, 'PSYC', 0, 'PSYC', 0, 'PSYC', 0, 'PSYC', 0, 'PSYC', 0, 'PSYC', 0, 'PSYC', 0, 'PSYC', 0, 'PSYC', 1, 'PSYC', 0, 'PSYC', 0, 'PSYC', 0, 'PSYC', 0, 'PSYC', 0, 'PSYC', 0, 'PSYC', 0, 'PSYC', 0, 'PSYC', 0, 'PSYC', 0, 'PSYC', 0, 'PSYC', 0, 'PSYC', 0, 'PSYC', 0, 'PSYC', 0, 'PSYC', 0, 'PSYC', 0, 'PSYC', 0, 'PSYC', 2, 'PSYC', 0, 'PSYC', 0, 'PSYC', 0, 'PSYC', 0, 'PSYC', 0, 'PSYC', 0, 'PSYC', 0, 'PSYC', 0, 'PSYC', 0, 'PSYC', 0, 'PSYC', 0, 'PSYC', 0, 'PSYC', 0, 'PSYC', 0, 'PSYC', 0, 'PSYC', 0, 'PSYC', 0, 'PSYC', 0, 'PSYC', 0, 'PSYC', 0, 'PSYC', 1, 'PSYC', 0, 'PSYC', 0, 'PSYC', 0, 'PSYC', 1, 'PSYC', 0, 'PSYC', 0, 'PSYC', 2, 'PSYC', 0, 'PSYC', 1, 'PSYC', 1, 'PSYC', 0, 'PSYC', 0, 'PSYC', 1, 'POL', 0, 'POL', 0, 'POL', 0, 'POL', 0, 'POL', 0, 'POL', 0, 'POL', 0, 'POL', 0, 'POL', 0, 'POL', 0, 'POL', 0, 'POL', 0, 'POL', 0, 'POL', 0, 'POL', 0, 'POL', 0, 'POL', 0, 'POL', 0, 'POL', 2, 'POL', 0, 'POL', 1, 'POL', 1, 'POL', 1, 'POL', 0, 'POL', 0, 'POL', 0, 'POL', 1, 'POL', 0, 'POL', 0, 'POL', 0, 'POL', 0, 'POL', 0, 'POL', 0, 'POL', 0, 'POL', 0, 'POL', 0, 'POL', 0, 'PHYS', 1, 'PHYS', 0, 'PHYS', 0, 'PHYS', 0, 'PHYS', 0, 'PHYS', 1, 'PHYS', 0, 'PHYS', 0, 'PHYS', 0, 'PHYS', 0, 'PHYS', 0, 'PHYS', 0, 'PHYS', 0, 'PHYS', 0, 'PHYS', 0, 'PHYS', 0, 'HBRW', 0, 'HBRW', 0, 'HBRW', 0, 'HBRW', 0, 'HBRW', 0, 'HBRW', 0, 'HBRW', 0, 'MATH', 0, 'MATH', 0, 'NEJS', 0, 'NEJS', 0, 'NEJS', 0, 'NEJS', 0, 'NEJS', 0, 'NEJS', 0, 'NEJS', 0, 'NEJS', 0, 'NEJS', 0, 'NEJS', 0, 'NEJS', 0, 'NEJS', 0, 'NEJS', 0, 'NEJS', 0, 'NEJS', 0, 'NEJS', 0, 'NEJS', 0, 'NEJS', 0, 'NEJS', 0, 'NEJS', 0, 'NEJS', 0, 'NEJS', 1, 'NEJS', 0, 'NEJS', 0, 'NEJS', 0, 'NEJS', 0, 'NEJS', 0, 'NEJS', 0, 'NEJS', 0, 'NEJS', 0, 'NEJS', 0, 'NEJS', 1, 'NEJS', 0, 'NEJS', 0, 'NEJS', 0, 'NEJS', 0, 'NEJS', 0, 'NEJS', 0, 'NEJS', 0, 'NEJS', 0, 'NEJS', 0, 'NEJS', 0, 'NEJS', 0, 'NEJS', 0, 'NEJS', 0, 'NEUR', 0, 'NEUR', 0, 'NEUR', 0, 'NEUR', 0, 'NEUR', 0, 'NEUR', 0, 'NEUR', 0, 'NEUR', 0, 'NEUR', 0, 'NEUR', 0, 'NEUR', 0, 'NEUR', 0, 'NEUR', 0, 'NEUR', 0, 'NEUR', 0, 'NEUR', 0, 'NEUR', 0, 'NEUR', 0, 'NEUR', 0, 'NEUR', 0, 'NEUR', 0, 'NEUR', 1, 'NEUR', 2, 'NEUR', 0, 'NEUR', 0, 'NEUR', 0, 'NEUR', 0, 'NEUR', 1, 'NEUR', 0, 'NEUR', 1, 'NEUR', 0, 'NEUR', 0, 'NEUR', 1, 'NEUR', 0, 'NEUR', 0, 'NEUR', 1, 'NEUR', 0, 'NEUR', 1, 'NEUR', 0, 'NEUR', 0, 'NEUR', 0, 'NEUR', 0, 'NEUR', 0, 'NEUR', 1, 'NEUR', 1, 'NEUR', 0, 'NEUR', 0, 'NEUR', 0, 'NEUR', 0, 'NEUR', 0, 'NEUR', 0, 'NEUR', 0, 'NEUR', 0, 'NEUR', 0, 'NEUR', 0, 'PHIL', 0, 'PHIL', 0, 'PHIL', 0, 'PHIL', 0, 'PHIL', 0, 'PHIL', 0, 'PHIL', 0, 'PHIL', 0, 'PHIL', 0, 'PHIL', 1, 'PHIL', 3, 'PHIL', 0, 'PHIL', 0, 'PHIL', 0, 'PHIL', 2, 'SOC', 0, 'SOC', 0, 'SOC', 0, 'SOC', 0, 'SOC', 0, 'SOC', 0, 'SOC', 1, 'SOC', 0, 'SOC', 0, 'SOC', 0, 'SOC', 0, 'SOC', 0, 'SOC', 0, 'SOC', 0, 'SOC', 0, 'SOC', 0, 'SOC', 0, 'SOC', 1, 'SOC', 0, 'SOC', 0, 'SOC', 0, 'SOC', 0, 'SOC', 0, 'SOC', 0, 'SOC', 0, 'SOC', 0, 'NPSY', 14, 'NPSY', 18, 'PSYC', 105, 'PSYC', 25, 'PSYC', 68, 'PSYC', 25, 'PSYC', 170, 'THA', 8, 'THA', 27, 'LING', 28, 'LING', 21, 'COSI', 32, 'COSI', 5, 'LGLS', 19, 'LGLS', 30, 'LING', 15, 'COSI', 15, 'COSI', 21, 'FA', 12, 'FA', 8, 'FA', 10, 'FA', 10, 'FA', 12, 'FA', 13, 'FA', 15, 'FA', 15, 'FA', 16, 'BIPH', 0, 'PSYC', 0, 'PSYC', 0, 'ARBC', 10, 'ARBC', 8, 'HBRW', 13, 'HBRW', 10, 'HBRW', 11, 'HBRW', 12, 'YDSH', 6, 'ED', 19, 'ED', 8, 'LALS', 18, 'PSYC', 2, 'MUS', 0, 'MUS', 0, 'MUS', 0, 'MUS', 0, 'PHYS', 11, 'GRK', 6, 'COSI', 61, 'THA', 0, 'POL', 30, 'INT', 7, 'MUS', 0, 'MUS', 0, 'MUS', 10, 'MUS', 3, 'MUS', 0, 'MUS', 0, 'MUS', 0, 'MUS', 0, 'MUS', 3, 'MUS', 2, 'MUS', 1, 'MUS', 1, 'MUS', 3, 'MUS', 0, 'BCHM', 0, 'BCHM', 0, 'BCHM', 1, 'BCHM', 0, 'BCHM', 0, 'BCHM', 0, 'BCHM', 0, 'MUS', 3, 'MUS', 0, 'MATH', 48, 'THA', 0, 'THA', 0, 'IMES', 0, 'THA', 0, 'BIOL', 0, 'NEUR', 0, 'BIOL', 0, 'BIOL', 0, 'BIOL', 0, 'BIOL', 0, 'BIOL', 0, 'BIOL', 0, 'BIOL', 0, 'BIOL', 1, 'BIOL', 0, 'BIOL', 0, 'BIOL', 0, 'BIOL', 0, 'BIOL', 0, 'BIOL', 0, 'BIOL', 0, 'BIOL', 1, 'BIOL', 0, 'BIOL', 0, 'BIOL', 0, 'BIOL', 0, 'BIOL', 0, 'BIOL', 0, 'BIOL', 0, 'BIOL', 0, 'BIOL', 0, 'BIOL', 0, 'BIOL', 0, 'BIOL', 0, 'BIOL', 0, 'BIOL', 0, 'BIOL', 0, 'NEUR', 0, 'NEUR', 0, 'NEUR', 0, 'NEUR', 0, 'NEUR', 1, 'NEUR', 0, 'NEUR', 0, 'NEUR', 0, 'NEUR', 0, 'NEUR', 0, 'NEUR', 0, 'NEUR', 0, 'NEUR', 0, 'NEUR', 0, 'NEUR', 0, 'NEUR', 0, 'NEUR', 1, 'NEUR', 0, 'NEUR', 0, 'NEUR', 0, 'NEUR', 0, 'NEUR', 0, 'NEUR', 0, 'NEUR', 0, 'BIOL', 0, 'BIOL', 0, 'BIOL', 1, 'BIOL', 0, 'BCHM', 0, 'CHEM', 0, 'THA', 0, 'FA', 1, 'FA', 0, 'COSI', 1, 'POL', 0, 'POL', 0, 'NEUR', 0, 'FREN', 0, 'FILM', 15, 'BUS', 37, 'BUS', 34, 'BUS', 32, 'BUS', 19, 'BUS', 36, 'BUS', 31, 'BUS', 23, 'BUS', 36, 'BUS', 37, 'BUS', 34, 'BUS', 37, 'BUS', 39, 'BUS', 38, 'BUS', 23, 'BUS', 40, 'ED', 2, 'KOR', 1, 'BIOL', 8, 'ECON', 83, 'ECON', 69, 'ECON', 46, 'ECON', 56, 'ECON', 52, 'ECON', 19, 'ECON', 29, 'ECON', 23, 'ECON', 32, 'ECON', 28, 'ECON', 41, 'ECON', 43, 'ECON', 36, 'ECON', 35, 'ECON', 30, 'ECON', 31, 'ECON', 18, 'IGS', 0, 'COSI', 66, 'AAAS', 0, 'HSSP', 0, 'CA', 21, 'ENVS', 0, 'FA', 0, 'HIST', 0, 'ANTH', 0, 'HIST', 0, 'IGS', 0, 'SOC', 0, 'NEJS', 0, 'BIOL', 0, 'JOUR', 17, 'ANTH', 17, 'CHEM', 15, 'SOC', 75, 'THA', 12, 'PSYC', 24, 'CHIN', 11, 'CHEM', 14, 'CHEM', 22, 'MATH', 19, 'HBRW', 8, 'BUS', 25, 'MATH', 0, 'MATH', 0, 'MATH', 0, 'MATH', 0, 'MATH', 0, 'MATH', 0, 'MATH', 0, 'MATH', 0, 'MATH', 0, 'MATH', 0, 'MATH', 0, 'MATH', 2, 'MATH', 0, 'MATH', 0, 'MATH', 0, 'MATH', 0, 'FILM', 43, 'CHEM', 0, 'CHEM', 0, 'CHEM', 1, 'CHEM', 0, 'HIST', 0, 'BIOL', 0, 'MATH', 0, 'MATH', 0, 'ANTH', 0, 'ANTH', 0, 'ANTH', 0, 'ANTH', 0, 'ANTH', 0, 'ITAL', 0, 'EBIO', 1, 'ECON', 0, 'IGS', 0, 'IGS', 0, 'IIM', 0, 'IIM', 0, 'PHIL', 0, 'BIOL', 0, 'BIOL', 1, 'BCHM', 0, 'BCHM', 0, 'BCHM', 0, 'BCHM', 0, 'BCHM', 0, 'BCHM', 0, 'BCHM', 0, 'BCHM', 1, 'BCHM', 0, 'CLAS', 0, 'CLAS', 0, 'CLAS', 1, 'IIM', 0, 'CHEM', 0, 'ED', 0, 'LGLS', 0, 'CLAS', 0, 'CLAS', 0, 'BIOL', 0, 'BUS', 0, 'MATH', 0, 'MATH', 0, 'FA', 10, 'FA', 18, 'CHEM', 18, 'BIOL', 21, 'POL', 17, 'LALS', 0, 'POL', 18, 'POL', 14, 'FA', 0, 'HSSP', 0, 'MUS', 10, 'BUS', 0, 'ANTH', 0, 'POL', 0, 'FA', 0, 'ENG', 0, 'HSSP', 0, 'NBIO', 61, 'BIOL', 44, 'BIOL', 13, 'HBRW', 9, 'HIST', 20, 'WGS', 37, 'AAAS/WGS', 35, 'SOC', 17, 'HUM', 9, 'ENG', 14, 'ENVS', 22, 'MATH', 9, 'MATH', 10, 'PHIL', 39, 'NEJS', 11, 'NEJS', 17, 'ARBC', 8, 'HSSP', 5, 'COSI', 39, 'BCHM', 0, 'BCHM', 0, 'ANTH', 49, 'ANTH', 1, 'ANTH', 0, 'FILM', 0, 'CHEM', 0, 'PSYC', 96, 'NPSY', 23, 'POL', 20, 'POL', 15, 'POL', 28, 'LGLS', 28, 'PHIL', 0, 'GRK', 5, 'MATH', 22, 'ECON', 33, 'ECON', 34, 'POL', 0, 'BIOL', 0, 'IIM', 0, 'IIM', 0, 'SOC', 20, 'HIST', 0, 'POL', 0, 'POL', 0, 'ENG', 0, 'HIST', 0, 'IIM', 0, 'THA', 0, 'THA', 0, 'PHIL', 16, 'HSSP', 0, 'HSSP', 0, 'IIM', 1, 'BIOL', 0, 'COSI', 0, 'THA', 22, 'THA', 14, 'AAAS', 13, 'BIOL', 1, 'MATH', 18, 'MATH', 35, 'MATH', 24, 'FA', 2, 'SOC', 30, 'BUS', 41, 'BUS', 14, 'AMST', 19, 'JOUR', 25, 'ENG', 0, 'ENG', 0, 'LGLS', 72, 'FA', 10, 'FA', 12, 'WGS', 14, 'LGLS', 29, 'GER', 16, 'COSI', 78, 'FA', 10, 'EL', 0, 'FA', 9, 'AMST', 20, 'ECON', 21, 'HIST', 20, 'NEJS', 29, 'ANTH', 12, 'ECON', 14, 'ECON', 15, 'HIST', 3, 'RUS', 12, 'FILM', 5, 'CAST', 4, 'IIM', 0, 'IIM', 0, 'IIM', 0, 'AMST', 1, 'ANTH', 39, 'COSI', 150, 'BCHM', 1, 'PHYS', 0, 'PHYS', 10, 'ENVS', 0, 'RUS', 0, 'ENG', 1, 'ECON', 25, 'ENG', 0, 'CHEM', 1, 'FREN', 0, 'LGLS', 15, 'BIOL', 2, 'BIOL', 1, 'BIOL', 0, 'EL', 0, 'EL', 0, 'BUS', 1, 'ED', 0, 'ED', 0, 'FA', 0, 'ENG', 0, 'ENG', 0, 'HIST', 0, 'HIST', 0, 'BCHM', 0, 'EL', 38, 'IIM', 0, 'EL', 0, 'IIM', 0, 'HIST', 1, 'HIST', 0, 'EAS', 0, 'COSI', 0, 'EL', 0, 'IIM', 0, 'EL', 0, 'BUS', 0, 'IIM', 0, 'BUS', 0, 'JAPN', 0, 'NEJS', 0, 'HISP', 0, 'HIST', 1, 'IIM', 0, 'IGS', 0, 'AAAS', 22, 'BIOL', 25, 'NBIO', 30, 'BIOL', 40, 'BIOL', 23, 'BIOL', 25, 'BIOL', 26, 'CBIO', 22, 'CHEM', 11, 'ENG', 6, 'ENG', 20, 'ENG', 34, 'ENG', 44, 'ENG', 11, 'ENG', 25, 'ENG', 13, 'ENG', 9, 'ENG', 12, 'ENG', 12, 'AMST/ENG', 15, 'PHYS', 11, 'PHYS', 7, 'QBIO', 15, 'NPSY', 45, 'NPSY', 19, 'NPSY', 15, 'PSYC', 119, 'PSYC', 11, 'PSYC', 24, 'PSYC', 77, 'MATH', 25, 'MATH', 49, 'MATH', 4, 'MATH', 6, 'MATH', 52, 'ARBC', 4, 'YDSH', 4, 'NEJS', 9, 'NEJS', 14, 'NEJS', 9, 'NEJS', 8, 'NEJS', 24, 'THA', 23, 'THA', 15, 'RECS/THA', 14, 'FA', 25, 'FA', 13, 'FA', 15, 'COML', 14, 'ITAL', 10, 'PHIL', 28, 'PHIL', 33, 'PHIL', 19, 'CHEM', 24, 'HIST', 35, 'HIST', 13, 'HIST', 13, 'HIST', 22, 'HIST', 12, 'POL', 46, 'POL', 20, 'POL', 13, 'POL', 19, 'POL', 9, 'ENG', 18, 'WGS', 1, 'HWL', 95, 'UWS', 17, 'UWS', 18, 'UWS', 18, 'UWS', 17, 'UWS', 16, 'UWS', 18, 'UWS', 18, 'UWS', 17, 'UWS', 18, 'UWS', 18, 'UWS', 18, 'UWS', 16, 'COMP', 13, 'COMP', 13, 'NEJS', 28, 'NEJS', 4, 'ENVS', 1, 'PHIL', 18, 'PSYC', 24, 'NEJS', 17, 'MERS', 0, 'ED', 15, 'CHEM', 0, 'CHEM', 0, 'CHEM', 0, 'CHEM', 0, 'CHEM', 0, 'CHEM', 0, 'CHEM', 1, 'CHEM', 0, 'CHEM', 1, 'CHEM', 1, 'ENG', 1, 'JOUR', 0, 'AAAS', 1, 'WGS', 41, 'BCHM', 1, 'BCHM', 0, 'BIPH', 1, 'CHEM', 1, 'BIOL', 0, 'IGS', 0, 'ENVS', 1, 'POL', 8, 'CAST', 44, 'FREN', 8, 'FREN', 6, 'HISP', 5, 'HISP', 25, 'HISP', 20, 'FA', 12, 'FA', 12, 'FA', 10, 'FA', 9, 'FA', 32, 'FA', 22, 'FA', 29, 'FA', 22, 'REL', 19, 'NPSY', 20, 'ENG', 19, 'ENG', 15, 'ENG', 52, 'ENG', 12, 'ENG', 29, 'ENG', 12, 'ENG', 7, 'ENG', 19, 'ENG', 40, 'ENG', 38, 'ENG', 6, 'AAAS/WGS', 31, 'AAS/AAPI', 13, 'AAAS', 13, 'CHEM', 5, 'CHEM', 0, 'POL', 16, 'POL', 18, 'POL', 17, 'LGLS', 63, 'LGLS', 21, 'CLAS', 21, 'CLAS', 8, 'CLAS', 43, 'CLAS', 11, 'NEJS', 10, 'CLAS', 40, 'AAPI/HIS', 16, 'HIST', 22, 'HIST', 26, 'HIST', 57, 'HIST', 24, 'BUS', 25, 'ANTH', 33, 'ANTH', 25, 'ANTH', 17, 'ANTH', 18, 'ANTH', 11, 'ANTH', 7, 'ANTH', 36, 'ANTH', 39, 'ANTH', 5, 'ANTH', 29, 'ANTH', 26, 'ANTH', 29, 'ANTH', 24, 'ECON', 16, 'ECON', 16, 'ECON', 37, 'ECON', 24, 'ECON', 21, 'LALS', 25, 'POL', 43, 'POL', 6, 'BIOL', 0, 'BIOL', 27, 'BIOL', 0, 'BIOL', 26, 'BIOL', 0, 'BIOL', 19, 'BIOL', 18, 'BIOL', 17, 'BIOL', 19, 'BIOL', 20, 'BIOL', 17, 'NBIO', 21, 'PHYS', 7, 'LING', 13, 'LING', 15, 'LING', 41, 'COSI', 30, 'COSI', 13, 'COSI', 17, 'COSI', 33, 'COSI', 48, 'COSI', 10, 'COSI', 17, 'IIM', 1, 'MATH', 40, 'MATH', 7, 'CHIN', 29, 'ECS', 7, 'GER', 11, 'GER', 7, 'JAPN', 8, 'RUS', 9, 'RECS', 5, 'RECS', 19, 'AMST', 22, 'AMST', 17, 'AMST', 18, 'JOUR', 20, 'JOUR', 15, 'JOUR', 22, 'JOUR', 9, 'AAPI/WGS', 51, 'SOC', 25, 'SOC', 17, 'SOC', 20, 'SOC', 22, 'THA', 12, 'THA', 20, 'THA', 9, 'THA', 18, 'THA', 12, 'THA', 8, 'THA', 22, 'THA', 15, 'THA', 8, 'THA', 10, 'IGS', 29, 'IGS', 29, 'IGS', 23, 'IGS', 11, 'HSSP', 14, 'HSSP', 38, 'HSSP', 23, 'UWS', 18, 'UWS', 17, 'UWS', 17, 'MUS', 32, 'MUS', 34, 'MUS', 6, 'MUS', 6, 'MUS', 13, 'MUS', 5, 'MUS', 9, 'MUS', 8, 'MUS', 6, 'NEJS', 5, 'NEJS', 6, 'NEJS', 3, 'NEJS', 10, 'NEJS', 9, 'ED', 22, 'ED', 26, 'HBRW', 11, 'PHIL', 33, 'PHIL', 59, 'PHIL', 54, 'PHIL', 11, 'FA', 18, 'COMP', 15, 'NBIO', 25, 'HISP', 16, 'HIST', 19, 'HIST', 20, 'HIST', 14, 'ENG', 9, 'ENG', 15, 'SOC', 29, 'ED', 26, 'AMST', 1, 'NEJS', 2, 'AAAS/HIS', 20, 'AAAS', 5, 'LAT', 8, 'ECON', 29, 'FA', 12, 'ANTH', 17, 'PHIL', 29, 'EL', 5, 'ED', 0, 'PHIL', 31, 'ENVS', 31, 'PHIL', 29, 'PHYS', 2, 'NPSY', 18, 'THA', 10, 'FA', 18, 'ED', 17, 'BIOL', 0, 'BIOL', 0, 'BIOL', 0, 'BIOL', 0, 'BIOL', 1, 'BIOL', 1, 'BIOL', 0, 'BIOL', 1, 'BIOL', 0, 'BIOL', 0, 'BIOL', 0, 'BIOL', 1, 'BIOL', 0, 'BIOL', 0, 'BIOL', 0, 'BIOL', 0, 'BIOL', 0, 'BIOL', 0, 'BIOL', 0, 'BIOL', 0, 'BIOL', 1, 'BIOL', 0, 'BIOL', 3, 'BIOL', 0, 'BIOL', 0, 'BIOL', 0, 'BIOL', 0, 'BIOL', 0, 'NEUR', 0, 'NEUR', 1, 'NEUR', 0, 'NEUR', 1, 'NEUR', 2, 'NEUR', 0, 'NEUR', 0, 'NEUR', 0, 'NEUR', 0, 'NEUR', 0, 'NEUR', 1, 'NEUR', 5, 'NEUR', 0, 'NEUR', 0, 'NEUR', 0, 'NEUR', 0, 'NEUR', 0, 'NEUR', 0, 'NEUR', 0, 'NEUR', 0, 'SOC', 23, 'NPSY', 11, 'HSSP', 25, 'IGS', 28, 'BISC', 7, 'ENVS', 36, 'ENVS', 35, 'FA', 19, 'BIOL', 20, 'MATH', 13, 'BCHM', 0, 'THA', 2, 'THA', 0, 'THA', 0, 'THA', 3, 'THA', 3, 'THA', 1, 'CHEM', 3, 'CHEM', 2, 'CHEM', 0, 'CHEM', 1, 'CHEM', 0, 'CHEM', 0, 'CHEM', 2, 'CHEM', 1, 'CHEM', 2, 'HIST', 1, 'AMST', 1, 'ENVS', 1, 'MATH', 22, 'HSSP', 1, 'SOC', 1, 'COSI', 1, 'HSSP', 1, 'AAAS', 2, 'IIM', 1, 'HSSP', 1, 'IIM', 1, 'HSSP', 1, 'SOC', 1, 'IIM', 1, 'IGS', 1, 'IGS', 1, 'AAAS', 1, 'WGS', 1, 'BUS', 28, 'EL', 12, 'EL', 10, 'EL', 11, 'EL', 7, 'EL', 11, 'EL', 9, 'EL', 8, 'EL', 10, 'EL', 4, 'ED', 1, 'BIOL', 1, 'UWS', 15, 'UWS', 16, 'UWS', 18, 'MATH', 29, 'PSYC', 0, 'PSYC', 0, 'PSYC', 0, 'PSYC', 0, 'PSYC', 0, 'CHEM', 1, 'COSI', 8, 'BIOL', 8, 'BIOL', 0, 'COSI', 1, 'PHYS', 0, 'PHYS', 0, 'PHYS', 0, 'PHYS', 0, 'PHYS', 0, 'PHYS', 0, 'PHYS', 0, 'PHYS', 0, 'PHYS', 0, 'PHYS', 0, 'PHYS', 0, 'PHYS', 0, 'PHYS', 0, 'PHYS', 0, 'ENG', 1, 'CHEM', 1, 'POL', 1, 'BUS', 0, 'PHIL', 0, 'PHIL', 0, 'PHIL', 0, 'PHIL', 0, 'PHIL', 0, 'PHIL', 0, 'PHIL', 0, 'PHIL', 0, 'BUS', 1, 'ANTH', 1, 'HSSP', 1, 'EL', 3, 'UWS', 17, 'BCHM', 0, 'PSYC', 1, 'ANTH', 1, 'BIOL', 1, 'PSYC', 0, 'PSYC', 0, 'PSYC', 0, 'PSYC', 2, 'PSYC', 0, 'PSYC', 0, 'PSYC', 0, 'PSYC', 1, 'PSYC', 5, 'PSYC', 0, 'POL', 1, 'WGS', 1, 'IGS', 1, 'AAAS', 1, 'EL', 6, 'MUS', 0, 'MUS', 0, 'MUS', 2, 'MUS', 4, 'CAST', 1, 'PHYS', 1, 'AAPI', 1, 'LGLS', 1, 'ECON', 1, 'EAS', 1, 'HRNS', 0, 'HRNS', 0, 'HRNS', 0, 'HRNS', 0, 'HRNS', 0, 'HRNS', 0, 'HRNS', 0, 'HRNS', 0, 'HRNS', 0, 'HRNS', 0, 'HRNS', 0, 'HRNS', 0, 'BUS', 32, 'FIN', 34, 'BUS', 21, 'FIN', 29, 'ECON', 0, 'ECON', 0, 'BUS', 0, 'BUS', 2, 'BUS', 46, 'BUS', 12, 'BUS', 2, 'BUS', 6, 'HS', 19, 'HS', 12, 'HS', 13, 'HS', 9, 'HS', 27, 'HS', 53, 'HS', 21, 'HS', 10, 'HS', 25, 'HS', 14, 'HS', 18, 'HS', 34, 'HS', 32, 'HS', 23, 'HS', 33, 'HS', 39, 'HS', 24, 'HS', 9, 'HS', 0, 'HS', 21, 'HS', 0, 'HS', 0, 'HS', 0, 'HS', 0, 'HS', 0, 'HS', 0, 'HS', 22, 'HS', 11, 'HS', 19, 'HS', 24, 'BUS', 25, 'HS', 17, 'HS', 1, 'HS', 1, 'HS', 1, 'HS', 1, 'HS', 21, 'HRNS', 0, 'HRNS', 0, 'HRNS', 0, 'HRNS', 0, 'HRNS', 0, 'HRNS', 0, 'HRNS', 0, 'HRNS', 0, 'HRNS', 0, 'HRNS', 0, 'HRNS', 0, 'BUS', 34, 'BUS', 56, 'BUS', 19, 'BUS', 12, 'FIN', 13, 'FIN', 19, 'FIN', 8, 'BUS', 36, 'HS', 21, 'HS', 32, 'HS', 15, 'HS', 22, 'HS', 7, 'HS', 14, 'HS', 35, 'HS', 37, 'HS', 46, 'HS', 7, 'HS', 25, 'HS', 13, 'HS', 0, 'HS', 30, 'HS', 21, 'HS', 26, 'HS', 22, 'HS', 12, 'HS', 8, 'HS', 22, 'HS', 18, 'HS', 18, 'HS', 37, 'HS', 21, 'HS', 33, 'HS', 19, 'HS', 16, 'HS', 6, 'HS', 7, 'HS', 2, 'CHIN', 1, 'CHIN', 1, 'BIOL', 10, 'BIOL', 9, 'BIOL', 9, 'BIOL', 9, 'BIOL', 38, 'BIOL', 92, 'BIOL', 9, 'BIOL', 10, 'BIOT', 5, 'BIOT', 14, 'NBIO', 56, 'NBIO', 8, 'ANTH', 16, 'ANTH', 0, 'ANTH', 0, 'ANTH', 1, 'ANTH', 0, 'ANTH', 0, 'ANTH', 0, 'ANTH', 0, 'ANTH', 0, 'ANTH', 0, 'ANTH', 0, 'ANTH', 0, 'ANTH', 0, 'ANTH', 0, 'ANTH', 0, 'ANTH', 0, 'ANTH', 0, 'ANTH', 0, 'ANTH', 0, 'ANTH', 0, 'ANTH', 0, 'ANTH', 0, 'ANTH', 0, 'ANTH', 0, 'ANTH', 0, 'ANTH', 0, 'ANTH', 0, 'ANTH', 0, 'ANTH', 0, 'ANTH', 0, 'BCBP', 0, 'BCBP', 0, 'BCBP', 0, 'BCBP', 0, 'BCBP', 0, 'BCBP', 0, 'BCBP', 0, 'BCBP', 0, 'BCBP', 0, 'BCBP', 0, 'BCBP', 0, 'BCBP', 0, 'BCBP', 0, 'BCBP', 0, 'BCBP', 0, 'BCBP', 0, 'BCBP', 0, 'BCBP', 0, 'BCBP', 0, 'BCBP', 0, 'BCBP', 0, 'BCBP', 0, 'BCBP', 0, 'BCBP', 0, 'BCBP', 0, 'BCBP', 0, 'BCBP', 0, 'BCBP', 0, 'BCBP', 0, 'BCBP', 0, 'BCBP', 0, 'BCBP', 0, 'BCBP', 0, 'BCBP', 0, 'BCBP', 0, 'BCBP', 0, 'BCBP', 0, 'BCBP', 0, 'BCBP', 0, 'BCBP', 0, 'BCBP', 0, 'BCBP', 0, 'BCBP', 0, 'BCBP', 0, 'BCBP', 0, 'BCBP', 0, 'BCBP', 0, 'BCBP', 0, 'BCBP', 0, 'BCBP', 0, 'BCBP', 0, 'BCBP', 0, 'BCBP', 0, 'BCBP', 0, 'BCBP', 0, 'BCBP', 0, 'BCBP', 0, 'BCBP', 0, 'BCBP', 0, 'BCBP', 0, 'BCBP', 0, 'BCBP', 0, 'BCBP', 0, 'BCBP', 0, 'BCBP', 1, 'BCBP', 5, 'BCBP', 0, 'BCBP', 0, 'BCBP', 0, 'BCBP', 0, 'BCBP', 4, 'BCBP', 0, 'BCBP', 0, 'BCBP', 0, 'BCBP', 3, 'BCBP', 0, 'BCBP', 0, 'BCBP', 0, 'BCBP', 0, 'BCBP', 1, 'BCBP', 0, 'BCBP', 3, 'BCBP', 0, 'BCBP', 0, 'BCBP', 0, 'BCBP', 1, 'BCBP', 1, 'BCBP', 0, 'BCBP', 0, 'BCBP', 0, 'BCBP', 0, 'BCBP', 0, 'BCBP', 0, 'BCBP', 0, 'BCBP', 0, 'BCBP', 0, 'BCBP', 0, 'BCBP', 1, 'BCBP', 3, 'BIOL', 0, 'BIOL', 0, 'BIOL', 0, 'BIOL', 0, 'BIOL', 0, 'BIOL', 0, 'BIOL', 0, 'BIOL', 0, 'BIOL', 0, 'BIOL', 0, 'BIOL', 0, 'BIOL', 0, 'BIOL', 0, 'BIOL', 0, 'BIOL', 0, 'BIOL', 0, 'BIOL', 0, 'BIOL', 0, 'BIOL', 0, 'BIOL', 0, 'BIOL', 0, 'BIOL', 0, 'BIOL', 0, 'BIOL', 0, 'BIOL', 0, 'BIOL', 0, 'BIOL', 0, 'BIOL', 0, 'BIOL', 0, 'BIOL', 0, 'BIOL', 0, 'BIOL', 0, 'BIOL', 0, 'BIOL', 0, 'BIOL', 0, 'BIOL', 0, 'BIOL', 0, 'BIOL', 0, 'BIOL', 0, 'BIOL', 0, 'BIOL', 0, 'BIOL', 0, 'BIOL', 0, 'BIOL', 0, 'BIOL', 0, 'BIOL', 0, 'BIOL', 0, 'BIOL', 0, 'BIOL', 0, 'BIOL', 0, 'BIOL', 0, 'BIOL', 0, 'BIOL', 0, 'BIOL', 5, 'BIOL', 1, 'BIOL', 3, 'BIOL', 1, 'BIOL', 2, 'BIOL', 0, 'BIOL', 0, 'BIOL', 2, 'BIOL', 0, 'BIOL', 1, 'BIOL', 0, 'BIOL', 0, 'BIOL', 2, 'BIOL', 2, 'BIOL', 0, 'BIOL', 0, 'BIOL', 0, 'BIOL', 2, 'BIOL', 0, 'BIOL', 5, 'BIOL', 0, 'BIOL', 0, 'BIOL', 1, 'BIOL', 0, 'BIOT', 2, 'BIOT', 2, 'WGS', 12, 'BCBP', 0, 'BCBP', 0, 'BCBP', 0, 'BCBP', 0, 'BCBP', 0, 'BCBP', 0, 'BCBP', 0, 'BCBP', 0, 'BCBP', 0, 'BCBP', 0, 'BCBP', 0, 'BCBP', 0, 'CHEM', 0, 'CHEM', 0, 'CHEM', 0, 'CHEM', 0, 'CHEM', 0, 'CHEM', 0, 'CHEM', 0, 'CHEM', 1, 'CHEM', 0, 'CHEM', 0, 'CHEM', 0, 'CHEM', 0, 'CHEM', 0, 'CHEM', 2, 'CHEM', 1, 'CHEM', 0, 'CHEM', 0, 'CHEM', 0, 'CHEM', 0, 'CHEM', 0, 'CHEM', 2, 'CHEM', 4, 'CHEM', 0, 'CHEM', 6, 'CHEM', 3, 'CHEM', 0, 'CLAS', 0, 'CLAS', 0, 'CLAS', 0, 'CLAS', 0, 'CLAS', 0, 'CLAS', 1, 'COMH', 0, 'COMH', 0, 'COMH', 0, 'COMH', 0, 'COMH', 0, 'COSI', 0, 'COSI', 0, 'COSI', 0, 'COSI', 0, 'COSI', 0, 'COSI', 0, 'COSI', 0, 'COSI', 0, 'COSI', 0, 'COSI', 0, 'COSI', 1, 'COSI', 1, 'COSI', 0, 'COSI', 0, 'COSI', 0, 'COSI', 0, 'COSI', 2, 'COSI', 0, 'COSI', 0, 'COSI', 0, 'COSI', 1, 'COSI', 0, 'COSI', 2, 'COSI', 0, 'ED', 0, 'ED', 0, 'COSI', 0, 'COSI', 0, 'COSI', 2, 'COSI', 0, 'COSI', 0, 'COSI', 0, 'COSI', 1, 'COSI', 8, 'COSI', 0, 'COSI', 0, 'COSI', 0, 'COSI', 1, 'COSI', 1, 'COSI', 1, 'COSI', 0, 'COSI', 0, 'COSI', 0, 'COSI', 0, 'COSI', 0, 'COSI', 0, 'COSI', 0, 'COSI', 0, 'COSI', 0, 'COSI', 0, 'COSI', 2, 'COSI', 0, 'COSI', 0, 'COSI', 2, 'COSI', 0, 'COSI', 1, 'COSI', 1, 'COSI', 6, 'COSI', 1, 'COSI', 1, 'COSI', 1, 'COSI', 1, 'COSI', 1, 'BCBP', 6, 'ENG', 0, 'ENG', 0, 'ENG', 0, 'ENG', 0, 'ENG', 0, 'ENG', 1, 'ENG', 0, 'ENG', 0, 'ENG', 0, 'ENG', 0, 'ENG', 0, 'ENG', 0, 'ENG', 0, 'ENG', 0, 'ENG', 0, 'ENG', 0, 'ENG', 0, 'ENG', 0, 'ENG', 0, 'ENG', 0, 'ENG', 0, 'ENG', 0, 'ENG', 0, 'ENG', 0, 'ENG', 0, 'ENG', 0, 'ENG', 0, 'ENG', 0, 'ENG', 0, 'ENG', 0, 'ENG', 0, 'ENG', 0, 'ENG', 0, 'ENG', 0, 'ENG', 0, 'ENG', 0, 'ENG', 0, 'ENG', 0, 'ENG', 0, 'ENG', 0, 'GS', 0, 'GS', 0, 'GS', 0, 'GS', 0, 'GS', 0, 'GRK', 0, 'GRK', 0, 'GRK', 0, 'CHEM', 14, 'CHEM', 15, 'CHEM', 0, 'CHEM', 29, 'HIST', 0, 'HIST', 0, 'HIST', 0, 'HIST', 0, 'HIST', 0, 'HIST', 0, 'HIST', 0, 'HIST', 0, 'HIST', 0, 'HIST', 0, 'HIST', 0, 'HIST', 0, 'HIST', 0, 'HIST', 0, 'HIST', 0, 'HIST', 0, 'HIST', 0, 'HIST', 0, 'HIST', 0, 'HIST', 0, 'HIST', 0, 'HIST', 0, 'HIST', 0, 'HIST', 0, 'HIST', 0, 'HIST', 0, 'HIST', 0, 'HIST', 0, 'HIST', 0, 'HIST', 0, 'HIST', 0, 'HIST', 0, 'HIST', 0, 'HIST', 0, 'HIST', 0, 'HIST', 0, 'HIST', 0, 'HIST', 0, 'HIST', 0, 'HIST', 0, 'HIST', 0, 'HIST', 0, 'HIST', 0, 'HIST', 1, 'HIST', 0, 'HIST', 0, 'HIST', 0, 'HIST', 0, 'HIST', 0, 'HIST', 0, 'HIST', 0, 'HIST', 0, 'HIST', 0, 'HIST', 0, 'HIST', 0, 'HIST', 0, 'HIST', 0, 'HIST', 0, 'HIST', 0, 'HIST', 0, 'HIST', 0, 'HIST', 0, 'HIST', 0, 'HIST', 0, 'HIST', 0, 'HIST', 0, 'HIST', 0, 'HIST', 0, 'HIST', 0, 'HIST', 0, 'HIST', 0, 'HIST', 0, 'HIST', 0, 'HIST', 0, 'HIST', 0, 'HIST', 0, 'HIST', 0, 'HIST', 0, 'HIST', 0, 'HIST', 0, 'HIST', 0, 'HIST', 0, 'HIST', 0, 'HIST', 0, 'HIST', 0, 'HIST', 0, 'HIST', 1, 'HIST', 0, 'HIST', 0, 'HIST', 0, 'HIST', 0, 'HIST', 0, 'HIST', 0, 'HIST', 0, 'HIST', 0, 'HIST', 0, 'HIST', 0, 'HIST', 0, 'HIST', 0, 'HIST', 0, 'HIST', 0, 'HIST', 0, 'HIST', 0, 'HIST', 0, 'HIST', 1, 'HIST', 2, 'HIST', 0, 'HIST', 0, 'HIST', 0, 'HIST', 0, 'HIST', 0, 'HIST', 0, 'HIST', 0, 'HIST', 0, 'HIST', 0, 'HIST', 0, 'HIST', 0, 'HIST', 0, 'HIST', 0, 'HIST', 0, 'HIST', 0, 'HIST', 0, 'HIST', 0, 'HIST', 0, 'HIST', 0, 'HIST', 4, 'HIST', 0, 'HIST', 0, 'HIST', 0, 'HIST', 6, 'HIST', 0, 'HIST', 0, 'HIST', 0, 'HIST', 0, 'HIST', 0, 'HIST', 0, 'HIST', 0, 'HIST', 0, 'HIST', 1, 'HIST', 1, 'HRNS', 0, 'HRNS', 0, 'HRNS', 0, 'HRNS', 1, 'HRNS', 0, 'HRNS', 0, 'ENG', 4, 'MUS', 5, 'MUS', 4, 'MUS', 0, 'MUS', 0, 'MUS', 0, 'MUS', 0, 'MUS', 0, 'MUS', 0, 'MUS', 1, 'MUS', 1, 'MUS', 1, 'MUS', 5, 'MUS', 0, 'MUS', 0, 'MUS', 0, 'MUS', 0, 'MUS', 0, 'MUS', 0, 'MUS', 0, 'MUS', 0, 'MUS', 1, 'MUS', 0, 'MUS', 0, 'MUS', 0, 'MUS', 0, 'MUS', 1, 'MUS', 1, 'MUS', 0, 'MUS', 0, 'HRNS', 0, 'HRNS', 0, 'HRNS', 0, 'HRNS', 0, 'POL', 10, 'SOC', 8, 'PHYS', 0, 'PHYS', 1, 'PHYS', 0, 'PHYS', 0, 'PHYS', 0, 'PHYS', 0, 'PHYS', 0, 'PHYS', 0, 'PHYS', 4, 'PHYS', 0, 'PHYS', 2, 'PHYS', 1, 'PHYS', 2, 'PHYS', 3, 'PHYS', 4, 'PHYS', 2, 'PHYS', 3, 'PHYS', 2, 'PHYS', 3, 'PHYS', 0, 'PHYS', 0, 'PHYS', 2, 'PHYS', 0, 'PHYS', 0, 'PHYS', 0, 'PHYS', 1, 'PHYS', 0, 'PHYS', 2, 'PHYS', 0, 'PHYS', 0, 'PHYS', 2, 'MATH', 0, 'MATH', 0, 'MATH', 1, 'MATH', 2, 'MATH', 0, 'MATH', 0, 'MATH', 2, 'MATH', 1, 'MATH', 1, 'MATH', 1, 'MATH', 5, 'MATH', 2, 'LAT', 0, 'LAT', 0, 'WGS', 0, 'WGS', 0, 'WGS', 0, 'WGS', 0, 'WGS', 0, 'WGS', 0, 'WGS', 0, 'WGS', 0, 'WGS', 0, 'WGS', 0, 'WGS', 0, 'WGS', 0, 'WGS', 0, 'WGS', 0, 'WGS', 0, 'WGS', 0, 'WGS', 0, 'WGS', 0, 'WGS', 0, 'WGS', 0, 'WGS', 0, 'WGS', 0, 'WGS', 0, 'WGS', 0, 'WGS', 0, 'WGS', 0, 'WGS', 1, 'WGS', 0, 'WGS', 0, 'WGS', 0, 'WGS', 0, 'WGS', 0, 'WGS', 0, 'WGS', 0, 'WGS', 0, 'WGS', 0, 'WGS', 0, 'WGS', 0, 'THA', 0, 'THA', 0, 'THA', 0, 'THA', 0, 'THA', 0, 'THA', 0, 'THA', 0, 'THA', 0, 'THA', 0, 'THA', 0, 'THA', 0, 'PSYC', 0, 'PSYC', 0, 'PSYC', 0, 'PSYC', 0, 'PSYC', 0, 'PSYC', 0, 'PSYC', 1, 'PSYC', 0, 'PSYC', 3, 'PSYC', 2, 'PSYC', 1, 'PSYC', 0, 'PSYC', 2, 'PSYC', 0, 'PSYC', 0, 'PSYC', 1, 'PSYC', 1, 'PSYC', 0, 'PSYC', 0, 'PSYC', 0, 'PSYC', 0, 'PSYC', 0, 'PSYC', 0, 'PSYC', 1, 'PSYC', 0, 'PSYC', 0, 'PSYC', 1, 'PSYC', 0, 'PSYC', 0, 'PSYC', 0, 'PSYC', 0, 'PSYC', 0, 'PSYC', 0, 'PSYC', 0, 'PSYC', 0, 'PSYC', 0, 'PSYC', 0, 'PSYC', 0, 'PSYC', 0, 'PSYC', 0, 'PSYC', 1, 'PSYC', 0, 'PSYC', 0, 'PSYC', 0, 'PSYC', 0, 'PSYC', 1, 'PSYC', 0, 'PSYC', 0, 'PSYC', 1, 'PSYC', 0, 'PSYC', 0, 'PSYC', 0, 'PSYC', 0, 'PSYC', 0, 'PSYC', 0, 'PSYC', 0, 'PSYC', 0, 'PSYC', 0, 'PSYC', 1, 'PSYC', 0, 'PSYC', 0, 'PSYC', 0, 'PSYC', 1, 'PSYC', 0, 'PSYC', 0, 'PSYC', 0, 'PSYC', 1, 'PSYC', 0, 'PSYC', 0, 'PSYC', 1, 'PSYC', 0, 'PSYC', 0, 'PSYC', 1, 'PSYC', 0, 'PSYC', 0, 'PSYC', 0, 'PSYC', 0, 'PSYC', 1, 'PSYC', 1, 'POL', 0, 'POL', 0, 'POL', 0, 'POL', 0, 'POL', 0, 'POL', 0, 'POL', 0, 'POL', 0, 'POL', 0, 'POL', 0, 'POL', 1, 'POL', 0, 'POL', 0, 'POL', 0, 'POL', 0, 'POL', 0, 'POL', 2, 'POL', 0, 'POL', 2, 'POL', 2, 'POL', 0, 'POL', 2, 'POL', 0, 'POL', 1, 'POL', 0, 'POL', 0, 'POL', 0, 'POL', 0, 'POL', 0, 'POL', 0, 'POL', 0, 'PHYS', 0, 'PHYS', 0, 'PHYS', 2, 'PHYS', 2, 'NEJS', 0, 'NEJS', 0, 'NEJS', 0, 'NEJS', 0, 'NEJS', 0, 'NEJS', 0, 'NEJS', 0, 'NEJS', 0, 'NEJS', 0, 'NEJS', 0, 'NEJS', 0, 'NEJS', 0, 'NEJS', 0, 'NEJS', 0, 'NEJS', 0, 'NEJS', 0, 'NEJS', 0, 'NEJS', 0, 'NEJS', 0, 'NEJS', 0, 'NEJS', 0, 'NEJS', 0, 'NEJS', 0, 'NEJS', 0, 'NEJS', 0, 'NEJS', 0, 'NEJS', 0, 'NEJS', 0, 'NEJS', 0, 'NEJS', 0, 'NEJS', 0, 'NEJS', 0, 'NEJS', 0, 'NEJS', 0, 'NEJS', 0, 'NEJS', 0, 'NEJS', 0, 'NEUR', 9, 'NEUR', 0, 'NEUR', 0, 'NEUR', 0, 'NEUR', 0, 'NEUR', 0, 'NEUR', 0, 'NEUR', 0, 'NEUR', 0, 'NEUR', 0, 'NEUR', 0, 'NEUR', 0, 'NEUR', 0, 'NEUR', 0, 'NEUR', 0, 'NEUR', 0, 'NEUR', 0, 'NEUR', 0, 'NEUR', 0, 'NEUR', 0, 'NEUR', 1, 'NEUR', 0, 'NEUR', 0, 'NEUR', 0, 'NEUR', 0, 'NEUR', 0, 'NEUR', 0, 'NEUR', 0, 'NEUR', 0, 'NEUR', 0, 'NEUR', 0, 'NEUR', 0, 'NEUR', 2, 'NEUR', 0, 'NEUR', 0, 'NEUR', 0, 'NEUR', 0, 'NEUR', 0, 'NEUR', 0, 'NEUR', 0, 'NEUR', 0, 'NEUR', 0, 'NEUR', 0, 'NEUR', 0, 'NEUR', 0, 'NEUR', 0, 'NEUR', 0, 'NEUR', 0, 'NEUR', 0, 'NEUR', 0, 'NEUR', 0, 'NEUR', 0, 'NEUR', 1, 'NEUR', 0, 'NEUR', 0, 'NEUR', 0, 'NEUR', 0, 'NEUR', 0, 'NEUR', 0, 'NEUR', 0, 'NEUR', 0, 'NEUR', 0, 'NEUR', 0, 'NEUR', 0, 'NEUR', 0, 'NEUR', 0, 'NEUR', 0, 'NEUR', 1, 'NEUR', 0, 'NEUR', 0, 'NEUR', 0, 'NEUR', 0, 'NEUR', 0, 'NEUR', 1, 'NEUR', 0, 'NEUR', 0, 'NEUR', 2, 'NEUR', 5, 'NEUR', 0, 'NEUR', 2, 'NEUR', 0, 'NEUR', 4, 'NEUR', 0, 'NEUR', 1, 'NEUR', 0, 'NEUR', 3, 'NEUR', 5, 'NEUR', 0, 'NEUR', 3, 'NEUR', 0, 'NEUR', 2, 'NEUR', 5, 'NEUR', 0, 'NEUR', 1, 'NEUR', 0, 'NEUR', 3, 'PHIL', 0, 'PHIL', 0, 'PHIL', 0, 'PHIL', 0, 'PHIL', 0, 'PHIL', 0, 'PHIL', 0, 'PHIL', 0, 'PHIL', 0, 'PHIL', 0, 'PHIL', 0, 'PHIL', 0, 'PHIL', 0, 'SOC', 0, 'SOC', 0, 'SOC', 0, 'SOC', 0, 'SOC', 0, 'SOC', 0, 'SOC', 0, 'SOC', 0, 'SOC', 0, 'SOC', 0, 'SOC', 0, 'SOC', 0, 'SOC', 0, 'SOC', 0, 'SOC', 0, 'SOC', 0, 'SOC', 0, 'SOC', 0, 'SOC', 0, 'SOC', 0, 'SOC', 0, 'SOC', 0, 'SOC', 0, 'SOC', 0, 'SOC', 0, 'SOC', 0, 'SOC', 0, 'SOC', 0, 'SOC', 0, 'SOC', 0, 'SOC', 0, 'SOC', 0, 'SOC', 0, 'SOC', 0, 'SOC', 0, 'SOC', 0, 'SOC', 0, 'SOC', 0, 'SOC', 0, 'SOC', 0, 'SOC', 0, 'SOC', 0, 'SOC', 0, 'SOC', 0, 'SOC', 0, 'SOC', 0, 'SOC', 0, 'PSYC', 22, 'PSYC', 7, 'PSYC', 0, 'PSYC', 0, 'PSYC', 0, 'PSYC', 0, 'PSYC', 0, 'COSI', 13, 'ED', 7, 'ED', 13, 'ED', 7, 'ED', 24, 'ED', 13, 'MUS', 1, 'BIOL', 0, 'BCBP', 6, 'BCBP', 0, 'BCBP', 0, 'BCBP', 0, 'BCBP', 0, 'BCBP', 0, 'BCBP', 0, 'BCBP', 0, 'BCBP', 0, 'NEUR', 1, 'NEUR', 1, 'NEUR', 0, 'NEUR', 0, 'BIOL', 4, 'BIOL', 1, 'BIOL', 0, 'BIOL', 0, 'BIOL', 0, 'BIOL', 0, 'HIST', 0, 'ED', 0, 'BIOL', 1, 'BIOL', 0, 'NEUR', 0, 'NEUR', 0, 'NEUR', 0, 'NEUR', 0, 'PHYS', 0, 'BIOL', 0, 'BIOL', 0, 'HIST', 0, 'HRNS', 16, 'HRNS', 19, 'HRNS', 9, 'ESL', 6, 'ESL', 8, 'ESL', 5, 'ESL', 6, 'ED', 37, 'ANTH', 0, 'GS', 0, 'GS', 0, 'GS', 0, 'GS', 0, 'GS', 0, 'GS', 0, 'GS', 0, 'GS', 0, 'GS', 0, 'GS', 0, 'GS', 0, 'GS', 0, 'GS', 0, 'GS', 0, 'NEJS', 0, 'BIOL', 0, 'GS', 0, 'NEJS', 0, 'HIST', 0, 'NEUR', 0, 'PHIL', 0, 'HRNS', 3, 'HRNS', 3, 'ANTH', 0, 'NEJS', 0, 'PHYS', 0, 'BIOL', 0, 'PHYS', 1, 'HIST', 0, 'LAT', 0, 'LAT', 0, 'ENG', 0, 'NEUR', 0, 'CHEM', 0, 'CHEM', 5, 'CHEM', 0, 'CHEM', 3, 'HIST', 0, 'NEUR', 1, 'HRNS', 0, 'HRNS', 0, 'PSYC', 0, 'PSYC', 0, 'PSYC', 0, 'PSYC', 1, 'PSYC', 0, 'PSYC', 0, 'PSYC', 0, 'PSYC', 0, 'PSYC', 0, 'PSYC', 0, 'PSYC', 0, 'PSYC', 0, 'PSYC', 0, 'PSYC', 0, 'PSYC', 0, 'PSYC', 0, 'PSYC', 0, 'MATH', 2, 'HIST', 0, 'BIOL', 0, 'ENG', 0, 'MUS', 1, 'BCBP', 0, 'BCBP', 0, 'BCBP', 0, 'BCBP', 1, 'BCBP', 2, 'BCBP', 0, 'BCBP', 1, 'BCBP', 0, 'BCBP', 0, 'CLAS', 1, 'CLAS', 0, 'CLAS', 0, 'CLAS', 1, 'HIST', 2, 'COSI', 0, 'COSI', 0, 'MATH', 0, 'MATH', 0, 'MATH', 0, 'BIOL', 20, 'HRNS', 0, 'BIOL', 0, 'ED', 19, 'ED', 18, 'SOC', 2, 'HIST', 0, 'COMH', 0, 'ENG', 0, 'HIST', 0, 'COMH', 0, 'NEJS', 1, 'MATH', 6, 'BIOT', 0, 'BIOL', 2, 'BIOL', 1, 'ANTH', 0, 'ENG', 0, 'COSI', 0, 'COSI', 0, 'COSI', 3, 'COSI', 0, 'SOC', 0, 'SOC', 0, 'PHYS', 2, 'BIOL', 0, 'WGS', 0, 'ENG', 5, 'HRNS', 9, 'COSI', 3, 'COSI', 2, 'NEJS', 1, 'PSYC', 2, 'ANTH', 1, 'ANTH', 0, 'ANTH', 0, 'ANTH', 0, 'ANTH', 0, 'COMH', 0, 'COSI', 0, 'ED', 0, 'NEJS', 0, 'PSYC', 1, 'PSYC', 1, 'PHYS', 0, 'COSI', 1, 'NEJS', 0, 'WGS', 0, 'HIST', 0, 'WGS', 0, 'PHYS', 1, 'ED', 0, 'NBIO', 6, 'ENG', 8, 'ENG', 3, 'PHYS', 3, 'PSYC', 9, 'PSYC', 8, 'MATH', 0, 'HIST', 11, 'POL', 5, 'POL', 8, 'NEJS', 4, 'HRNS', 0, 'HIST', 0, 'HIST', 0, 'HIST', 0, 'HIST', 1, 'HIST', 0, 'HIST', 0, 'HIST', 1, 'HIST', 0, 'HIST', 1, 'HIST', 0, 'HIST', 1, 'HIST', 0, 'HIST', 0, 'HIST', 0, 'HIST', 0, 'HIST', 0, 'HIST', 0, 'HIST', 0, 'HIST', 0, 'HIST', 0, 'BCBP', 1, 'HRNS', 0, 'ENG', 4, 'HIST', 5, 'HIST', 5, 'ANTH', 9, 'ANTH', 10, 'ANTH', 5, 'ANTH', 4, 'SOC', 10, 'SOC', 7, 'MUS', 6, 'MUS', 6, 'NEJS', 6, 'NEJS', 6, 'PHIL', 6, 'BUS', 52, 'BUS', 29, 'BUS', 9, 'BUS', 26, 'BUS', 17, 'BUS', 32, 'BUS', 14, 'BUS', 6, 'BUS', 21, 'ECON', 30, 'ECON/FIN', 17, 'ECON/FIN', 24, 'ECON', 14, 'ECON', 7, 'ECON', 20, 'FIN', 45, 'FIN', 18, 'FIN', 12, 'FIN', 11, 'FIN', 40, 'FIN', 12, 'FIN', 23, 'FIN', 5, 'FIN', 9, 'BUS', 10, 'ECON', 17, 'BUS', 19, 'FIN', 0, 'FIN', 0, 'BUS', 1, 'BUS', 0, 'FIN', 0, 'FIN', 0, 'BUS', 10, 'ECON', 5, 'ECON', 14, 'ECON', 5, 'ECON', 28, 'ECON', 4, 'FIN', 35, 'FIN', 8, 'FIN', 20, 'FIN', 18, 'FIN', 11, 'MATH', 0, 'MATH', 0, 'MATH', 1, 'MATH', 0, 'MATH', 5, 'MATH', 0, 'MATH', 0, 'MATH', 2, 'MATH', 0, 'MATH', 0, 'MATH', 0, 'MATH', 0, 'MATH', 1, 'MATH', 0, 'MATH', 0, 'MATH', 0, 'MATH', 0, 'MATH', 0, 'MATH', 0, 'MATH', 0, 'MATH', 0, 'BCBP', 10, 'BUS', 34, 'BUS', 2, 'BIOL', 10, 'BUS', 27, 'HS', 0, 'HS', 31, 'HS', 14, 'HS', 6, 'HS', 11, 'HS', 15, 'HS', 17, 'HS', 32, 'HS', 6, 'HS', 2, 'HS', 7, 'HS', 35, 'HS', 45, 'HS', 9, 'HS', 14, 'HS', 35, 'HS', 30, 'HS', 0, 'HS', 9, 'HS', 7, 'HS', 23, 'HS', 35, 'HS', 25, 'HS', 8, 'HS', 0, 'HS', 10, 'HS', 23, 'HS', 25, 'HS', 16, 'HS', 12, 'HS', 15, 'HS', 7, 'HS', 22, 'HS', 20, 'HS', 37, 'HS', 0, 'HS', 13, 'HS', 0, 'HS', 0, 'HS', 0, 'HS', 4, 'HS', 0, 'HS', 0, 'HS', 0, 'HS', 1, 'HS', 1, 'HS', 0, 'HS', 0, 'HS', 0, 'HS', 18, 'HS', 1, 'HS', 16, 'HS', 9, 'HS', 34, 'HS', 33, 'HS', 29, 'HS', 41, 'HS', 24, 'HS', 9, 'HS', 31, 'BIOL', 10, 'BIOL', 10, 'MATH', 0, 'BIOL', 9, 'PSYC', 0, 'WGS', 1, 'MATH', 1, 'BUS', 6, 'HS', 6, 'BIOL', 10, 'CHEM', 0, 'PHYS', 2, 'ED', 21, 'COSI', 2, 'PHYS', 1, 'BUS/FIN', 33, 'HS', 0, 'BUS', 1, 'PSYC', 0, 'HS', 8, 'ECON', 1, 'COSI', 2, 'ECON', 9, 'BIOL', 2, 'ENG', 2, 'PHYS', 1, 'PHIL', 1, 'PHYS', 1, 'MUS', 1, 'FIN', 1, 'HIST', 1, 'BUS', 1, 'HIST', 1, 'NEJS', 1, 'ED', 1, 'CHEM', 0, 'CHEM', 0, 'CHEM', 3, 'PHIL', 1, 'PHIL', 0, 'PHIL', 0, 'PHIL', 0, 'PHIL', 0, 'POL', 1, 'COSI', 1, 'SOC', 0, 'HS', 25, 'MUS', 1, 'HS', 1, 'HS', 1, 'FIN', 3, 'HS', 1, 'BUS', 4, 'BUS', 5, 'BUS', 4, 'BUS', 3, 'BUS', 3, 'BUS', 3, 'BUS', 4, 'FIN', 4, 'FIN', 2, 'ECON', 1, 'PHYS', 0, 'BUS', 1, 'BUS', 1, 'POL', 1, 'BIOT', 2, 'HS', 30, 'HS', 30, 'HS', 30, 'HS', 30, 'HS', 30, 'HS', 30, 'HS', 32, 'HS', 32, 'HS', 32, 'HS', 32, 'HS', 32, 'HS', 32, 'HWL', 11, 'HWL', 2, 'HWL', 7, 'HWL', 7, 'HWL', 16, 'HWL', 19, 'HWL', 8, 'HWL', 25, 'HWL', 4, 'HWL', 5, 'HWL', 11, 'HWL', 21, 'HWL', 19, 'HWL', 18, 'HWL', 21, 'HWL', 22, 'HWL', 22, 'HWL', 25, 'HWL', 24, 'HWL', 26, 'HWL', 24, 'HWL', 24, 'HWL', 25, 'HWL', 24, 'HWL', 22, 'HWL', 25, 'HWL', 24, 'HWL', 22, 'HWL', 19, 'HWL', 18, 'HWL', 15, 'HWL', 13, 'HWL', 17, 'HWL', 19, 'HWL', 9, 'HWL', 10, 'HWL', 16, 'HWL', 7, 'HWL', 7, 'HWL', 22, 'HWL', 19, 'HWL', 19, 'HWL', 10, 'HWL', 4, 'HWL', 22, 'HWL', 24, 'HWL', 20, 'HWL', 24, 'HWL', 22, 'HWL', 24, 'HWL', 24, 'HWL', 24, 'HWL', 24, 'HWL', 21, 'HWL', 20, 'HWL', 20, 'HWL', 18, 'HWL', 21, 'HWL', 22, 'HWL', 22, 'HWL', 22, 'HWL', 23, 'HWL', 16, 'HWL', 10, 'HWL', 17, 'ANTH', 101, 'ANTH', 0, 'ANTH', 0, 'ANTH', 0, 'ANTH', 0, 'ANTH', 0, 'ANTH', 0, 'ANTH', 0, 'ANTH', 0, 'ANTH', 0, 'ANTH', 0, 'ANTH', 1, 'ANTH', 0, 'ANTH', 0, 'ANTH', 0, 'ANTH', 0, 'ANTH', 0, 'ANTH', 3, 'ANTH', 0, 'ANTH', 1, 'ANTH', 0, 'ANTH', 31, 'ANTH', 1, 'FREN', 14, 'FREN', 14, 'FREN', 6, 'FREN', 12, 'FREN', 14, 'FREN', 8, 'FREN', 16, 'FREN', 11, 'HISP', 6, 'HISP', 17, 'HISP', 17, 'HISP', 13, 'HISP', 18, 'HISP', 18, 'HISP', 15, 'HISP', 18, 'HISP', 16, 'HISP', 18, 'HISP', 18, 'HISP', 12, 'HISP', 15, 'HISP', 19, 'HISP', 8, 'HISP', 15, 'HISP', 20, 'HISP', 10, 'ITAL', 4, 'ITAL', 16, 'ITAL', 12, 'ITAL', 11, 'CHEM', 66, 'CHEM', 16, 'CHEM', 17, 'CHEM', 186, 'CHEM', 52, 'CHEM', 51, 'CHEM', 39, 'CHEM', 27, 'CHEM', 80, 'CHEM', 69, 'CHEM', 37, 'CHEM', 71, 'CHEM', 42, 'CHEM', 49, 'CHEM', 24, 'CHEM', 44, 'CHEM', 28, 'PHIL', 55, 'PHIL', 54, 'PHIL', 16, 'HIST', 21, 'HIST', 28, 'PSYC', 166, 'PSYC', 24, 'PSYC', 103, 'PSYC', 96, 'PSYC', 88, 'PSYC', 25, 'PSYC', 25, 'NPSY', 16, 'NPSY', 135, 'BCHM', 65, 'BCHM', 29, 'BCHM', 16, 'BCHM', 19, 'BCHM', 91, 'AAAS', 45, 'WGS', 51, 'WGS', 9, 'WGS', 15, 'ENG', 12, 'ENG', 11, 'ENG', 12, 'POL', 77, 'POL', 79, 'IGS', 50, 'IGS', 48, 'BIOL', 23, 'BIOL', 24, 'BIOL', 24, 'BIOL', 186, 'BIOL', 59, 'BIOL', 31, 'BIOL', 28, 'BIOL', 24, 'BIOL', 28, 'BIOL', 28, 'BIOL', 29, 'BIOL', 27, 'BIOL', 29, 'BIOL', 23, 'BIOL', 26, 'BIOL', 25, 'BIOL', 19, 'BIOL', 136, 'BIOL', 27, 'BIOL', 26, 'BIOL', 29, 'BIOL', 38, 'BIOL', 6, 'BIOL', 61, 'NBIO', 70, 'CHIN', 8, 'CHIN', 10, 'CHIN', 8, 'CHIN', 18, 'CHIN', 10, 'CHIN', 17, 'CHIN', 28, 'CHIN', 12, 'CHIN', 13, 'CHIN', 59, 'GER', 6, 'GER', 11, 'GER', 18, 'JAPN', 18, 'JAPN', 17, 'JAPN', 13, 'JAPN', 19, 'JAPN', 19, 'JAPN', 10, 'JAPN', 19, 'JAPN', 3, 'KOR', 17, 'KOR', 24, 'KOR', 20, 'RUS', 6, 'RUS', 10, 'THA', 6, 'THA', 37, 'THA', 12, 'THA', 13, 'THA', 9, 'THA', 8, 'THA', 10, 'HSSP', 27, 'HSSP', 35, 'HSSP', 34, 'HSSP', 22, 'HSSP', 27, 'HSSP', 27, 'MATH', 23, 'MATH', 26, 'MATH', 23, 'MATH', 23, 'MATH', 65, 'MATH', 55, 'MATH', 7, 'MATH', 76, 'MATH', 28, 'MATH', 10, 'MATH', 4, 'MATH', 12, 'MATH', 20, 'MATH', 65, 'MATH', 19, 'MATH', 38, 'MATH', 11, 'MATH', 12, 'MATH', 17, 'MATH', 9, 'MATH', 13, 'PHYS', 25, 'PHYS', 75, 'PHYS', 29, 'PHYS', 11, 'PHYS', 9, 'PHYS', 77, 'PHYS', 24, 'PHYS', 109, 'PHYS', 23, 'PHYS', 24, 'PHYS', 24, 'PHYS', 23, 'QBIO', 16, 'PHYS', 12, 'PHYS', 13, 'PHYS', 12, 'CAST', 20, 'REL', 26, 'MUS', 45, 'MUS', 6, 'MUS', 1, 'MUS', 13, 'MUS', 7, 'MUS', 11, 'MUS', 4, 'MUS', 6, 'MUS', 4, 'MUS', 13, 'MUS', 6, 'MUS', 9, 'MUS', 1, 'MUS', 6, 'MUS', 1, 'MUS', 10, 'MUS', 0, 'MUS', 12, 'MUS', 7, 'MUS', 7, 'MUS', 8, 'MUS', 6, 'MUS', 8, 'MUS', 3, 'MUS', 1, 'MUS', 8, 'MUS', 3, 'MUS', 7, 'MUS', 8, 'MUS', 32, 'MUS', 9, 'FA', 32, 'FA', 13, 'FA', 14, 'FA', 11, 'FA', 12, 'FA', 11, 'FA', 13, 'FA', 13, 'FA', 11, 'FA', 9, 'FA', 16, 'FA', 14, 'FA', 8, 'LGLS', 14, 'LGLS', 25, 'LGLS', 145, 'LGLS', 24, 'LGLS', 46, 'LGLS', 46, 'COSI', 92, 'COSI', 102, 'COSI', 101, 'COSI', 94, 'COSI', 47, 'ECON', 60, 'ECON', 47, 'ECON', 32, 'ECON', 34, 'ECON', 21, 'ECON', 39, 'ECON', 15, 'ECON', 30, 'ECON', 104, 'ECON', 71, 'ECON', 36, 'ECON', 27, 'ENG', 13, 'SOC', 64, 'SOC', 27, 'SOC', 7, 'SOC', 92, 'AAAS', 0, 'AAAS', 0, 'AAAS', 0, 'AAAS', 0, 'AMST', 0, 'AMST', 0, 'AMST', 0, 'AMST', 0, 'AMST', 0, 'AMST', 0, 'AMST', 0, 'AMST', 0, 'AMST', 0, 'AMST', 0, 'AMST', 0, 'AMST', 0, 'AMST', 0, 'AMST', 0, 'AMST', 0, 'AMST', 0, 'AMST', 0, 'AMST', 0, 'AMST', 0, 'AMST', 0, 'AMST', 0, 'AMST', 0, 'AMST', 0, 'GRK', 7, 'GRK', 8, 'LAT', 9, 'LAT', 12, 'COSI', 96, 'FILM', 17, 'AAAS', 0, 'AAAS', 0, 'AAAS', 0, 'AAAS', 0, 'AAAS', 2, 'AMST', 0, 'AMST', 0, 'AMST', 0, 'AMST', 0, 'AMST', 0, 'AMST', 0, 'AMST', 0, 'AMST', 0, 'AMST', 1, 'AMST', 0, 'BCHM', 0, 'BCHM', 0, 'BCHM', 0, 'BCHM', 0, 'BCHM', 0, 'BCHM', 0, 'BCHM', 1, 'BCHM', 0, 'BCHM', 0, 'BCHM', 0, 'BCHM', 0, 'BCHM', 0, 'BCHM', 0, 'BCHM', 0, 'BCHM', 0, 'BCHM', 0, 'BCHM', 2, 'BCHM', 1, 'BCHM', 0, 'BCHM', 1, 'BCHM', 0, 'BCHM', 0, 'BCHM', 0, 'BCHM', 0, 'BCHM', 0, 'BCHM', 0, 'BCHM', 0, 'BCHM', 0, 'BCHM', 0, 'BCHM', 0, 'BCHM', 0, 'BCHM', 0, 'BCHM', 0, 'BCHM', 3, 'BCHM', 0, 'BCHM', 0, 'BCHM', 0, 'BCHM', 0, 'BCHM', 0, 'BCHM', 0, 'BCHM', 0, 'BCHM', 0, 'BCHM', 0, 'BCHM', 0, 'BCHM', 0, 'BCHM', 0, 'BCHM', 0, 'BCHM', 0, 'BCHM', 1, 'BCHM', 0, 'BCHM', 0, 'ENVS', 141, 'BIPH', 0, 'BIPH', 0, 'BIPH', 0, 'BIPH', 0, 'BIPH', 0, 'BIPH', 0, 'BIPH', 0, 'BIPH', 0, 'BIPH', 0, 'BIPH', 0, 'BIPH', 0, 'BIPH', 0, 'BIPH', 0, 'BIPH', 0, 'BIPH', 0, 'BIPH', 0, 'BIPH', 0, 'BIPH', 0, 'BIPH', 0, 'BIPH', 0, 'BIPH', 0, 'BIPH', 0, 'BIPH', 0, 'BIPH', 0, 'BIPH', 0, 'BIOL', 0, 'BIOL', 0, 'BIOL', 0, 'BIOL', 0, 'BIOL', 0, 'BIOL', 0, 'BIOL', 0, 'BIOL', 0, 'BIOL', 0, 'BIOL', 0, 'BIOL', 0, 'BIOL', 0, 'BIOL', 0, 'BIOL', 0, 'BIOL', 0, 'BIOL', 0, 'BIOL', 0, 'BIOL', 0, 'BIOL', 0, 'BIOL', 0, 'BIOL', 0, 'BIOL', 0, 'BIOL', 0, 'BIOL', 0, 'BIOL', 0, 'BIOL', 0, 'BIOL', 0, 'BIOL', 0, 'BIOL', 0, 'BIOL', 0, 'BIOL', 0, 'BIOL', 0, 'BIOL', 0, 'BIOL', 0, 'BIOL', 0, 'BIOL', 0, 'BIOL', 0, 'BIOL', 0, 'BIOL', 0, 'BIOL', 0, 'BIOL', 0, 'BIOL', 1, 'BIOL', 1, 'BIOL', 1, 'BIOL', 0, 'BIOL', 0, 'BIOL', 1, 'BIOL', 0, 'BIOL', 1, 'BIOL', 0, 'BIOL', 0, 'BIOL', 3, 'BIOL', 0, 'BIOL', 3, 'BIOL', 0, 'BIOL', 0, 'BIOL', 0, 'BIOL', 0, 'BIOL', 0, 'BIOL', 0, 'BIOL', 0, 'BIOL', 0, 'BIOL', 0, 'BIOL', 1, 'BIOL', 0, 'BIOL', 0, 'BIOL', 0, 'BIOL', 0, 'BIOL', 0, 'BIOL', 0, 'BIOL', 0, 'BIOL', 0, 'BIOL', 0, 'BIOL', 0, 'BIOL', 1, 'BIOL', 0, 'BIOL', 0, 'BIOL', 0, 'BIOL', 0, 'BIOL', 0, 'BIOL', 0, 'BIOL', 0, 'BIOL', 0, 'BIOL', 0, 'BIOL', 0, 'BIOL', 0, 'BIOL', 0, 'BIOL', 0, 'BIOL', 0, 'BIOL', 1, 'EAS', 0, 'EAS', 0, 'EAS', 0, 'EAS', 0, 'EAS', 0, 'EAS', 0, 'EAS', 0, 'EAS', 0, 'EAS', 1, 'EAS', 1, 'EAS', 0, 'EAS', 1, 'EAS', 0, 'EAS', 0, 'EAS', 0, 'BUS', 0, 'BUS', 0, 'BUS', 0, 'BUS', 0, 'BUS', 0, 'BUS', 0, 'BUS', 0, 'BUS', 3, 'BCHM', 0, 'BCHM', 1, 'BCHM', 1, 'BCHM', 0, 'BCHM', 0, 'BCHM', 0, 'BCHM', 0, 'BCHM', 0, 'BCHM', 0, 'BCHM', 0, 'BCHM', 0, 'BCHM', 0, 'BCHM', 1, 'BCHM', 0, 'BCHM', 0, 'BCHM', 1, 'BCHM', 0, 'BCHM', 0, 'BCHM', 0, 'BCHM', 0, 'BCHM', 0, 'BCHM', 0, 'BCHM', 0, 'BCHM', 0, 'BCHM', 0, 'BCHM', 0, 'BCHM', 0, 'BCHM', 0, 'BCHM', 0, 'BCHM', 0, 'BCHM', 0, 'BCHM', 0, 'BCHM', 0, 'BCHM', 0, 'BCHM', 1, 'BCHM', 0, 'BCHM', 0, 'BCHM', 0, 'AMST', 18, 'JOUR', 7, 'JOUR', 15, 'LING', 63, 'LING', 28, 'LING', 13, 'COSI', 21, 'LING', 12, 'ARBC', 13, 'ARBC', 13, 'ARBC', 9, 'HBRW', 12, 'HBRW', 5, 'HBRW', 11, 'HBRW', 16, 'HBRW', 9, 'HBRW', 7, 'YDSH', 9, 'YDSH', 5, 'IMES', 13, 'BCHM', 0, 'BCHM', 0, 'BCHM', 0, 'BCHM', 0, 'BCHM', 0, 'CHEM', 0, 'CHEM', 1, 'CHEM', 0, 'CHEM', 0, 'CHEM', 0, 'CHEM', 0, 'CHEM', 0, 'CHEM', 0, 'CHEM', 0, 'CHEM', 0, 'CHEM', 0, 'CHEM', 0, 'CHEM', 0, 'CHEM', 1, 'CHEM', 2, 'CHEM', 0, 'CHEM', 0, 'CHEM', 0, 'CHEM', 0, 'CHEM', 0, 'BCHM', 0, 'BCHM', 0, 'BCHM', 0, 'BCHM', 0, 'BCHM', 0, 'BCHM', 0, 'BCHM', 0, 'BCHM', 0, 'BCHM', 0, 'BCHM', 0, 'BCHM', 0, 'BCHM', 0, 'BCHM', 0, 'BCHM', 0, 'BCHM', 0, 'BCHM', 0, 'BCHM', 0, 'BCHM', 0, 'BCHM', 0, 'BCHM', 0, 'BCHM', 0, 'BCHM', 0, 'BCHM', 0, 'BCHM', 0, 'BCHM', 0, 'NEJS', 9, 'ED', 7, 'ED', 5, 'ED', 4, 'ED', 7, 'ED', 3, 'ED', 21, 'ED', 15, 'ED', 19, 'CHIN', 0, 'CHIN', 0, 'CHIN', 0, 'CHIN', 0, 'CHIN', 0, 'CLAS', 0, 'CLAS', 0, 'CLAS', 0, 'CLAS', 0, 'CLAS', 5, 'CLAS', 0, 'CLAS', 0, 'CLAS', 0, 'CLAS', 0, 'CLAS', 1, 'COML', 0, 'COML', 0, 'COML', 0, 'COML', 0, 'COML', 0, 'COML', 0, 'COML', 0, 'COML', 0, 'COML', 0, 'COML', 0, 'COML', 0, 'COML', 0, 'COML', 0, 'COML', 0, 'COML', 0, 'COML', 0, 'COML', 0, 'COML', 0, 'COML', 0, 'COML', 0, 'COML', 0, 'COML', 0, 'COML', 0, 'COML', 0, 'COML', 0, 'COML', 0, 'COML', 0, 'COML', 0, 'COML', 0, 'COML', 0, 'COML', 0, 'COML', 0, 'COML', 0, 'COML', 0, 'COML', 0, 'COML', 0, 'COML', 0, 'COSI', 0, 'COSI', 0, 'COSI', 2, 'COSI', 0, 'COSI', 0, 'COSI', 0, 'COSI', 0, 'COSI', 0, 'COSI', 0, 'COSI', 0, 'COSI', 1, 'COSI', 0, 'COSI', 0, 'COSI', 2, 'COSI', 0, 'COSI', 0, 'COSI', 0, 'COSI', 0, 'COSI', 2, 'COSI', 2, 'COSI', 0, 'COSI', 0, 'COSI', 0, 'COSI', 0, 'COSI', 0, 'COSI', 3, 'COSI', 0, 'COSI', 0, 'ED', 0, 'ED', 0, 'ED', 0, 'ED', 0, 'ED', 0, 'ED', 0, 'SAS', 0, 'YDSH', 0, 'SJSP', 0, 'RUS', 0, 'REL', 0, 'REL', 0, 'REL', 0, 'REL', 0, 'REL', 0, 'REL', 0, 'PAX', 1, 'PAX', 0, 'PAX', 1, 'LGLS', 0, 'LGLS', 0, 'CAST', 0, 'ECON', 13, 'ECON', 0, 'ECON', 0, 'ECON', 0, 'ECON', 0, 'ECON', 0, 'ECON', 0, 'ECON', 0, 'ECON', 0, 'ECON', 0, 'ECON', 0, 'BUS', 31, 'BUS', 38, 'BUS', 32, 'BUS', 38, 'BUS', 39, 'BUS', 30, 'BUS', 36, 'BUS', 40, 'BUS', 34, 'BUS', 38, 'BUS', 24, 'BUS', 28, 'BUS', 25, 'BUS', 40, 'ECON', 37, 'ECON', 34, 'ECON', 25, 'ECON', 0, 'ENG', 0, 'ENG', 0, 'ENG', 0, 'ENG', 0, 'ENG', 0, 'ENG', 0, 'ENG', 0, 'ENG', 0, 'ENG', 0, 'ENG', 0, 'ENG', 0, 'ENG', 0, 'ENG', 0, 'ENG', 0, 'ENG', 1, 'ENG', 0, 'ENG', 0, 'ENG', 0, 'ENG', 1, 'HISP', 11, 'ENG', 0, 'ENG', 0, 'ENG', 0, 'ENG', 0, 'ENG', 0, 'ENG', 1, 'ENG', 0, 'ENG', 1, 'ENG', 0, 'ENG', 0, 'ENG', 0, 'ENG', 0, 'ENG', 0, 'ENG', 1, 'ENG', 0, 'ENG', 0, 'ENG', 0, 'ENG', 0, 'ENG', 0, 'ENG', 1, 'ENG', 0, 'ENG', 0, 'ENG', 1, 'ENG', 0, 'ENG', 0, 'ENG', 0, 'ENG', 0, 'ENG', 0, 'ENG', 0, 'ENG', 0, 'ENG', 0, 'ENG', 0, 'ENG', 0, 'ENVS', 0, 'ENVS', 1, 'ENVS', 0, 'ENVS', 0, 'ENVS', 0, 'ENVS', 0, 'ENVS', 0, 'ENVS', 0, 'ENVS', 0, 'ENVS', 0, 'ENVS', 0, 'ENVS', 0, 'ENVS', 0, 'ECS', 0, 'ECS', 0, 'ECS', 1, 'ECS', 0, 'ECS', 0, 'ECS', 0, 'ECS', 0, 'ECS', 0, 'ECS', 0, 'FILM', 0, 'FILM', 1, 'FILM', 2, 'FILM', 2, 'FA', 0, 'FA', 0, 'FA', 0, 'FA', 0, 'FA', 0, 'FA', 0, 'FA', 0, 'FA', 0, 'FA', 1, 'FA', 0, 'FA', 0, 'FA', 0, 'FA', 0, 'FA', 0, 'FA', 0, 'FA', 0, 'FA', 0, 'FA', 0, 'FA', 0, 'FA', 0, 'FA', 0, 'FA', 0, 'FA', 0, 'FA', 1, 'FA', 0, 'FA', 0, 'FA', 0, 'FA', 0, 'FA', 0, 'FA', 0, 'FA', 0, 'FA', 0, 'FA', 0, 'FA', 0, 'FREN', 0, 'FREN', 0, 'FREN', 0, 'FREN', 0, 'FREN', 0, 'FREN', 0, 'GER', 1, 'GER', 0, 'GER', 0, 'GER', 0, 'GER', 0, 'GRK', 0, 'GRK', 0, 'GRK', 0, 'GRK', 0, 'GRK', 0, 'GRK', 0, 'GRK', 0, 'GRK', 0, 'GRK', 0, 'GRK', 0, 'GRK', 0, 'GRK', 0, 'HSSP', 1, 'HSSP', 0, 'HSSP', 0, 'HSSP', 0, 'HSSP', 0, 'HSSP', 0, 'HSSP', 0, 'HSSP', 0, 'HSSP', 0, 'HSSP', 0, 'HSSP', 1, 'HSSP', 0, 'HSSP', 0, 'HSSP', 0, 'HISP', 0, 'HISP', 0, 'HISP', 0, 'HIST', 0, 'HIST', 0, 'HIST', 0, 'HIST', 0, 'HIST', 0, 'HIST', 0, 'HIST', 0, 'HIST', 0, 'HIST', 0, 'HIST', 0, 'HIST', 0, 'HIST', 0, 'HIST', 0, 'HIST', 0, 'HIST', 0, 'HIST', 0, 'HIST', 0, 'HIST', 0, 'HIST', 0, 'HIST', 0, 'HIST', 0, 'HIST', 0, 'HIST', 0, 'HIST', 0, 'HIST', 0, 'HIST', 0, 'HIST', 0, 'HIST', 0, 'HIST', 0, 'HIST', 0, 'HIST', 0, 'HIST', 0, 'HIST', 0, 'HIST', 0, 'HIST', 0, 'HIST', 0, 'HIST', 0, 'HIST', 0, 'HIST', 0, 'HIST', 0, 'HIST', 2, 'HIST', 0, 'HIST', 0, 'HIST', 0, 'HIST', 1, 'HOID', 0, 'HOID', 0, 'IIM', 0, 'IIM', 0, 'IIM', 0, 'IGS', 0, 'IGS', 0, 'IGS', 0, 'IGS', 0, 'IGS', 0, 'IGS', 1, 'IGS', 0, 'IGS', 0, 'IGS', 0, 'IGS', 0, 'IGS', 1, 'IGS', 0, 'IGS', 0, 'IGS', 0, 'IGS', 0, 'IGS', 0, 'IGS', 0, 'IGS', 0, 'IGS', 1, 'IGS', 0, 'IGS', 0, 'IGS', 0, 'IGS', 1, 'IGS', 0, 'IGS', 0, 'IGS', 0, 'IGS', 0, 'ARBC', 0, 'ARBC', 0, 'IMES', 0, 'IMES', 0, 'IMES', 0, 'ITAL', 0, 'ITAL', 0, 'ITAL', 0, 'LAT', 0, 'LAT', 0, 'LAT', 0, 'LAT', 0, 'LAT', 0, 'LAT', 0, 'LAT', 0, 'LAT', 0, 'LAT', 0, 'LAT', 0, 'LAT', 0, 'LAT', 0, 'LALS', 0, 'LALS', 0, 'LALS', 0, 'LALS', 0, 'LALS', 0, 'LALS', 0, 'LALS', 0, 'LALS', 0, 'JAPN', 0, 'LING', 0, 'LING', 0, 'LING', 0, 'LING', 0, 'LING', 0, 'LING', 0, 'LING', 0, 'LING', 0, 'JOUR', 0, 'JOUR', 0, 'WGS', 0, 'WGS', 0, 'WGS', 0, 'WGS', 0, 'WGS', 0, 'WGS', 0, 'WGS', 0, 'WGS', 0, 'WGS', 0, 'WGS', 0, 'WGS', 0, 'WGS', 0, 'WGS', 0, 'WGS', 0, 'WGS', 0, 'WGS', 0, 'WGS', 0, 'WGS', 0, 'WGS', 0, 'WGS', 0, 'WGS', 0, 'WGS', 0, 'WGS', 0, 'WGS', 0, 'WGS', 0, 'WGS', 0, 'WGS', 0, 'WGS', 0, 'WGS', 0, 'WGS', 0, 'WGS', 0, 'WGS', 0, 'WGS', 0, 'WGS', 0, 'WGS', 0, 'WGS', 1, 'WGS', 0, 'WGS', 0, 'WGS', 0, 'WGS', 0, 'WGS', 0, 'WGS', 0, 'WGS', 0, 'WGS', 0, 'WGS', 0, 'WGS', 0, 'WGS', 0, 'WGS', 0, 'WGS', 0, 'WGS', 0, 'WGS', 0, 'WGS', 0, 'WGS', 0, 'WGS', 0, 'WGS', 0, 'WGS', 0, 'THA', 0, 'THA', 1, 'THA', 0, 'THA', 0, 'THA', 0, 'THA', 0, 'THA', 0, 'THA', 0, 'THA', 0, 'THA', 0, 'THA', 1, 'THA', 0, 'THA', 0, 'THA', 0, 'THA', 1, 'THA', 0, 'THA', 0, 'THA', 0, 'THA', 0, 'THA', 0, 'THA', 0, 'THA', 0, 'THA', 0, 'THA', 0, 'THA', 0, 'THA', 0, 'THA', 0, 'THA', 2, 'THA', 0, 'THA', 0, 'SOC', 0, 'SOC', 1, 'SOC', 0, 'SOC', 0, 'SOC', 0, 'SOC', 1, 'SOC', 0, 'SOC', 0, 'SOC', 0, 'SOC', 0, 'SOC', 0, 'SOC', 0, 'SOC', 0, 'SOC', 0, 'SOC', 0, 'SOC', 0, 'SOC', 0, 'SOC', 0, 'SOC', 0, 'SOC', 1, 'SOC', 0, 'SOC', 0, 'SOC', 0, 'SOC', 0, 'SOC', 0, 'SOC', 0, 'RUS', 0, 'RUS', 0, 'RUS', 0, 'RUS', 0, 'PSYC', 1, 'PSYC', 0, 'PSYC', 0, 'PSYC', 0, 'PSYC', 0, 'PSYC', 0, 'PSYC', 0, 'PSYC', 0, 'PSYC', 0, 'PSYC', 0, 'PSYC', 0, 'PSYC', 0, 'PSYC', 0, 'PSYC', 0, 'PSYC', 0, 'PSYC', 0, 'PSYC', 0, 'PSYC', 0, 'PSYC', 0, 'PSYC', 0, 'PSYC', 0, 'PSYC', 0, 'PSYC', 0, 'PSYC', 1, 'PSYC', 0, 'PSYC', 0, 'PSYC', 0, 'PSYC', 1, 'PSYC', 0, 'PSYC', 0, 'PSYC', 0, 'PSYC', 0, 'PSYC', 0, 'PSYC', 0, 'PSYC', 0, 'PSYC', 0, 'PSYC', 0, 'PSYC', 0, 'PSYC', 0, 'PSYC', 0, 'PSYC', 0, 'PSYC', 0, 'PSYC', 0, 'PSYC', 0, 'PSYC', 2, 'PSYC', 0, 'PSYC', 0, 'PSYC', 0, 'PSYC', 2, 'PSYC', 0, 'PSYC', 0, 'PSYC', 0, 'PSYC', 0, 'PSYC', 1, 'PSYC', 0, 'PSYC', 0, 'PSYC', 0, 'PSYC', 0, 'PSYC', 0, 'PSYC', 0, 'PSYC', 0, 'PSYC', 0, 'PSYC', 0, 'PSYC', 0, 'PSYC', 0, 'PSYC', 0, 'PSYC', 1, 'PSYC', 0, 'PSYC', 1, 'POL', 0, 'POL', 0, 'POL', 0, 'POL', 0, 'POL', 0, 'POL', 0, 'POL', 0, 'POL', 0, 'POL', 0, 'POL', 0, 'POL', 0, 'POL', 0, 'POL', 0, 'POL', 0, 'POL', 0, 'POL', 0, 'POL', 0, 'POL', 0, 'POL', 3, 'POL', 0, 'POL', 1, 'POL', 0, 'POL', 0, 'POL', 1, 'POL', 0, 'POL', 1, 'POL', 0, 'POL', 0, 'POL', 0, 'POL', 0, 'POL', 0, 'POL', 0, 'POL', 1, 'POL', 0, 'POL', 0, 'POL', 1, 'POL', 0, 'PHYS', 1, 'PHYS', 1, 'PHYS', 0, 'PHYS', 0, 'PHYS', 0, 'PHYS', 0, 'PHYS', 0, 'PHYS', 0, 'PHYS', 0, 'PHYS', 0, 'PHYS', 0, 'PHYS', 0, 'PHYS', 0, 'PHYS', 0, 'PHYS', 0, 'PHYS', 0, 'PHYS', 0, 'PHYS', 0, 'PHYS', 0, 'PHYS', 0, 'PHYS', 0, 'PHYS', 0, 'PHYS', 1, 'PHYS', 0, 'PHYS', 0, 'PHYS', 0, 'PHYS', 0, 'PHYS', 0, 'PHYS', 0, 'PHYS', 0, 'PHYS', 0, 'PHYS', 0, 'PHYS', 0, 'PHYS', 0, 'PHYS', 0, 'PHYS', 0, 'PHYS', 0, 'PHYS', 0, 'PHYS', 0, 'PHYS', 0, 'PHYS', 0, 'PHYS', 0, 'PHYS', 0, 'PHYS', 0, 'PHYS', 0, 'PHYS', 0, 'PHYS', 0, 'PHYS', 0, 'PHYS', 0, 'PHYS', 0, 'PHYS', 0, 'PHYS', 0, 'PHYS', 0, 'PHYS', 0, 'PHYS', 0, 'PHYS', 0, 'PHYS', 0, 'PHYS', 0, 'PHYS', 0, 'PHYS', 0, 'PHYS', 0, 'PHYS', 0, 'PHYS', 0, 'PHYS', 0, 'PHYS', 0, 'PHYS', 0, 'HBRW', 0, 'HBRW', 0, 'HBRW', 0, 'HBRW', 0, 'HBRW', 0, 'HBRW', 0, 'HBRW', 0, 'MATH', 0, 'MATH', 0, 'MATH', 0, 'MATH', 0, 'MATH', 0, 'MATH', 0, 'MATH', 0, 'MATH', 0, 'MATH', 0, 'MATH', 0, 'MUS', 0, 'MUS', 0, 'MUS', 0, 'MUS', 0, 'MUS', 0, 'MUS', 0, 'MUS', 0, 'MUS', 0, 'MUS', 0, 'MUS', 0, 'MUS', 0, 'MUS', 0, 'MUS', 0, 'MUS', 0, 'MUS', 0, 'MUS', 0, 'MUS', 0, 'MUS', 0, 'MUS', 0, 'MUS', 1, 'MUS', 0, 'MUS', 0, 'MUS', 0, 'MUS', 0, 'MUS', 0, 'MUS', 0, 'MUS', 0, 'MUS', 0, 'MUS', 0, 'MUS', 0, 'MUS', 0, 'MUS', 0, 'MUS', 0, 'MUS', 0, 'MUS', 0, 'MUS', 0, 'NEJS', 0, 'NEJS', 0, 'NEJS', 0, 'NEJS', 0, 'NEJS', 0, 'NEJS', 1, 'NEJS', 0, 'NEJS', 0, 'NEJS', 0, 'NEJS', 0, 'NEJS', 0, 'NEJS', 0, 'NEJS', 0, 'NEJS', 0, 'NEJS', 0, 'NEJS', 0, 'NEJS', 0, 'NEJS', 0, 'NEJS', 0, 'NEJS', 0, 'NEJS', 0, 'NEJS', 0, 'NEJS', 1, 'NEJS', 0, 'NEJS', 0, 'NEJS', 0, 'NEJS', 0, 'NEJS', 0, 'NEJS', 0, 'NEJS', 0, 'NEJS', 0, 'NEJS', 0, 'NEJS', 0, 'NEJS', 0, 'NEJS', 0, 'NEJS', 0, 'NEJS', 0, 'NEJS', 0, 'NEJS', 0, 'NEJS', 0, 'NEJS', 0, 'NEJS', 0, 'NEJS', 0, 'NEJS', 0, 'NEJS', 0, 'NEUR', 0, 'NEUR', 0, 'NEUR', 0, 'NEUR', 0, 'NEUR', 0, 'NEUR', 0, 'NEUR', 0, 'NEUR', 0, 'NEUR', 0, 'NEUR', 0, 'NEUR', 0, 'NEUR', 0, 'NEUR', 0, 'NEUR', 0, 'NEUR', 0, 'NEUR', 0, 'NEUR', 2, 'NEUR', 0, 'NEUR', 0, 'NEUR', 0, 'NEUR', 0, 'NEUR', 1, 'NEUR', 0, 'NEUR', 1, 'NEUR', 0, 'NEUR', 0, 'NEUR', 1, 'NEUR', 0, 'NEUR', 0, 'NEUR', 0, 'NEUR', 1, 'NEUR', 0, 'NEUR', 0, 'NEUR', 0, 'NEUR', 0, 'NEUR', 1, 'NEUR', 0, 'NEUR', 1, 'NEUR', 0, 'NEUR', 0, 'NEUR', 0, 'NEUR', 0, 'NEUR', 0, 'NEUR', 0, 'NEUR', 0, 'NEUR', 0, 'NEUR', 0, 'NEUR', 0, 'NEUR', 0, 'NEUR', 0, 'NEUR', 0, 'NEUR', 0, 'NEUR', 0, 'NEUR', 1, 'NEUR', 0, 'PHIL', 0, 'PHIL', 0, 'PHIL', 0, 'PHIL', 0, 'PHIL', 0, 'PHIL', 0, 'PHIL', 1, 'PHIL', 3, 'PHIL', 0, 'PHIL', 0, 'PHIL', 0, 'PHIL', 0, 'PHIL', 2, 'PHIL', 0, 'PHIL', 0, 'PHIL', 0, 'HS', 175, 'MATH', 52, 'MATH', 13, 'ED', 0, 'THA', 4, 'THA', 0, 'THA', 0, 'THA', 0, 'THA', 0, 'THA', 0, 'BIPH', 0, 'PSYC', 0, 'PSYC', 0, 'PSYC', 2, 'ENG', 0, 'MUS', 1, 'MUS', 0, 'MUS', 0, 'MUS', 0, 'MUS', 0, 'HS', 70, 'THA', 0, 'EL', 32, 'INT', 4, 'MUS', 0, 'MUS', 0, 'MUS', 12, 'MUS', 6, 'MUS', 0, 'MUS', 0, 'MUS', 0, 'MUS', 0, 'MUS', 5, 'MUS', 0, 'MUS', 1, 'MUS', 1, 'MUS', 3, 'MUS', 0, 'IGS', 1, 'BCHM', 0, 'BCHM', 0, 'BCHM', 0, 'BCHM', 0, 'BCHM', 0, 'BCHM', 0, 'BCHM', 0, 'MUS', 3, 'MUS', 0, 'THA', 0, 'THA', 0, 'IMES', 0, 'THA', 0, 'BIOL', 0, 'NEUR', 0, 'BIOL', 0, 'BIOL', 0, 'BIOL', 0, 'BIOL', 0, 'BIOL', 0, 'BIOL', 0, 'BIOL', 0, 'BIOL', 2, 'BIOL', 0, 'BIOL', 0, 'BIOL', 0, 'BIOL', 0, 'BIOL', 0, 'BIOL', 0, 'BIOL', 0, 'BIOL', 1, 'BIOL', 0, 'BIOL', 0, 'BIOL', 0, 'BIOL', 0, 'BIOL', 0, 'BIOL', 0, 'BIOL', 0, 'BIOL', 0, 'BIOL', 0, 'BIOL', 0, 'BIOL', 0, 'BIOL', 0, 'BIOL', 0, 'BIOL', 0, 'BIOL', 0, 'NEUR', 0, 'NEUR', 0, 'NEUR', 0, 'NEUR', 0, 'NEUR', 1, 'NEUR', 0, 'NEUR', 1, 'NEUR', 0, 'NEUR', 0, 'NEUR', 0, 'NEUR', 0, 'NEUR', 0, 'NEUR', 0, 'NEUR', 0, 'NEUR', 0, 'NEUR', 0, 'NEUR', 1, 'NEUR', 0, 'NEUR', 0, 'NEUR', 0, 'NEUR', 0, 'NEUR', 0, 'SOC', 0, 'NEUR', 0, 'NEUR', 0, 'HSSP', 0, 'HIST', 0, 'BIOL', 0, 'BIOL', 1, 'ENVS', 0, 'FA', 0, 'BIOL', 0, 'BIOL', 0, 'BCHM', 0, 'ANTH', 0, 'THA', 0, 'CHEM', 0, 'FA', 2, 'COSI', 1, 'POL', 0, 'POL', 0, 'IGS', 0, 'NEUR', 0, 'FREN', 0, 'AAAS', 0, 'ED', 0, 'KOR', 0, 'IGS', 0, 'FA', 0, 'HIST', 0, 'BIOL', 0, 'MATH', 68, 'LGLS', 14, 'POL', 15, 'POL', 13, 'HIST', 12, 'BIOL', 25, 'BIOL', 18, 'BIOL', 14, 'ECON', 14, 'COSI', 8, 'FA', 12, 'PHYS', 13, 'PHYS', 1, 'PHYS', 10, 'HBRW', 6, 'SAS', 14, 'FA', 18, 'CHEM', 14, 'SOC', 20, 'JOUR', 8, 'AAAS', 15, 'PHIL', 0, 'POL', 20, 'BIOL', 63, 'CHEM', 38, 'SJSP', 7, 'MATH', 0, 'MATH', 0, 'MATH', 0, 'MATH', 0, 'MATH', 0, 'MATH', 0, 'MATH', 0, 'MATH', 0, 'MATH', 0, 'MATH', 0, 'MATH', 0, 'MATH', 2, 'MATH', 0, 'MATH', 0, 'MATH', 0, 'MATH', 0, 'MUS', 8, 'MUS', 10, 'CHEM', 0, 'CHEM', 0, 'CHEM', 1, 'CHEM', 0, 'HIST', 0, 'EBIO', 0, 'BIOL', 0, 'IGS', 0, 'ECON', 0, 'IIM', 0, 'MATH', 0, 'MATH', 0, 'ANTH', 0, 'ANTH', 0, 'ANTH', 0, 'ANTH', 0, 'ANTH', 0, 'ITAL', 0, 'IGS', 0, 'IIM', 0, 'LALS', 0, 'NEJS', 0, 'BIOL', 0, 'BIOL', 1, 'BCHM', 0, 'BCHM', 0, 'BCHM', 0, 'BCHM', 0, 'BCHM', 0, 'BCHM', 1, 'BCHM', 0, 'BCHM', 0, 'BCHM', 0, 'CLAS', 0, 'CLAS', 0, 'IIM', 0, 'CLAS', 1, 'CHEM', 0, 'ED', 0, 'LGLS', 0, 'CLAS', 0, 'CLAS', 0, 'PHYS', 0, 'PHYS', 0, 'ED', 0, 'FA', 0, 'BIOL', 0, 'BUS', 0, 'MATH', 0, 'MATH', 0, 'FA', 10, 'BIOL', 8, 'AMST', 21, 'CHEM', 16, 'CLAS', 30, 'SOC', 49, 'CHEM', 8, 'ANTH', 19, 'ANTH', 21, 'ANTH', 23, 'HIST', 24, 'POL/WGS', 24, 'WGS', 28, 'RUS', 11, 'HBRW', 9, 'ENVS', 25, 'HIST', 18, 'PHIL', 35, 'CHIN', 14, 'BIOL', 23, 'NEJS', 12, 'CHIN', 19, 'POL', 14, 'BCHM', 0, 'POL', 56, 'BCHM', 0, 'FA', 27, 'ECON', 21, 'ECON', 19, 'PHIL', 19, 'HSSP', 7, 'FA', 11, 'BUS', 21, 'NBIO', 6, 'THA', 22, 'ANTH', 0, 'ECON', 39, 'BUS', 28, 'FILM', 15, 'HIST', 84, 'HWL', 30, 'ENVS', 19, 'ANTH', 35, 'POL', 18, 'POL', 12, 'AAAS/WGS', 23, 'AAAS/HIS', 28, 'WGS', 16, 'NEJS', 8, 'ANTH', 13, 'WGS', 16, 'IIM', 0, 'FILM', 0, 'CHEM', 3, 'HSSP', 0, 'COSI', 8, 'BUS', 24, 'PHIL', 0, 'POL', 1, 'BIOL', 0, 'IIM', 0, 'HIST', 0, 'POL', 0, 'POL', 0, 'ENG', 0, 'HIST', 0, 'IIM', 0, 'THA', 1, 'THA', 0, 'HSSP', 0, 'IIM', 1, 'BIOL', 0, 'COSI', 1, 'BUS', 1, 'RUS', 1, 'IIM', 0, 'BIOL', 1, 'HSSP', 0, 'IIM', 0, 'REL', 0, 'IIM', 0, 'FA', 3, 'AMST', 1, 'ED', 0, 'IIM', 0, 'ENG', 0, 'ENG', 0, 'IIM', 0, 'IIM', 0, 'ENVS', 0, 'FREN', 0, 'LGLS', 0, 'BCHM', 0, 'IGS', 0, 'ANTH', 0, 'BUS', 0, 'FA', 0, 'FA', 0, 'HSSP', 0, 'PHYS', 0, 'ENG', 1, 'ENG', 1, 'HIST', 0, 'HIST', 0, 'HIST', 0, 'HIST', 0, 'ANTH', 13, 'ANTH', 16, 'ENG', 14, 'ENG', 21, 'ENG', 26, 'ENG', 30, 'ENG', 13, 'ENG', 21, 'ENG', 71, 'ENG', 39, 'ENG', 29, 'ENG', 11, 'ENG', 10, 'ENG', 13, 'ENG', 12, 'HUM/UWS', 22, 'CHSC', 20, 'CHEM', 18, 'QBIO', 11, 'CHEM', 12, 'CHEM', 14, 'FA', 30, 'FA', 14, 'FA', 13, 'FA', 9, 'FA', 11, 'FA', 11, 'MATH', 8, 'MATH', 14, 'MATH', 43, 'MATH', 7, 'MATH', 6, 'PHYS', 5, 'THA', 13, 'THA', 8, 'THA', 24, 'THA', 10, 'AMST/MUS', 22, 'AMST', 17, 'AMST', 5, 'JOUR', 11, 'HIST', 18, 'HIST', 15, 'HIST', 20, 'HIST', 25, 'HIST', 51, 'HIST', 29, 'HIST', 20, 'HIST', 28, 'HIST/SOC', 15, 'FREN', 10, 'FREN', 10, 'FREN', 6, 'ITAL', 11, 'PSYC', 48, 'PSYC', 6, 'PSYC', 20, 'PSYC', 24, 'PSYC', 11, 'JOUR', 20, 'PSYC', 30, 'AAAS', 50, 'GRK', 6, 'LAT', 8, 'AAAS', 8, 'SOC', 16, 'SOC', 4, 'GER', 7, 'RECS', 4, 'RUS', 11, 'JAPN', 12, 'JAPN', 6, 'CLAS', 39, 'NBIO', 29, 'BISC', 26, 'BIOL', 23, 'BIOL', 46, 'ANTH', 18, 'ANTH', 24, 'ANTH', 14, 'ANTH', 17, 'ANTH', 27, 'BIOL', 21, 'ANTH', 1, 'ECON', 16, 'ECON', 58, 'ECON', 9, 'ECON', 23, 'ECON', 23, 'PHIL', 76, 'PHIL', 35, 'POL', 11, 'POL', 33, 'FA', 6, 'ENVS', 23, 'ED', 20, 'ED', 31, 'ARBC', 5, 'NEJS', 8, 'NEJS', 6, 'NEJS', 24, 'NEJS', 23, 'NEJS', 16, 'NEJS', 7, 'NEJS', 7, 'NEJS', 42, 'NEJS', 14, 'NEJS', 11, 'NEJS', 2, 'PSYC', 11, 'NPSY', 40, 'NPSY', 15, 'SOC', 56, 'LING', 21, 'LING', 24, 'COSI', 56, 'COSI', 166, 'BUS', 31, 'ECON', 18, 'ECON', 11, 'POL', 18, 'POL', 23, 'POL', 17, 'FA', 10, 'FA', 8, 'ENG', 15, 'MUS', 21, 'MUS', 17, 'MUS', 7, 'MUS', 6, 'POL', 13, 'QR', 30, 'LGLS', 23, 'CHEM', 10, 'BUS', 16, 'ENG', 17, 'ANTH', 8, 'NEJS', 3, 'COSI', 84, 'ECON', 10, 'ENG', 22, 'CLAS/ENG', 18, 'CAST', 3, 'LING', 7, 'ECON', 20, 'ECON', 14, 'HSSP', 25, 'AMST/ENG', 22, 'HISP', 28, 'HIST', 13, 'HUM/UWS', 14, 'HISP', 25, 'HISP', 21, 'FA', 26, 'FA', 15, 'AAPI/HIS', 40, 'AMST', 19, 'ENG', 17, 'HIST', 20, 'ANTH/WGS', 26, 'ANTH', 28, 'THA', 18, 'AMST', 16, 'ANTH', 11, 'SOC', 21, 'UWS', 18, 'UWS', 18, 'HIST', 12, 'HIST/WGS', 21, 'CA', 20, 'COSI', 13, 'COSI', 44, 'HSSP', 24, 'COML', 8, 'MUS', 4, 'COSI', 14, 'HBRW', 11, 'HIST', 21, 'RECS', 5, 'PHIL', 80, 'COSI', 18, 'COSI', 67, 'CLAS/NEJ', 20, 'WGS', 1, 'HWL', 5, 'HSSP', 1, 'IIM', 0, 'EAS', 1, 'HSSP', 1, 'PHIL', 1, 'PHIL', 1, 'POL', 1, 'UWS', 18, 'UWS', 18, 'UWS', 18, 'UWS', 17, 'UWS', 14, 'UWS', 17, 'UWS', 18, 'UWS', 18, 'UWS', 17, 'UWS', 16, 'UWS', 17, 'UWS', 17, 'HWL', 784, 'UWS', 18, 'UWS', 18, 'UWS', 18, 'UWS', 18, 'COMP', 10, 'COMP', 7, 'COMP', 11, 'COMP', 9, 'ECS/ENG', 18, 'ANTH', 43, 'EL', 13, 'EL', 12, 'EL', 12, 'EL', 7, 'EL', 15, 'EL', 10, 'EL', 9, 'EL', 13, 'BIOL', 7, 'ENVS', 0, 'ENVS', 2, 'BIOL', 21, 'ENVS', 28, 'THA', 21, 'PHIL', 18, 'FA', 16, 'MERS', 0, 'ENG', 17, 'PHIL', 22, 'FA', 33, 'NEJS', 0, 'UWS', 18, 'UWS', 18, 'CHEM', 6, 'CHEM', 0, 'CHEM', 2, 'BIOL', 24, 'BIOL', 23, 'BIOL', 25, 'BIOL', 22, 'BIOL', 23, 'BIOL', 22, 'BIOL', 24, 'BIOL', 20, 'BIOL', 20, 'NEJS', 1, 'MATH', 24, 'UWS', 18, 'IGS', 1, 'THA', 1, 'HSSP', 1, 'BCHM', 1, 'CHEM', 0, 'CHEM', 0, 'CHEM', 0, 'CHEM', 0, 'CHEM', 0, 'CHEM', 0, 'CHEM', 0, 'CHEM', 1, 'CHEM', 1, 'CHEM', 1, 'CHEM', 1, 'IGS', 1, 'COSI', 0, 'ENG', 1, 'IIM', 0, 'JOUR', 1, 'JOUR', 1, 'AAAS', 1, 'BIOL', 1, 'BCHM', 1, 'BCHM', 0, 'BCHM', 0, 'AAAS', 1, 'AAPI/WGS', 4, 'BIPH', 1, 'BUS', 1, 'EL', 5, 'BIOL', 1, 'ANTH', 4, 'CHEM', 1, 'AAAS', 2, 'BIOL', 1, 'BIOL', 1, 'BIOL', 4, 'BIOL', 1, 'BIOL', 2, 'CHEM', 1, 'NEUR', 2, 'NEUR', 2, 'NEUR', 2, 'NEUR', 1, 'NEUR', 1, 'NEUR', 1, 'PHYS', 2, 'PSYC', 1, 'PSYC', 1, 'PSYC', 6, 'PSYC', 3, 'PSYC', 1, 'PSYC', 2, 'PSYC', 2, 'PSYC', 4, 'ENVS', 1, 'IIM', 1, 'SOC', 1, 'IIM', 1, 'IGS', 1, 'BIPH', 1, 'IIM', 1, 'HSSP', 1, 'IIM', 1, 'HIST', 1, 'IIM', 1, 'BIOL', 0, 'BIOL', 1, 'BCHM', 1, 'IGS', 1, 'ENVS', 1, 'IIM', 1, 'POL', 0, 'ENVS', 0, 'IIM', 1, 'MATH', 26, 'MATH', 18, 'ECON', 29, 'UWS', 18, 'UWS', 17, 'UWS', 17, 'COMP', 10, 'COMP', 11, 'COSI', 25, 'ENG', 23, 'HIST', 13, 'IGS', 21, 'THA', 7, 'FA', 19, 'RBIF', 10, 'RBIF', 7, 'RBIF', 9, 'RBOT', 12, 'RCOM', 17, 'RDFT', 8, 'RDFT', 9, 'RDMD', 12, 'RHIN', 8, 'RIAS', 6, 'RIDT', 14, 'RMGT', 4, 'RMGT', 14, 'RMGT', 14, 'RPJM', 15, 'RPJM', 9, 'RPJM', 6, 'RSAN', 12, 'RSAN', 7, 'RSAN', 7, 'RSAN', 9, 'RSEG', 6, 'RSEG', 6, 'RSEG', 10, 'RUCD', 14, 'RUCD', 15, 'RUCD', 9, 'RUCD', 1, 'RPJM', 9, 'RDMD', 13, 'RBOT', 2, 'RBIF', 10, 'RBIF', 12, 'RCOM', 16, 'RDFT', 7, 'RDMD', 14, 'RHIN', 7, 'RHIN', 6, 'RHIN', 6, 'RIAS', 3, 'RIAS', 6, 'RIAS', 7, 'RIDT', 10, 'RMGT', 6, 'RMGT', 10, 'RPJM', 17, 'RPJM', 10, 'RPJM', 6, 'RPJM', 10, 'RPJM', 9, 'RSAN', 10, 'RSAN', 17, 'RSAN', 15, 'RSAN', 5, 'RSEG', 7, 'RSEG', 7, 'RSEG', 6, 'RUCD', 8, 'RUCD', 18, 'RUCD', 20, 'RUCD', 1, 'RBIF', 1, 'RBOT', 2, 'RBOT', 7, 'RUCD', 17, 'RDMD', 15, 'RBIF', 1, 'RPJM', 11, 'RUCD', 9, 'RBIF', 1, 'RBIF', 15, 'RBIF', 4, 'RBIF', 9, 'RBOT', 13, 'RCOM', 16, 'RDFT', 2, 'RDFT', 1, 'RDMD', 17, 'RDMD', 22, 'RDMD', 18, 'RHIN', 10, 'RHIN', 8, 'RHIN', 5, 'RIAS', 4, 'RIAS', 8, 'RIAS', 7, 'RIDT', 11, 'RIDT', 1, 'RIDT', 9, 'RMGT', 13, 'RMGT', 15, 'RPJM', 16, 'RPJM', 13, 'RPJM', 13, 'RSAN', 17, 'RSAN', 9, 'RSAN', 7, 'RSEG', 6, 'RSEG', 2, 'RSEG', 4, 'RSEG', 3, 'RUCD', 15, 'RUCD', 20, 'RUCD', 10, 'RSAN', 5, 'RUCD', 1, 'RBIF', 1, 'RBIF', 1, 'RUCD', 14, 'RBIF', 1, 'RBIF', 15, 'RBIF', 11, 'RBOT', 9, 'RCOM', 13, 'RDFT', 7, 'RDMD', 9, 'RDMD', 12, 'RDMD', 10, 'RHIN', 9, 'RHIN', 6, 'RIAS', 8, 'RIDT', 10, 'RIDT', 2, 'RIDT', 4, 'RMGT', 9, 'RMGT', 6, 'RPJM', 14, 'RPJM', 10, 'RPJM', 12, 'RPJM', 16, 'RPJM', 15, 'RSAN', 8, 'RSAN', 10, 'RSAN', 12, 'RSAN', 15, 'RSEG', 2, 'RSEG', 4, 'RSEG', 5, 'RUCD', 12, 'RUCD', 13, 'RUCD', 11, 'RUCD', 7, 'RMGT', 2, 'RMGT', 2, 'RMGT', 2, 'RDMD', 15, 'RUCD', 12, 'RUCD', 12, 'RBIF', 1, 'HS', 56, 'HS', 24, 'HS', 29, 'HS', 29, 'HS', 11, 'HS', 10, 'HS', 52, 'HS', 24, 'HS', 9, 'HS', 12, 'HS', 12, 'HS', 12, 'HS', 6, 'HS', 17, 'HS', 36, 'HS', 17, 'HS', 36, 'HS', 8, 'HS', 27, 'NEJS', 1, 'BIOT', 3, 'NEJS', 1, 'HS', 1, 'NEJS', 1, 'NEJS', 1, 'HS', 1, 'ED', 1, 'ED', 25, 'ED', 25, 'ED', 20, 'ED', 20, 'ED', 19, 'ED', 20, 'ED', 19, 'ED', 12, 'ED', 7, 'ED', 7, 'ED', 7, 'COSI', 2, 'COSI', 11, 'COSI', 1, 'BIOL', 10, 'BIOL', 10, 'HRNS', 0, 'HRNS', 14, 'HRNS', 1, 'HRNS', 0, 'HRNS', 0, 'HRNS', 0, 'HRNS', 1, 'HRNS', 0, 'HRNS', 0, 'HRNS', 0, 'HRNS', 0, 'HRNS', 0, 'HRNS', 0, 'HRNS', 0, 'HRNS', 1, 'NEJS', 0, 'COSI', 0, 'COSI', 2, 'HRNS', 3, 'ED', 5, 'BUS', 6, 'BUS', 24, 'ECON', 7, 'BUS', 13, 'BUS', 17, 'BUS', 0, 'FIN', 11, 'FIN', 13, 'FIN', 3, 'BUS', 2, 'BUS', 1, 'BUS', 1, 'FIN', 4, 'FIN', 4, 'FIN', 3, 'FIN', 5, 'FIN', 6, 'BUS', 5, 'BUS', 5, 'BUS', 4, 'BUS', 1, 'BUS', 9, 'BUS', 13, 'FIN', 20, 'FIN', 7, 'BUS', 1, 'BUS', 16, 'FIN', 9, 'BUS', 12, 'BUS/FIN', 9, 'FIN', 6, 'FIN', 5, 'FIN', 14, 'FIN', 6, 'HS', 2, 'HS', 32, 'HS', 32, 'HS', 32, 'HS', 32, 'HS', 32, 'HS', 32, 'HS', 32, 'ED', 19, 'ED', 19, 'CHEM', 15, 'CHEM', 16, 'CHEM', 22, 'CHEM', 24, 'COSI', 20, 'FA', 14, 'GECS', 10, 'SOC', 8, 'BCHM', 13, 'ECON', 2, 'ECON', 5, 'ECON', 13, 'FA', 10, 'MATH', 11, 'MATH', 12, 'PSYC', 10, 'PSYC', 15, 'BUS', 7, 'ECON', 7, 'ECON', 12, 'ENG', 16, 'ENG', 11, 'MATH', 9, 'MATH', 18, 'PHIL', 6, 'PHYS', 10, 'ECON', 3, 'PSYC', 9, 'PSYC', 9, 'UWS', 2, 'CHEM', 14, 'CHEM', 16, 'CHEM', 22, 'CHEM', 21, 'COSI', 37, 'COSI', 20, 'FA', 15, 'HSSP', 10, 'ENG', 10, 'ENG', 2, 'ANTH', 12, 'ANTH', 11, 'BIOL', 13, 'ECON', 5, 'ECON', 9, 'ENG', 5, 'ENVS', 6, 'FA', 4, 'MATH', 13, 'PSYC', 9, 'ANTH', 6, 'ECON', 2, 'MATH', 15, 'MATH', 5, 'REL', 7, 'COSI', 9, 'HIST', 2, 'PHYS', 12, 'UWS', 9, 'PSYC', 10, 'ECON', 6, 'ECON', 12, 'BUS', 6, 'FA', 6, 'FA', 6, 'BISC', 8, 'BISC', 5, 'ECON', 6, 'IGS', 9, 'INT', 39, 'PHIL', 18, 'POL', 7, 'PSYC', 6, 'SOC', 13, 'THA', 14, 'BIOL', 12, 'ECON', 14, 'PHIL', 5, 'IGS', 4, 'HIST', 3, 'BISC', 6, 'ENG', 1)\n"
     ]
    }
   ],
   "source": []
  },
  {
   "cell_type": "code",
   "execution_count": 186,
   "metadata": {},
   "outputs": [
    {
     "name": "stdout",
     "output_type": "stream",
     "text": [
      "[('HRNS', 164), ('BUS', 2766), ('ECON', 2315), ('FIN', 1061), ('HS', 5318), ('ANTH', 1144), ('CHEM', 2322), ('PHIL', 917), ('HIST', 925), ('PSYC', 1704), ('WGS', 295), ('ENG', 1109), ('POL', 946), ('BIOL', 3085), ('NBIO', 409), ('CHIN', 383), ('MATH', 1785), ('MUS', 838), ('SOC', 931), ('BCBP', 92), ('BIOT', 32), ('ED', 785), ('CLAS', 236), ('COMH', 0), ('COSI', 2223), ('GRK', 32), ('LAT', 47), ('THA', 525), ('PHYS', 1097), ('NEJS', 442), ('NEUR', 156), ('PMED', 0), ('ESL', 54), ('BUS/FIN', 76), ('BUS/ECON', 43), ('ECON/FIN', 76), ('HS/POL', 6), ('HWL', 2734), ('GER', 78), ('JAPN', 227), ('KOR', 103), ('RUS', 67), ('ITAL', 93), ('HISP', 648), ('FREN', 222), ('IGS', 300), ('AMST', 215), ('AAAS', 183), ('BCHM', 368), ('BIPH', 4), ('EAS', 7), ('COML', 22), ('SAS', 14), ('YDSH', 24), ('SJSP', 7), ('REL', 52), ('PAX', 26), ('LGLS', 615), ('QBIO', 48), ('BIBC', 26), ('HSSP', 559), ('ENVS', 375), ('ECS', 9), ('FILM', 106), ('FA', 992), ('HOID', 0), ('IIM', 13), ('CAST', 72), ('IMES', 13), ('LALS', 43), ('LING', 301), ('JOUR', 171), ('HBRW', 160), ('NPSY', 389), ('ARBC', 70), ('INT', 50), ('CA', 41), ('EBIO', 1), ('AAAS/WGS', 89), ('HUM', 9), ('EL', 262), ('CBIO', 22), ('AMST/ENG', 37), ('RECS/THA', 14), ('UWS', 757), ('COMP', 99), ('MERS', 0), ('AAS/AAPI', 13), ('AAPI/HIS', 56), ('RECS', 33), ('AAPI/WGS', 55), ('AAAS/HIS', 48), ('BISC', 52), ('AAPI', 1), ('GS', 0), ('POL/WGS', 24), ('HUM/UWS', 36), ('CHSC', 20), ('AMST/MUS', 22), ('HIST/SOC', 15), ('QR', 30), ('CLAS/ENG', 18), ('ANTH/WGS', 26), ('HIST/WGS', 21), ('CLAS/NEJ', 20), ('ECS/ENG', 18), ('RBIF', 109), ('RBOT', 45), ('RCOM', 62), ('RDFT', 34), ('RDMD', 157), ('RHIN', 65), ('RIAS', 49), ('RIDT', 61), ('RMGT', 97), ('RPJM', 211), ('RSAN', 165), ('RSEG', 68), ('RUCD', 239), ('GECS', 10)]\n"
     ]
    }
   ],
   "source": [
    "courses_and_enrollment = {}\n",
    "for course in courses:\n",
    "    if(course['subject'] in courses_and_enrollment):\n",
    "        courses_and_enrollment[course['subject']] += course['enrolled']\n",
    "    else: \n",
    "        courses_and_enrollment[course['subject']] = (course['enrolled']) \n",
    "tuples = [(k, v) for k, v in courses_and_enrollment.items()]\n",
    "print(tuples)"
   ]
  },
  {
   "cell_type": "markdown",
   "metadata": {},
   "source": [
    "E. Do the same as in (d) but print the top 10 subjects in terms of number of courses offered"
   ]
  },
  {
   "cell_type": "code",
   "execution_count": 156,
   "metadata": {},
   "outputs": [
    {
     "name": "stdout",
     "output_type": "stream",
     "text": [
      "ECON/FIN\n",
      "BUS/ECON\n",
      "AAAS/WGS\n",
      "AMST/ENG\n",
      "RECS/THA\n",
      "AAAS/WGS\n",
      "AAS/AAPI\n",
      "AAPI/HIS\n",
      "AAPI/WGS\n"
     ]
    }
   ],
   "source": [
    "course_list = []\n",
    "subject_list = []\n",
    "for course in courses:\n",
    "    course_list.append(course['subject'])\n",
    "    subject_list.append(len(course['subject']))\n",
    "tuples = convert(course_list, subject_list)\n",
    "sorted_by_num_offered = tuples.sort(key = return_num, reverse = True)\n",
    "\n",
    "for i in range(1, 10):\n",
    "    print(tuples[i][0])"
   ]
  },
  {
   "cell_type": "markdown",
   "metadata": {},
   "source": [
    "F. Do the same as (d) but print the top 10 subjects in terms of number of faculty teaching courses in that subject"
   ]
  },
  {
   "cell_type": "code",
   "execution_count": 167,
   "metadata": {},
   "outputs": [
    {
     "ename": "AttributeError",
     "evalue": "'dict' object has no attribute 'add'",
     "output_type": "error",
     "traceback": [
      "\u001b[0;31m---------------------------------------------------------------------------\u001b[0m",
      "\u001b[0;31mAttributeError\u001b[0m                            Traceback (most recent call last)",
      "\u001b[0;32m<ipython-input-167-773492e8f38b>\u001b[0m in \u001b[0;36m<module>\u001b[0;34m\u001b[0m\n\u001b[1;32m      4\u001b[0m     \u001b[0mcourse_list\u001b[0m\u001b[0;34m.\u001b[0m\u001b[0madd\u001b[0m\u001b[0;34m(\u001b[0m\u001b[0mcourse\u001b[0m\u001b[0;34m[\u001b[0m\u001b[0;34m'subject'\u001b[0m\u001b[0;34m]\u001b[0m\u001b[0;34m)\u001b[0m\u001b[0;34m\u001b[0m\u001b[0;34m\u001b[0m\u001b[0m\n\u001b[1;32m      5\u001b[0m     \u001b[0mfaculty_list\u001b[0m\u001b[0;34m.\u001b[0m\u001b[0madd\u001b[0m\u001b[0;34m(\u001b[0m\u001b[0mlen\u001b[0m\u001b[0;34m(\u001b[0m\u001b[0mcourse\u001b[0m\u001b[0;34m[\u001b[0m\u001b[0;34m'instructor'\u001b[0m\u001b[0;34m]\u001b[0m\u001b[0;34m)\u001b[0m\u001b[0;34m)\u001b[0m\u001b[0;34m\u001b[0m\u001b[0;34m\u001b[0m\u001b[0m\n\u001b[0;32m----> 6\u001b[0;31m \u001b[0mtuples\u001b[0m \u001b[0;34m=\u001b[0m \u001b[0mconvert\u001b[0m\u001b[0;34m(\u001b[0m\u001b[0mfaculty_list\u001b[0m\u001b[0;34m,\u001b[0m \u001b[0mcourse_list\u001b[0m\u001b[0;34m)\u001b[0m\u001b[0;34m\u001b[0m\u001b[0;34m\u001b[0m\u001b[0m\n\u001b[0m\u001b[1;32m      7\u001b[0m \u001b[0msorted_by_num_offered\u001b[0m \u001b[0;34m=\u001b[0m \u001b[0mtuples\u001b[0m\u001b[0;34m.\u001b[0m\u001b[0msort\u001b[0m\u001b[0;34m(\u001b[0m\u001b[0mkey\u001b[0m \u001b[0;34m=\u001b[0m \u001b[0mreturn_num\u001b[0m\u001b[0;34m,\u001b[0m \u001b[0mreverse\u001b[0m \u001b[0;34m=\u001b[0m \u001b[0;32mTrue\u001b[0m\u001b[0;34m)\u001b[0m\u001b[0;34m\u001b[0m\u001b[0;34m\u001b[0m\u001b[0m\n\u001b[1;32m      8\u001b[0m \u001b[0;32mfor\u001b[0m \u001b[0mi\u001b[0m \u001b[0;32min\u001b[0m \u001b[0mrange\u001b[0m\u001b[0;34m(\u001b[0m\u001b[0;36m1\u001b[0m\u001b[0;34m,\u001b[0m \u001b[0;36m10\u001b[0m\u001b[0;34m)\u001b[0m\u001b[0;34m:\u001b[0m\u001b[0;34m\u001b[0m\u001b[0;34m\u001b[0m\u001b[0m\n",
      "\u001b[0;32m<ipython-input-166-70c18d2c364b>\u001b[0m in \u001b[0;36mconvert\u001b[0;34m(*sets)\u001b[0m\n\u001b[1;32m     11\u001b[0m \u001b[0;34m\u001b[0m\u001b[0m\n\u001b[1;32m     12\u001b[0m     \u001b[0;32mfor\u001b[0m \u001b[0mi\u001b[0m \u001b[0;32min\u001b[0m \u001b[0mrange\u001b[0m\u001b[0;34m(\u001b[0m\u001b[0msize\u001b[0m\u001b[0;34m)\u001b[0m\u001b[0;34m:\u001b[0m\u001b[0;34m\u001b[0m\u001b[0;34m\u001b[0m\u001b[0m\n\u001b[0;32m---> 13\u001b[0;31m         \u001b[0mreturned_list\u001b[0m\u001b[0;34m.\u001b[0m\u001b[0madd\u001b[0m\u001b[0;34m(\u001b[0m\u001b[0mtuple\u001b[0m\u001b[0;34m(\u001b[0m\u001b[0;34m[\u001b[0m\u001b[0mx\u001b[0m\u001b[0;34m[\u001b[0m\u001b[0mi\u001b[0m\u001b[0;34m]\u001b[0m \u001b[0;32mfor\u001b[0m \u001b[0mx\u001b[0m \u001b[0;32min\u001b[0m \u001b[0msets\u001b[0m\u001b[0;34m]\u001b[0m\u001b[0;34m)\u001b[0m\u001b[0;34m)\u001b[0m\u001b[0;34m\u001b[0m\u001b[0;34m\u001b[0m\u001b[0m\n\u001b[0m\u001b[1;32m     14\u001b[0m \u001b[0;34m\u001b[0m\u001b[0m\n\u001b[1;32m     15\u001b[0m     \u001b[0;32mreturn\u001b[0m \u001b[0mreturned_list\u001b[0m\u001b[0;34m\u001b[0m\u001b[0;34m\u001b[0m\u001b[0m\n",
      "\u001b[0;31mAttributeError\u001b[0m: 'dict' object has no attribute 'add'"
     ]
    }
   ],
   "source": [
    "course_list = set([])\n",
    "faculty_list = set([])\n",
    "for course in courses:\n",
    "    course_list.add(course['subject'])\n",
    "    faculty_list.add(len(course['instructor']))\n",
    "tuples = convert(faculty_list, course_list)\n",
    "sorted_by_num_offered = tuples.sort(key = return_num, reverse = True)\n",
    "for i in range(1, 10):\n",
    "    print(tuples[i][1])"
   ]
  },
  {
   "cell_type": "markdown",
   "metadata": {},
   "source": [
    "G. List the top 20 faculty in terms of number of students they taught"
   ]
  },
  {
   "cell_type": "code",
   "execution_count": null,
   "metadata": {},
   "outputs": [],
   "source": [
    "sorted(len({course['instructor'] for course in courses and course['enrolled'] > 1}))[:20]"
   ]
  },
  {
   "cell_type": "markdown",
   "metadata": {},
   "source": [
    "H. List the top 20 courses in terms of number of students taking that course (where you combine different sections and semesters, i.e. just use the subject and course number)"
   ]
  },
  {
   "cell_type": "code",
   "execution_count": null,
   "metadata": {},
   "outputs": [],
   "source": []
  },
  {
   "cell_type": "markdown",
   "metadata": {},
   "source": [
    "I. Create your own interesting question (each team member creates their own) and use Python to answer that question."
   ]
  },
  {
   "cell_type": "code",
   "execution_count": null,
   "metadata": {},
   "outputs": [],
   "source": [
    "# Written by Nazari Tuyo"
   ]
  },
  {
   "cell_type": "code",
   "execution_count": null,
   "metadata": {},
   "outputs": [],
   "source": [
    "# Written by Jimkelly Percine"
   ]
  },
  {
   "cell_type": "code",
   "execution_count": null,
   "metadata": {},
   "outputs": [],
   "source": [
    "# Written by Tiffany Huang"
   ]
  },
  {
   "cell_type": "code",
   "execution_count": null,
   "metadata": {},
   "outputs": [],
   "source": [
    "# Written by Ianna Gilbert"
   ]
  },
  {
   "cell_type": "code",
   "execution_count": null,
   "metadata": {},
   "outputs": [],
   "source": [
    "# Written by Gabby Pile"
   ]
  }
 ],
 "metadata": {
  "kernelspec": {
   "display_name": "Python 3",
   "language": "python",
   "name": "python3"
  },
  "language_info": {
   "codemirror_mode": {
    "name": "ipython",
    "version": 3
   },
   "file_extension": ".py",
   "mimetype": "text/x-python",
   "name": "python",
   "nbconvert_exporter": "python",
   "pygments_lexer": "ipython3",
   "version": "3.8.8"
  }
 },
 "nbformat": 4,
 "nbformat_minor": 4
}
