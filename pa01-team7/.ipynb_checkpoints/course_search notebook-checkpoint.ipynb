{
 "cells": [
  {
   "cell_type": "code",
   "execution_count": 26,
   "id": "5d34f0f8",
   "metadata": {},
   "outputs": [],
   "source": [
    "from dis import Instruction\n",
    "from unicodedata import name\n",
    "from schedule import Schedule\n",
    "import sys"
   ]
  },
  {
   "cell_type": "code",
   "execution_count": 27,
   "id": "e17e4428",
   "metadata": {},
   "outputs": [
    {
     "name": "stdout",
     "output_type": "stream",
     "text": [
      "getting archived regdata from file\n"
     ]
    }
   ],
   "source": [
    "schedule = Schedule()\n",
    "schedule.load_courses()\n",
    "# eliminate courses with no students\n",
    "schedule = schedule.enrolled(range(5, 1000))"
   ]
  },
  {
   "cell_type": "code",
   "execution_count": 28,
   "id": "17ce43e5",
   "metadata": {},
   "outputs": [],
   "source": [
    "TOP_LEVEL_MENU = '''\n",
    "quit\n",
    "reset\n",
    "term  (filter by term)\n",
    "course (filter by coursenum, e.g. COSI 103a)\n",
    "instructor (filter by instructor)\n",
    "subject (filter by subject, e.g. COSI, or LALS)\n",
    "title  (filter by phrase in title)\n",
    "description (filter by phrase in description)\n",
    "timeofday (filter by day and time, e.g. meets at 11 on Wed)\n",
    "'''\n",
    "\n",
    "terms = {c['term'] for c in schedule.courses}"
   ]
  },
  {
   "cell_type": "code",
   "execution_count": 29,
   "id": "e842cd76",
   "metadata": {},
   "outputs": [],
   "source": [
    "def topmenu():\n",
    "    '''\n",
    "    topmenu is the top level loop of the course search app\n",
    "    '''\n",
    "    global schedule\n",
    "    while True:\n",
    "        command = input(\">> (h for help) \")\n",
    "        if command == 'quit':\n",
    "            return\n",
    "        elif command in ['h', 'help']:\n",
    "            print(TOP_LEVEL_MENU)\n",
    "            print('-'*40+'\\n\\n')\n",
    "            continue\n",
    "        elif command in ['r', 'reset']:\n",
    "            schedule.load_courses()\n",
    "            schedule = schedule.enrolled(range(5, 1000))\n",
    "            continue\n",
    "        elif command in ['t', 'term']:\n",
    "            term = input(\"enter a term:\"+str(terms)+\":\")\n",
    "            schedule = schedule.term([term]).sort('subject')\n",
    "        elif command in ['s', 'subject']:\n",
    "            subject = input(\"enter a subject:\")\n",
    "            schedule = schedule.subject([subject])\n",
    "        # course  -- filter by subject/coursenumber\n",
    "        elif command in ['c', 'course']:\n",
    "            #TODO\n",
    "            pass\n",
    "        # instructor -- filter by instructor email or lastname\n",
    "        elif command in ['i', 'instructor']:\n",
    "            #TODO\n",
    "            \n",
    "            instructor = input(\"enter instructor last name or email\")\n",
    "           \n",
    "            if \"@\" in instructor:\n",
    "                \n",
    "                schedule = schedule.lastname([instructor])\n",
    "            \n",
    "            if \"@\" not in instructor:\n",
    "\n",
    "                schedule = schedule.email([instructor])\n",
    "                    ## what should i return \n",
    "            pass\n",
    "        # title -- filter by phrase in the title\n",
    "        elif command in ['ti', 'title']:\n",
    "            \n",
    "            t = input(\"enter a title\")\n",
    "\n",
    "            schedule = schedule.title([t])\n",
    "           \n",
    "            pass\n",
    "            # Create your own filter (each team member creates their own)\n",
    "        elif command in ['', '']:\n",
    "            \n",
    "            Gabby = input(\"enter instructor last name or email\")\n",
    "            \n",
    "            #TODO\n",
    "            pass\n",
    "        elif command in ['', '']:\n",
    "            \n",
    "            Ianna = input(\"enter instructor last name or email\")\n",
    "            \n",
    "            #TODO\n",
    "            pass\n",
    "        elif command in ['', '']:\n",
    "            \n",
    "            Nazari = input(\"enter instructor last name or email\")\n",
    "            \n",
    "            #TODO\n",
    "            pass\n",
    "        elif command in ['', '']:\n",
    "            \n",
    "            Tiffany = input(\"enter instructor last name or email\")\n",
    "            \n",
    "            #TODO\n",
    "            pass\n",
    "        else:\n",
    "            print('command', command, 'is not supported')\n",
    "            continue\n",
    "\n",
    "        print(\"courses has\", len(schedule.courses), 'elements', end=\"\\n\\n\")\n",
    "        print('here are the first 10')\n",
    "        for course in schedule.courses[:10]:\n",
    "            print_course(course)\n",
    "        print('\\n'*3)"
   ]
  },
  {
   "cell_type": "code",
   "execution_count": 30,
   "id": "7d2be936",
   "metadata": {},
   "outputs": [
    {
     "name": "stdout",
     "output_type": "stream",
     "text": [
      ">> (h for help) ti\n",
      "enter a titlecosi\n"
     ]
    },
    {
     "ename": "AttributeError",
     "evalue": "'Schedule' object has no attribute 'title'",
     "output_type": "error",
     "traceback": [
      "\u001b[0;31m---------------------------------------------------------------------------\u001b[0m",
      "\u001b[0;31mAttributeError\u001b[0m                            Traceback (most recent call last)",
      "\u001b[0;32m<ipython-input-30-d9ee036039db>\u001b[0m in \u001b[0;36m<module>\u001b[0;34m\u001b[0m\n\u001b[1;32m      7\u001b[0m \u001b[0;34m\u001b[0m\u001b[0m\n\u001b[1;32m      8\u001b[0m \u001b[0;32mif\u001b[0m \u001b[0m__name__\u001b[0m \u001b[0;34m==\u001b[0m \u001b[0;34m'__main__'\u001b[0m\u001b[0;34m:\u001b[0m\u001b[0;34m\u001b[0m\u001b[0;34m\u001b[0m\u001b[0m\n\u001b[0;32m----> 9\u001b[0;31m     \u001b[0mtopmenu\u001b[0m\u001b[0;34m(\u001b[0m\u001b[0;34m)\u001b[0m\u001b[0;34m\u001b[0m\u001b[0;34m\u001b[0m\u001b[0m\n\u001b[0m",
      "\u001b[0;32m<ipython-input-29-5fa584fb01e6>\u001b[0m in \u001b[0;36mtopmenu\u001b[0;34m()\u001b[0m\n\u001b[1;32m     46\u001b[0m             \u001b[0mt\u001b[0m \u001b[0;34m=\u001b[0m \u001b[0minput\u001b[0m\u001b[0;34m(\u001b[0m\u001b[0;34m\"enter a title\"\u001b[0m\u001b[0;34m)\u001b[0m\u001b[0;34m\u001b[0m\u001b[0;34m\u001b[0m\u001b[0m\n\u001b[1;32m     47\u001b[0m \u001b[0;34m\u001b[0m\u001b[0m\n\u001b[0;32m---> 48\u001b[0;31m             \u001b[0mschedule\u001b[0m \u001b[0;34m=\u001b[0m \u001b[0mschedule\u001b[0m\u001b[0;34m.\u001b[0m\u001b[0mtitle\u001b[0m\u001b[0;34m(\u001b[0m\u001b[0;34m[\u001b[0m\u001b[0mt\u001b[0m\u001b[0;34m]\u001b[0m\u001b[0;34m)\u001b[0m\u001b[0;34m\u001b[0m\u001b[0;34m\u001b[0m\u001b[0m\n\u001b[0m\u001b[1;32m     49\u001b[0m \u001b[0;34m\u001b[0m\u001b[0m\n\u001b[1;32m     50\u001b[0m             \u001b[0;32mpass\u001b[0m\u001b[0;34m\u001b[0m\u001b[0;34m\u001b[0m\u001b[0m\n",
      "\u001b[0;31mAttributeError\u001b[0m: 'Schedule' object has no attribute 'title'"
     ]
    }
   ],
   "source": [
    "def print_course(course):\n",
    "    '''\n",
    "    print_course prints a brief description of the course \n",
    "    '''\n",
    "    print(course['subject'], course['coursenum'], course['section'],\n",
    "          course['name'], course['term'], course['instructor'])\n",
    "\n",
    "if __name__ == '__main__':\n",
    "    topmenu()"
   ]
  },
  {
   "cell_type": "code",
   "execution_count": null,
   "id": "dc247e9d",
   "metadata": {},
   "outputs": [],
   "source": []
  },
  {
   "cell_type": "code",
   "execution_count": null,
   "id": "4c9496c1",
   "metadata": {},
   "outputs": [],
   "source": []
  }
 ],
 "metadata": {
  "kernelspec": {
   "display_name": "Python 3",
   "language": "python",
   "name": "python3"
  }
 },
 "nbformat": 4,
 "nbformat_minor": 5
}
