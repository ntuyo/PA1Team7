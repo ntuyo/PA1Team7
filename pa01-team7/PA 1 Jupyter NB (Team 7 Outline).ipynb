{
 "cells": [
  {
   "cell_type": "markdown",
   "metadata": {},
   "source": [
    "# PA 1 Jupyter NB (Team 7 Outline)"
   ]
  },
  {
   "cell_type": "code",
   "execution_count": null,
   "metadata": {},
   "outputs": [],
   "source": [
    "import json"
   ]
  },
  {
   "cell_type": "code",
   "execution_count": null,
   "metadata": {},
   "outputs": [],
   "source": [
    "with open(\"courses20-21.json\",\"r\",encoding='utf-8') as jsonfile:\n",
    "    courses = json.load(jsonfile)"
   ]
  },
  {
   "cell_type": "markdown",
   "metadata": {},
   "source": [
    "## Structure of a course\n",
    "Next we look at the fields of each course dictionary and their values"
   ]
  },
  {
   "cell_type": "code",
   "execution_count": null,
   "metadata": {},
   "outputs": [],
   "source": [
    "print('there are',len(courses),'courses in the dataset')\n",
    "print('here is the data for course 1246')\n",
    "courses[1246]"
   ]
  },
  {
   "cell_type": "markdown",
   "metadata": {},
   "source": [
    "## Cleaning the data\n",
    "If we want to sort courses by instructor or by code, we need to replace the lists with tuples (which are immutable lists)"
   ]
  },
  {
   "cell_type": "code",
   "execution_count": null,
   "metadata": {},
   "outputs": [],
   "source": [
    "for course in courses:\n",
    "        course['instructor'] = tuple(course['instructor'])\n",
    "        course['coinstructors'] = tuple([tuple(f) for f in course['coinstructors']])\n",
    "        course['code']= tuple(course['code'])"
   ]
  },
  {
   "cell_type": "code",
   "execution_count": null,
   "metadata": {},
   "outputs": [],
   "source": [
    "print('notice that the instructor and code are tuples now')\n",
    "courses[1246]"
   ]
  },
  {
   "cell_type": "markdown",
   "metadata": {},
   "source": [
    "# Exploring the data set\n",
    "Now we will show how to use straight python to explore the data set and answer some interesting questions. Next week we will start learning Pandas/Numpy which are packages that make it easier to explore large dataset efficiently.\n",
    "\n",
    "Here are some questions we can try to asnwer:\n",
    "* what are all of the subjects of courses (e.g. COSI, MATH, JAPN, PHIL, ...)\n",
    "* which terms are represented?\n",
    "* how many instructors taught at Brandeis last year?\n",
    "* what were the five largest course sections?\n",
    "* what were the five largest courses (where we combine sections)?\n",
    "* which are the five largest subjects measured by number of courses offered?\n",
    "* which are the five largest courses measured by number of students taught?\n",
    "* which course had the most sections taught in 20-21?\n",
    "* who are the top five faculty in terms of number of students taught?\n",
    "* etc."
   ]
  },
  {
   "cell_type": "code",
   "execution_count": null,
   "metadata": {},
   "outputs": [],
   "source": [
    "# number of subjects\n",
    "len({c['subject'] for c in courses})"
   ]
  },
  {
   "cell_type": "code",
   "execution_count": null,
   "metadata": {},
   "outputs": [],
   "source": [
    "# instructors\n",
    "len({c['instructor'] for c in courses})"
   ]
  },
  {
   "cell_type": "markdown",
   "metadata": {},
   "source": [
    "A. How many faculty taught COSI courses last year?"
   ]
  },
  {
   "cell_type": "code",
   "execution_count": null,
   "metadata": {},
   "outputs": [],
   "source": [
    "#Completed by Tiffany Huang"
   ]
  },
  {
   "cell_type": "code",
   "execution_count": null,
   "metadata": {},
   "outputs": [],
   "source": [
    "len({course['instructor'] for course in courses if course['subject'] == 'COSI' })"
   ]
  },
  {
   "cell_type": "markdown",
   "metadata": {},
   "source": [
    "B. What is the total number of students taking COSI courses last year?"
   ]
  },
  {
   "cell_type": "code",
   "execution_count": null,
   "metadata": {},
   "outputs": [],
   "source": [
    "#Completed by Tiffany Huang"
   ]
  },
  {
   "cell_type": "code",
   "execution_count": null,
   "metadata": {},
   "outputs": [],
   "source": [
    "sum({course['enrolled'] for course in courses if course['subject'] == 'COSI'})"
   ]
  },
  {
   "cell_type": "markdown",
   "metadata": {},
   "source": [
    "C. What was the median size of a COSI course last year (counting only those courses with at least 10 students)"
   ]
  },
  {
   "cell_type": "code",
   "execution_count": null,
   "metadata": {},
   "outputs": [],
   "source": [
    "#Completed by Nazari Tuyo"
   ]
  },
  {
   "cell_type": "code",
   "execution_count": null,
   "metadata": {},
   "outputs": [],
   "source": [
    "import statistics\n",
    "statistics.median({course['enrolled'] for course in courses if course['subject'] == 'COSI' and course['enrolled'] > 10})"
   ]
  },
  {
   "cell_type": "markdown",
   "metadata": {},
   "source": [
    "D. Create a list of tuples (E,S) where S is a subject and E is the number of students enrolled in courses in that subject, sort it and print the top 10. This shows the top 10 subjects in terms of number of students taught."
   ]
  },
  {
   "cell_type": "code",
   "execution_count": null,
   "metadata": {},
   "outputs": [],
   "source": [
    "#Completed by Nazari Tuyo"
   ]
  },
  {
   "cell_type": "code",
   "execution_count": null,
   "metadata": {},
   "outputs": [],
   "source": [
    "def return_num(class_tuple):\n",
    "    return class_tuple[1]\n",
    "\n",
    "courses_and_enrollment = {}\n",
    "for course in courses:\n",
    "    if(course['subject'] in courses_and_enrollment):\n",
    "        courses_and_enrollment[course['subject']] += course['enrolled']\n",
    "    else: \n",
    "        courses_and_enrollment[course['subject']] = (course['enrolled']) \n",
    "tuples = [(k, v) for k, v in courses_and_enrollment.items()]\n",
    "tuples.sort(key = return_num, reverse = True)\n",
    "for i in range(1, 10):\n",
    "    print(tuples[i][0])"
   ]
  },
  {
   "cell_type": "markdown",
   "metadata": {},
   "source": [
    "E. Do the same as in (d) but print the top 10 subjects in terms of number of courses offered"
   ]
  },
  {
   "cell_type": "code",
   "execution_count": null,
   "metadata": {},
   "outputs": [],
   "source": [
    "#Completed by Nazari Tuyo"
   ]
  },
  {
   "cell_type": "code",
   "execution_count": null,
   "metadata": {},
   "outputs": [],
   "source": [
    "num_courses_offered = {}\n",
    "for course in courses:\n",
    "    if(course['subject'] in num_courses_offered):\n",
    "        num_courses_offered[course['subject']] += 1\n",
    "    else:\n",
    "        num_courses_offered[course['subject']] = 1\n",
    "\n",
    "num_tuples = [(k, v) for k, v in num_courses_offered.items()]\n",
    "num_tuples.sort(key = return_num, reverse = True)\n",
    "for i in range(1, 10):\n",
    "    print(num_tuples[i][0])"
   ]
  },
  {
   "cell_type": "markdown",
   "metadata": {},
   "source": [
    "F. Do the same as (d) but print the top 10 subjects in terms of number of faculty teaching courses in that subject"
   ]
  },
  {
   "cell_type": "code",
   "execution_count": null,
   "metadata": {},
   "outputs": [],
   "source": [
    "#Completed by Nazari Tuyo"
   ]
  },
  {
   "cell_type": "code",
   "execution_count": null,
   "metadata": {},
   "outputs": [],
   "source": [
    "faculty_subject_offered = {}\n",
    "for course in courses:\n",
    "    if(course['subject'] in faculty_subject_offered):\n",
    "        faculty_subject_offered[course['subject']] += len([course['instructor']])\n",
    "    else:\n",
    "        faculty_subject_offered[course['subject']] = 1\n",
    "\n",
    "num_tuples = [(k, v) for k, v in faculty_subject_offered.items()]\n",
    "num_tuples.sort(key = return_num, reverse = True)\n",
    "for i in range(1, 10):\n",
    "    print(num_tuples[i])"
   ]
  },
  {
   "cell_type": "markdown",
   "metadata": {},
   "source": [
    "G. List the top 20 faculty in terms of number of students they taught"
   ]
  },
  {
   "cell_type": "code",
   "execution_count": null,
   "metadata": {},
   "outputs": [],
   "source": [
    "#Completed by Tiffany Huang"
   ]
  },
  {
   "cell_type": "code",
   "execution_count": null,
   "metadata": {},
   "outputs": [],
   "source": [
    "faculty = [(c['instructor'],c['enrolled']) for c in courses]\n",
    "faculty += [(co,c['enrolled']) for c in courses for co in c['coinstructors']]\n",
    "fcount = {} #dict of teacher and #students\n",
    "\n",
    "for t in faculty:\n",
    "    if t[0] in fcount: #in keyword checks if in dict already\n",
    "        fcount[t[0]] = fcount[t[0]] + t[1] #t[0] = teachers, t[1] = # students, \n",
    "        #if teacher already counted, add t[1] to teacher\n",
    "    else:\n",
    "        fcount[t[0]] = t[1] #if haven't taught students yet, make new value pair for that pairs\n",
    "unsorted = [(k,fcount[k]) for k in fcount.keys()]\n",
    "s = sorted(unsorted,reverse = True, key = lambda x: x[1]) #x[1] = all the students they taught\n",
    "s = [t[0][0:2] for t in s][:20] #[0:2] represents the first name and last name of the professor phew\n",
    "for f in s:\n",
    "    print(f)"
   ]
  },
  {
   "cell_type": "markdown",
   "metadata": {},
   "source": [
    "H. List the top 20 courses in terms of number of students taking that course (where you combine different sections and semesters, i.e. just use the subject and course number)"
   ]
  },
  {
   "cell_type": "code",
   "execution_count": null,
   "metadata": {},
   "outputs": [],
   "source": [
    "#Completed by Tiffany Huang"
   ]
  },
  {
   "cell_type": "code",
   "execution_count": null,
   "metadata": {},
   "outputs": [],
   "source": [
    "ctotals = [c['enrolled'] for c in courses]\n",
    "ctotals.sort(reverse=True) \n",
    "cs = [c for c in courses if c['enrolled'] in ctotals[:20]]\n",
    "cs = sorted(cs, key = lambda x: x['enrolled'], reverse = True)\n",
    "cs\n",
    "#grabs the first 20 subjects based on the first 20 courses with the most enrolled"
   ]
  },
  {
   "cell_type": "markdown",
   "metadata": {},
   "source": [
    "I. Create your own interesting question (each team member creates their own) and use Python to answer that question."
   ]
  },
  {
   "cell_type": "code",
   "execution_count": null,
   "metadata": {},
   "outputs": [],
   "source": [
    "# Written by Nazari Tuyo\n",
    "# The sum of all students that were enrolled in chinese and COSI classes, my two majors :)"
   ]
  },
  {
   "cell_type": "code",
   "execution_count": null,
   "metadata": {},
   "outputs": [],
   "source": [
    "sum({course['enrolled'] for course in courses if course['subject'] == 'COSI'}) + sum({course['enrolled'] for course in courses if course['subject'] == 'CHIN'})"
   ]
  },
  {
   "cell_type": "code",
   "execution_count": null,
   "metadata": {},
   "outputs": [],
   "source": [
    "# Written by Jimkelly Percine\n",
    "# searched for all courses that have health in their name"
   ]
  },
  {
   "cell_type": "code",
   "execution_count": null,
   "metadata": {},
   "outputs": [],
   "source": [
    "({c['name'] for c in courses if 'Health' in c['name']})"
   ]
  },
  {
   "cell_type": "code",
   "execution_count": null,
   "metadata": {},
   "outputs": [],
   "source": [
    "# Written by Tiffany Huang\n",
    "# how many students were waiting for classes last year?\n",
    "# how many students were waiting when the class was open?"
   ]
  },
  {
   "cell_type": "code",
   "execution_count": null,
   "metadata": {},
   "outputs": [],
   "source": [
    "len({c['waiting'] for c in courses})\n",
    "\n",
    "len({c['waiting'] for c in courses if c['status_text'] == 'Open'})"
   ]
  },
  {
   "cell_type": "code",
   "execution_count": null,
   "metadata": {},
   "outputs": [],
   "source": [
    "# Written by Gabby Pile\n",
    "# linguistic courses without a limit that had students enrolled at the same"
   ]
  },
  {
   "cell_type": "code",
   "execution_count": null,
   "metadata": {},
   "outputs": [],
   "source": [
    "len({course['enrolled'] for course in courses if course['subject'] == 'LING' if course['limit']})"
   ]
  }
 ],
 "metadata": {
  "kernelspec": {
   "display_name": "Python 3",
   "language": "python",
   "name": "python3"
  },
  "language_info": {
   "codemirror_mode": {
    "name": "ipython",
    "version": 3
   },
   "file_extension": ".py",
   "mimetype": "text/x-python",
   "name": "python",
   "nbconvert_exporter": "python",
   "pygments_lexer": "ipython3",
   "version": "3.8.8"
  }
 },
 "nbformat": 4,
 "nbformat_minor": 4
}
